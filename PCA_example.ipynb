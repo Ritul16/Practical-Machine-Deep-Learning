{
 "cells": [
  {
   "cell_type": "code",
   "execution_count": 4,
   "metadata": {
    "executionInfo": {
     "elapsed": 395,
     "status": "ok",
     "timestamp": 1673957178768,
     "user": {
      "displayName": "IACSD Akurdi",
      "userId": "10433988175144222979"
     },
     "user_tz": -330
    },
    "id": "xTzKZ5EvncFO"
   },
   "outputs": [],
   "source": [
    "import pandas as pd"
   ]
  },
  {
   "cell_type": "code",
   "execution_count": 5,
   "metadata": {
    "executionInfo": {
     "elapsed": 2342,
     "status": "ok",
     "timestamp": 1673957189284,
     "user": {
      "displayName": "IACSD Akurdi",
      "userId": "10433988175144222979"
     },
     "user_tz": -330
    },
    "id": "5OBc5lk0n4-Z"
   },
   "outputs": [],
   "source": [
    "df = pd.read_csv(\"BankChurners.csv\")"
   ]
  },
  {
   "cell_type": "code",
   "execution_count": 6,
   "metadata": {},
   "outputs": [
    {
     "data": {
      "text/plain": [
       "Index(['Attrition_Flag', 'Customer_Age', 'Gender', 'Dependent_count',\n",
       "       'Education_Level', 'Marital_Status', 'Income_Category', 'Card_Category',\n",
       "       'Months_on_book', 'Total_Relationship_Count', 'Months_Inactive_12_mon',\n",
       "       'Contacts_Count_12_mon', 'Credit_Limit', 'Total_Revolving_Bal',\n",
       "       'Avg_Open_To_Buy', 'Total_Amt_Chng_Q4_Q1', 'Total_Trans_Amt',\n",
       "       'Total_Trans_Ct', 'Total_Ct_Chng_Q4_Q1', 'Avg_Utilization_Ratio'],\n",
       "      dtype='object')"
      ]
     },
     "execution_count": 6,
     "metadata": {},
     "output_type": "execute_result"
    }
   ],
   "source": [
    "df.columns"
   ]
  },
  {
   "cell_type": "code",
   "execution_count": 7,
   "metadata": {},
   "outputs": [
    {
     "name": "stdout",
     "output_type": "stream",
     "text": [
      "<class 'pandas.core.frame.DataFrame'>\n",
      "RangeIndex: 10127 entries, 0 to 10126\n",
      "Data columns (total 20 columns):\n",
      " #   Column                    Non-Null Count  Dtype  \n",
      "---  ------                    --------------  -----  \n",
      " 0   Attrition_Flag            10127 non-null  object \n",
      " 1   Customer_Age              10127 non-null  int64  \n",
      " 2   Gender                    10127 non-null  object \n",
      " 3   Dependent_count           10127 non-null  int64  \n",
      " 4   Education_Level           10127 non-null  object \n",
      " 5   Marital_Status            10127 non-null  object \n",
      " 6   Income_Category           10127 non-null  object \n",
      " 7   Card_Category             10127 non-null  object \n",
      " 8   Months_on_book            10127 non-null  int64  \n",
      " 9   Total_Relationship_Count  10127 non-null  int64  \n",
      " 10  Months_Inactive_12_mon    10127 non-null  int64  \n",
      " 11  Contacts_Count_12_mon     10127 non-null  int64  \n",
      " 12  Credit_Limit              10127 non-null  float64\n",
      " 13  Total_Revolving_Bal       10127 non-null  int64  \n",
      " 14  Avg_Open_To_Buy           10127 non-null  float64\n",
      " 15  Total_Amt_Chng_Q4_Q1      10127 non-null  float64\n",
      " 16  Total_Trans_Amt           10127 non-null  int64  \n",
      " 17  Total_Trans_Ct            10127 non-null  int64  \n",
      " 18  Total_Ct_Chng_Q4_Q1       10127 non-null  float64\n",
      " 19  Avg_Utilization_Ratio     10127 non-null  float64\n",
      "dtypes: float64(5), int64(9), object(6)\n",
      "memory usage: 1.5+ MB\n"
     ]
    }
   ],
   "source": [
    "df.info()"
   ]
  },
  {
   "cell_type": "markdown",
   "metadata": {},
   "source": [
    "# Drop Attrition_flag column "
   ]
  },
  {
   "cell_type": "code",
   "execution_count": 8,
   "metadata": {},
   "outputs": [],
   "source": [
    "df.drop(['Attrition_Flag'],axis=1,inplace=True)"
   ]
  },
  {
   "cell_type": "code",
   "execution_count": 9,
   "metadata": {
    "executionInfo": {
     "elapsed": 626,
     "status": "ok",
     "timestamp": 1673957205044,
     "user": {
      "displayName": "IACSD Akurdi",
      "userId": "10433988175144222979"
     },
     "user_tz": -330
    },
    "id": "um_60mvBn9di"
   },
   "outputs": [],
   "source": [
    "df_ohe = pd.get_dummies(df)"
   ]
  },
  {
   "cell_type": "code",
   "execution_count": 10,
   "metadata": {
    "colab": {
     "base_uri": "https://localhost:8080/"
    },
    "executionInfo": {
     "elapsed": 402,
     "status": "ok",
     "timestamp": 1673957215226,
     "user": {
      "displayName": "IACSD Akurdi",
      "userId": "10433988175144222979"
     },
     "user_tz": -330
    },
    "id": "5cpeM12ln_ZX",
    "outputId": "7048adc6-0132-4829-d903-824bc4fc0062"
   },
   "outputs": [
    {
     "data": {
      "text/plain": [
       "(10127, 37)"
      ]
     },
     "execution_count": 10,
     "metadata": {},
     "output_type": "execute_result"
    }
   ],
   "source": [
    "df_ohe.shape"
   ]
  },
  {
   "cell_type": "markdown",
   "metadata": {},
   "source": [
    "# Standardize the data"
   ]
  },
  {
   "cell_type": "code",
   "execution_count": 11,
   "metadata": {},
   "outputs": [],
   "source": [
    "from sklearn.preprocessing import StandardScaler"
   ]
  },
  {
   "cell_type": "code",
   "execution_count": 13,
   "metadata": {},
   "outputs": [],
   "source": [
    "X_ohe_std = StandardScaler().fit_transform(df_ohe)"
   ]
  },
  {
   "cell_type": "markdown",
   "metadata": {
    "id": "x-5mwaNLoKpP"
   },
   "source": [
    "# Apply PCA"
   ]
  },
  {
   "cell_type": "code",
   "execution_count": 14,
   "metadata": {
    "executionInfo": {
     "elapsed": 5,
     "status": "ok",
     "timestamp": 1673957324083,
     "user": {
      "displayName": "IACSD Akurdi",
      "userId": "10433988175144222979"
     },
     "user_tz": -330
    },
    "id": "dbe5_KJkoIiY"
   },
   "outputs": [],
   "source": [
    "from sklearn.decomposition import PCA"
   ]
  },
  {
   "cell_type": "code",
   "execution_count": 15,
   "metadata": {
    "executionInfo": {
     "elapsed": 394,
     "status": "ok",
     "timestamp": 1673957438222,
     "user": {
      "displayName": "IACSD Akurdi",
      "userId": "10433988175144222979"
     },
     "user_tz": -330
    },
    "id": "QK4Bh0Ncob2o"
   },
   "outputs": [],
   "source": [
    "# object of pcs\n",
    "pca = PCA(random_state=7)"
   ]
  },
  {
   "cell_type": "code",
   "execution_count": 16,
   "metadata": {
    "colab": {
     "base_uri": "https://localhost:8080/"
    },
    "executionInfo": {
     "elapsed": 395,
     "status": "ok",
     "timestamp": 1673957474535,
     "user": {
      "displayName": "IACSD Akurdi",
      "userId": "10433988175144222979"
     },
     "user_tz": -330
    },
    "id": "u1JimX6eo3_u",
    "outputId": "8e34fea6-707c-4512-95e6-f2466d6d74b5"
   },
   "outputs": [
    {
     "data": {
      "text/plain": [
       "PCA(random_state=7)"
      ]
     },
     "execution_count": 16,
     "metadata": {},
     "output_type": "execute_result"
    }
   ],
   "source": [
    "pca.fit(X_ohe_std)"
   ]
  },
  {
   "cell_type": "code",
   "execution_count": 17,
   "metadata": {
    "executionInfo": {
     "elapsed": 527,
     "status": "ok",
     "timestamp": 1673957549165,
     "user": {
      "displayName": "IACSD Akurdi",
      "userId": "10433988175144222979"
     },
     "user_tz": -330
    },
    "id": "M5Zc1RoZpGEl"
   },
   "outputs": [],
   "source": [
    "trans_data = pca.transform(X_ohe_std)"
   ]
  },
  {
   "cell_type": "code",
   "execution_count": 18,
   "metadata": {
    "colab": {
     "base_uri": "https://localhost:8080/"
    },
    "executionInfo": {
     "elapsed": 11,
     "status": "ok",
     "timestamp": 1673957589892,
     "user": {
      "displayName": "IACSD Akurdi",
      "userId": "10433988175144222979"
     },
     "user_tz": -330
    },
    "id": "I3u1JAAEpS_l",
    "outputId": "debf7c6f-df3b-45b0-f1b9-6e3c90ec6430"
   },
   "outputs": [
    {
     "data": {
      "text/plain": [
       "numpy.ndarray"
      ]
     },
     "execution_count": 18,
     "metadata": {},
     "output_type": "execute_result"
    }
   ],
   "source": [
    "type(trans_data)"
   ]
  },
  {
   "cell_type": "code",
   "execution_count": 20,
   "metadata": {
    "executionInfo": {
     "elapsed": 381,
     "status": "ok",
     "timestamp": 1673957646071,
     "user": {
      "displayName": "IACSD Akurdi",
      "userId": "10433988175144222979"
     },
     "user_tz": -330
    },
    "id": "Z9M-iyvkpdG-"
   },
   "outputs": [],
   "source": [
    "df_trans = pd.DataFrame(trans_data) #, index=X_ohe_std.index)"
   ]
  },
  {
   "cell_type": "code",
   "execution_count": 21,
   "metadata": {
    "colab": {
     "base_uri": "https://localhost:8080/",
     "height": 299
    },
    "executionInfo": {
     "elapsed": 17,
     "status": "ok",
     "timestamp": 1673957655302,
     "user": {
      "displayName": "IACSD Akurdi",
      "userId": "10433988175144222979"
     },
     "user_tz": -330
    },
    "id": "Y0AQ9SEQpp99",
    "outputId": "8b98b47e-7bb5-4f55-f8b3-94bc323008b7"
   },
   "outputs": [
    {
     "data": {
      "text/html": [
       "<div>\n",
       "<style scoped>\n",
       "    .dataframe tbody tr th:only-of-type {\n",
       "        vertical-align: middle;\n",
       "    }\n",
       "\n",
       "    .dataframe tbody tr th {\n",
       "        vertical-align: top;\n",
       "    }\n",
       "\n",
       "    .dataframe thead th {\n",
       "        text-align: right;\n",
       "    }\n",
       "</style>\n",
       "<table border=\"1\" class=\"dataframe\">\n",
       "  <thead>\n",
       "    <tr style=\"text-align: right;\">\n",
       "      <th></th>\n",
       "      <th>0</th>\n",
       "      <th>1</th>\n",
       "      <th>2</th>\n",
       "      <th>3</th>\n",
       "      <th>4</th>\n",
       "      <th>5</th>\n",
       "      <th>6</th>\n",
       "      <th>7</th>\n",
       "      <th>8</th>\n",
       "      <th>9</th>\n",
       "      <th>...</th>\n",
       "      <th>27</th>\n",
       "      <th>28</th>\n",
       "      <th>29</th>\n",
       "      <th>30</th>\n",
       "      <th>31</th>\n",
       "      <th>32</th>\n",
       "      <th>33</th>\n",
       "      <th>34</th>\n",
       "      <th>35</th>\n",
       "      <th>36</th>\n",
       "    </tr>\n",
       "  </thead>\n",
       "  <tbody>\n",
       "    <tr>\n",
       "      <th>0</th>\n",
       "      <td>1.499179</td>\n",
       "      <td>-2.381809</td>\n",
       "      <td>-1.206188</td>\n",
       "      <td>-0.896605</td>\n",
       "      <td>1.532537</td>\n",
       "      <td>0.745319</td>\n",
       "      <td>2.989269</td>\n",
       "      <td>1.567728</td>\n",
       "      <td>0.589484</td>\n",
       "      <td>3.465206</td>\n",
       "      <td>...</td>\n",
       "      <td>0.004412</td>\n",
       "      <td>-0.388781</td>\n",
       "      <td>-0.127122</td>\n",
       "      <td>-0.004202</td>\n",
       "      <td>8.760354e-17</td>\n",
       "      <td>-3.608225e-16</td>\n",
       "      <td>-4.683753e-16</td>\n",
       "      <td>-1.387779e-16</td>\n",
       "      <td>7.077672e-16</td>\n",
       "      <td>-5.950102e-16</td>\n",
       "    </tr>\n",
       "    <tr>\n",
       "      <th>1</th>\n",
       "      <td>-1.363516</td>\n",
       "      <td>0.652538</td>\n",
       "      <td>-1.519134</td>\n",
       "      <td>-1.460651</td>\n",
       "      <td>0.906348</td>\n",
       "      <td>3.581272</td>\n",
       "      <td>4.943736</td>\n",
       "      <td>8.011494</td>\n",
       "      <td>-0.185840</td>\n",
       "      <td>4.069410</td>\n",
       "      <td>...</td>\n",
       "      <td>0.758259</td>\n",
       "      <td>-0.107259</td>\n",
       "      <td>-0.518094</td>\n",
       "      <td>0.583235</td>\n",
       "      <td>-2.521421e-15</td>\n",
       "      <td>1.249001e-15</td>\n",
       "      <td>-1.883910e-15</td>\n",
       "      <td>-5.828671e-16</td>\n",
       "      <td>1.075529e-15</td>\n",
       "      <td>-6.366435e-16</td>\n",
       "    </tr>\n",
       "    <tr>\n",
       "      <th>2</th>\n",
       "      <td>0.943141</td>\n",
       "      <td>-2.251733</td>\n",
       "      <td>-2.375227</td>\n",
       "      <td>-2.286540</td>\n",
       "      <td>2.498943</td>\n",
       "      <td>1.357723</td>\n",
       "      <td>4.412302</td>\n",
       "      <td>7.613436</td>\n",
       "      <td>0.401673</td>\n",
       "      <td>3.873443</td>\n",
       "      <td>...</td>\n",
       "      <td>-0.194322</td>\n",
       "      <td>0.642761</td>\n",
       "      <td>-0.293466</td>\n",
       "      <td>0.481017</td>\n",
       "      <td>-1.577731e-15</td>\n",
       "      <td>1.637579e-15</td>\n",
       "      <td>-6.349088e-16</td>\n",
       "      <td>1.137979e-15</td>\n",
       "      <td>8.257284e-16</td>\n",
       "      <td>-3.989864e-17</td>\n",
       "    </tr>\n",
       "    <tr>\n",
       "      <th>3</th>\n",
       "      <td>-2.504815</td>\n",
       "      <td>0.208400</td>\n",
       "      <td>-2.349401</td>\n",
       "      <td>-1.385722</td>\n",
       "      <td>1.728369</td>\n",
       "      <td>3.194159</td>\n",
       "      <td>3.827787</td>\n",
       "      <td>2.319379</td>\n",
       "      <td>-0.817034</td>\n",
       "      <td>1.243960</td>\n",
       "      <td>...</td>\n",
       "      <td>0.419959</td>\n",
       "      <td>-0.118575</td>\n",
       "      <td>-0.312310</td>\n",
       "      <td>0.732271</td>\n",
       "      <td>-2.188354e-15</td>\n",
       "      <td>3.608225e-16</td>\n",
       "      <td>-1.661865e-15</td>\n",
       "      <td>4.718448e-16</td>\n",
       "      <td>5.481726e-16</td>\n",
       "      <td>3.070461e-16</td>\n",
       "    </tr>\n",
       "    <tr>\n",
       "      <th>4</th>\n",
       "      <td>0.841201</td>\n",
       "      <td>-2.136735</td>\n",
       "      <td>-3.821835</td>\n",
       "      <td>-0.558848</td>\n",
       "      <td>2.910290</td>\n",
       "      <td>1.343300</td>\n",
       "      <td>5.605490</td>\n",
       "      <td>5.199045</td>\n",
       "      <td>0.719516</td>\n",
       "      <td>4.802453</td>\n",
       "      <td>...</td>\n",
       "      <td>-0.293968</td>\n",
       "      <td>0.777825</td>\n",
       "      <td>0.033271</td>\n",
       "      <td>0.208344</td>\n",
       "      <td>-1.577731e-15</td>\n",
       "      <td>-8.326673e-17</td>\n",
       "      <td>-4.683753e-16</td>\n",
       "      <td>5.828671e-16</td>\n",
       "      <td>1.873501e-15</td>\n",
       "      <td>-2.896988e-16</td>\n",
       "    </tr>\n",
       "  </tbody>\n",
       "</table>\n",
       "<p>5 rows × 37 columns</p>\n",
       "</div>"
      ],
      "text/plain": [
       "         0         1         2         3         4         5         6   \\\n",
       "0  1.499179 -2.381809 -1.206188 -0.896605  1.532537  0.745319  2.989269   \n",
       "1 -1.363516  0.652538 -1.519134 -1.460651  0.906348  3.581272  4.943736   \n",
       "2  0.943141 -2.251733 -2.375227 -2.286540  2.498943  1.357723  4.412302   \n",
       "3 -2.504815  0.208400 -2.349401 -1.385722  1.728369  3.194159  3.827787   \n",
       "4  0.841201 -2.136735 -3.821835 -0.558848  2.910290  1.343300  5.605490   \n",
       "\n",
       "         7         8         9   ...        27        28        29        30  \\\n",
       "0  1.567728  0.589484  3.465206  ...  0.004412 -0.388781 -0.127122 -0.004202   \n",
       "1  8.011494 -0.185840  4.069410  ...  0.758259 -0.107259 -0.518094  0.583235   \n",
       "2  7.613436  0.401673  3.873443  ... -0.194322  0.642761 -0.293466  0.481017   \n",
       "3  2.319379 -0.817034  1.243960  ...  0.419959 -0.118575 -0.312310  0.732271   \n",
       "4  5.199045  0.719516  4.802453  ... -0.293968  0.777825  0.033271  0.208344   \n",
       "\n",
       "             31            32            33            34            35  \\\n",
       "0  8.760354e-17 -3.608225e-16 -4.683753e-16 -1.387779e-16  7.077672e-16   \n",
       "1 -2.521421e-15  1.249001e-15 -1.883910e-15 -5.828671e-16  1.075529e-15   \n",
       "2 -1.577731e-15  1.637579e-15 -6.349088e-16  1.137979e-15  8.257284e-16   \n",
       "3 -2.188354e-15  3.608225e-16 -1.661865e-15  4.718448e-16  5.481726e-16   \n",
       "4 -1.577731e-15 -8.326673e-17 -4.683753e-16  5.828671e-16  1.873501e-15   \n",
       "\n",
       "             36  \n",
       "0 -5.950102e-16  \n",
       "1 -6.366435e-16  \n",
       "2 -3.989864e-17  \n",
       "3  3.070461e-16  \n",
       "4 -2.896988e-16  \n",
       "\n",
       "[5 rows x 37 columns]"
      ]
     },
     "execution_count": 21,
     "metadata": {},
     "output_type": "execute_result"
    }
   ],
   "source": [
    "df_trans.head()"
   ]
  },
  {
   "cell_type": "code",
   "execution_count": 23,
   "metadata": {},
   "outputs": [
    {
     "data": {
      "text/plain": [
       "37"
      ]
     },
     "execution_count": 23,
     "metadata": {},
     "output_type": "execute_result"
    }
   ],
   "source": [
    "pca.n_components_"
   ]
  },
  {
   "cell_type": "code",
   "execution_count": 44,
   "metadata": {
    "colab": {
     "base_uri": "https://localhost:8080/"
    },
    "executionInfo": {
     "elapsed": 7,
     "status": "ok",
     "timestamp": 1673958823979,
     "user": {
      "displayName": "IACSD Akurdi",
      "userId": "10433988175144222979"
     },
     "user_tz": -330
    },
    "id": "Gi3L7J0ss30J",
    "outputId": "d9e73cf0-55f0-43cf-fce8-b37ffc23f018"
   },
   "outputs": [
    {
     "data": {
      "text/plain": [
       "array([-7.57547936e-02,  3.77317629e-02, -7.13462802e-02, -2.00141559e-01,\n",
       "       -2.65776928e-02, -9.09043204e-02,  1.18464782e-01,  1.01243026e-03,\n",
       "        1.18349144e-01, -2.63333726e-03,  3.69927928e-01,  3.80571686e-01,\n",
       "        4.42536169e-02, -3.48746106e-02,  3.21657031e-01, -3.21657031e-01,\n",
       "       -3.32977728e-04,  3.62692743e-03,  1.06117409e-02, -2.46190879e-02,\n",
       "       -1.09580505e-03,  1.05707065e-02,  2.16573380e-03,  2.48339495e-02,\n",
       "       -1.73894560e-01,  1.47815262e-01,  3.10883855e-02, -6.21837568e-02,\n",
       "       -2.63133355e-02, -1.75592334e-01, -1.52178205e-01,  2.09009672e-01,\n",
       "        1.32759624e-01, -3.51388343e-01,  1.50064105e-01,  7.97260734e-02,\n",
       "        3.03576452e-01])"
      ]
     },
     "execution_count": 44,
     "metadata": {},
     "output_type": "execute_result"
    }
   ],
   "source": [
    "pca.components_[1] # coefficients of every column"
   ]
  },
  {
   "cell_type": "markdown",
   "metadata": {
    "id": "bdzh61aQp4ne"
   },
   "source": [
    "# How many components to select?"
   ]
  },
  {
   "cell_type": "code",
   "execution_count": 26,
   "metadata": {
    "colab": {
     "base_uri": "https://localhost:8080/"
    },
    "executionInfo": {
     "elapsed": 400,
     "status": "ok",
     "timestamp": 1673957762705,
     "user": {
      "displayName": "IACSD Akurdi",
      "userId": "10433988175144222979"
     },
     "user_tz": -330
    },
    "id": "0E2dYBInp6_d",
    "outputId": "7652520f-65b5-4bb5-acb4-03a3344bf649"
   },
   "outputs": [
    {
     "data": {
      "text/plain": [
       "array([1.18452941e+01, 6.89364155e+00, 5.26379557e+00, 4.84539766e+00,\n",
       "       4.71339843e+00, 4.09656251e+00, 3.75777386e+00, 3.64126197e+00,\n",
       "       3.51344821e+00, 3.39328005e+00, 3.31233935e+00, 3.23119471e+00,\n",
       "       3.19311072e+00, 3.10777807e+00, 3.04084005e+00, 2.97875223e+00,\n",
       "       2.89543214e+00, 2.89339101e+00, 2.80172766e+00, 2.72080343e+00,\n",
       "       2.71352966e+00, 2.64417986e+00, 2.63277421e+00, 2.43804681e+00,\n",
       "       2.15558747e+00, 1.61593825e+00, 1.45645212e+00, 6.46725224e-01,\n",
       "       5.67393919e-01, 5.48981403e-01, 4.41167849e-01, 2.33607235e-30,\n",
       "       7.52278692e-31, 4.61164809e-31, 1.53569316e-31, 6.35298958e-32,\n",
       "       5.24598510e-33])"
      ]
     },
     "execution_count": 26,
     "metadata": {},
     "output_type": "execute_result"
    }
   ],
   "source": [
    "pca.explained_variance_ratio_ * 100"
   ]
  },
  {
   "cell_type": "code",
   "execution_count": 27,
   "metadata": {
    "colab": {
     "base_uri": "https://localhost:8080/",
     "height": 283
    },
    "executionInfo": {
     "elapsed": 652,
     "status": "ok",
     "timestamp": 1673957883803,
     "user": {
      "displayName": "IACSD Akurdi",
      "userId": "10433988175144222979"
     },
     "user_tz": -330
    },
    "id": "81xUsBqHqWXO",
    "outputId": "c934c3d0-cdd7-4f1d-d14e-f442146ea990"
   },
   "outputs": [
    {
     "data": {
      "text/plain": [
       "[<matplotlib.lines.Line2D at 0xa5fab7d130>]"
      ]
     },
     "execution_count": 27,
     "metadata": {},
     "output_type": "execute_result"
    },
    {
     "data": {
      "image/png": "[encoded data removed]",
      "text/plain": [
       "<Figure size 640x480 with 1 Axes>"
      ]
     },
     "metadata": {},
     "output_type": "display_data"
    }
   ],
   "source": [
    "import matplotlib.pyplot as plt\n",
    "plt.plot(list(range(df_ohe.shape[1])), pca.explained_variance_ratio_)"
   ]
  },
  {
   "cell_type": "markdown",
   "metadata": {
    "id": "RxWebP8vqwZk"
   },
   "source": [
    "# Automated way of selecting number of components"
   ]
  },
  {
   "cell_type": "code",
   "execution_count": 36,
   "metadata": {
    "executionInfo": {
     "elapsed": 5,
     "status": "ok",
     "timestamp": 1673958175439,
     "user": {
      "displayName": "IACSD Akurdi",
      "userId": "10433988175144222979"
     },
     "user_tz": -330
    },
    "id": "HOGzqd7qqwvr"
   },
   "outputs": [],
   "source": [
    "pca1 = PCA(n_components = 0.95, random_state=7 )"
   ]
  },
  {
   "cell_type": "code",
   "execution_count": 40,
   "metadata": {
    "colab": {
     "base_uri": "https://localhost:8080/"
    },
    "executionInfo": {
     "elapsed": 626,
     "status": "ok",
     "timestamp": 1673958214155,
     "user": {
      "displayName": "IACSD Akurdi",
      "userId": "10433988175144222979"
     },
     "user_tz": -330
    },
    "id": "Vx_uQG2Hrrc6",
    "outputId": "3c17dd5d-6c8a-4657-a7ce-56f0b8a55c66"
   },
   "outputs": [
    {
     "data": {
      "text/plain": [
       "PCA(n_components=0.95, random_state=7)"
      ]
     },
     "execution_count": 40,
     "metadata": {},
     "output_type": "execute_result"
    }
   ],
   "source": [
    "pca1.fit(X_ohe_std)"
   ]
  },
  {
   "cell_type": "code",
   "execution_count": 41,
   "metadata": {
    "executionInfo": {
     "elapsed": 6,
     "status": "ok",
     "timestamp": 1673958242358,
     "user": {
      "displayName": "IACSD Akurdi",
      "userId": "10433988175144222979"
     },
     "user_tz": -330
    },
    "id": "MLnBS-gtr0c6"
   },
   "outputs": [],
   "source": [
    "trans_data = pca1.transform(X_ohe_std)"
   ]
  },
  {
   "cell_type": "code",
   "execution_count": 42,
   "metadata": {
    "colab": {
     "base_uri": "https://localhost:8080/"
    },
    "executionInfo": {
     "elapsed": 8,
     "status": "ok",
     "timestamp": 1673958249048,
     "user": {
      "displayName": "IACSD Akurdi",
      "userId": "10433988175144222979"
     },
     "user_tz": -330
    },
    "id": "7PQZaYHUr73k",
    "outputId": "3e4fee10-59cb-4a57-8a9d-b005e9a1ec95"
   },
   "outputs": [
    {
     "data": {
      "text/plain": [
       "(10127, 26)"
      ]
     },
     "execution_count": 42,
     "metadata": {},
     "output_type": "execute_result"
    }
   ],
   "source": [
    "trans_data.shape"
   ]
  },
  {
   "cell_type": "code",
   "execution_count": null,
   "metadata": {},
   "outputs": [],
   "source": []
  }
 ],
 "metadata": {
  "colab": {
   "authorship_tag": "ABX9TyMXTU2bEv1fuwSStGTU9TQR",
   "mount_file_id": "133wj2_Tla40gK4NY_cnUAV5NbHHWBL7D",
   "provenance": []
  },
  "kernelspec": {
   "display_name": "Python 3 (ipykernel)",
   "language": "python",
   "name": "python3"
  },
  "language_info": {
   "codemirror_mode": {
    "name": "ipython",
    "version": 3
   },
   "file_extension": ".py",
   "mimetype": "text/x-python",
   "name": "python",
   "nbconvert_exporter": "python",
   "pygments_lexer": "ipython3",
   "version": "3.11.5"
  }
 },
 "nbformat": 4,
 "nbformat_minor": 1
}
