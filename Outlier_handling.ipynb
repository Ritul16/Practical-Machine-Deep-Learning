{
 "cells": [
  {
   "cell_type": "code",
   "execution_count": 4,
   "metadata": {
    "executionInfo": {
     "elapsed": 777,
     "status": "ok",
     "timestamp": 1707289656864,
     "user": {
      "displayName": "shantanu sp1010",
      "userId": "06429835069678775799"
     },
     "user_tz": -330
    },
    "id": "l2NUTK7QQzlg"
   },
   "outputs": [],
   "source": [
    "import pandas as pd"
   ]
  },
  {
   "cell_type": "code",
   "execution_count": 5,
   "metadata": {
    "executionInfo": {
     "elapsed": 475,
     "status": "ok",
     "timestamp": 1707289659218,
     "user": {
      "displayName": "shantanu sp1010",
      "userId": "06429835069678775799"
     },
     "user_tz": -330
    },
    "id": "pIIF9j0NR03h"
   },
   "outputs": [],
   "source": [
    "df = pd.read_csv(\"diamonds.csv\")"
   ]
  },
  {
   "cell_type": "code",
   "execution_count": 6,
   "metadata": {
    "colab": {
     "base_uri": "https://localhost:8080/"
    },
    "executionInfo": {
     "elapsed": 426,
     "status": "ok",
     "timestamp": 1707289665407,
     "user": {
      "displayName": "shantanu sp1010",
      "userId": "06429835069678775799"
     },
     "user_tz": -330
    },
    "id": "z0Kb1t-YR7BQ",
    "outputId": "6b175f00-99ca-4bc2-9110-f8028c806cb0"
   },
   "outputs": [
    {
     "data": {
      "text/plain": [
       "(53940, 11)"
      ]
     },
     "execution_count": 6,
     "metadata": {},
     "output_type": "execute_result"
    }
   ],
   "source": [
    "df.shape"
   ]
  },
  {
   "cell_type": "code",
   "execution_count": 6,
   "metadata": {
    "colab": {
     "base_uri": "https://localhost:8080/"
    },
    "executionInfo": {
     "elapsed": 474,
     "status": "ok",
     "timestamp": 1707289672380,
     "user": {
      "displayName": "shantanu sp1010",
      "userId": "06429835069678775799"
     },
     "user_tz": -330
    },
    "id": "IyVRRlWZR85o",
    "outputId": "79d66bb9-2e00-4724-910c-2755c24087b5"
   },
   "outputs": [
    {
     "name": "stdout",
     "output_type": "stream",
     "text": [
      "<class 'pandas.core.frame.DataFrame'>\n",
      "RangeIndex: 53940 entries, 0 to 53939\n",
      "Data columns (total 11 columns):\n",
      " #   Column      Non-Null Count  Dtype  \n",
      "---  ------      --------------  -----  \n",
      " 0   Unnamed: 0  53940 non-null  int64  \n",
      " 1   carat       53940 non-null  float64\n",
      " 2   cut         53940 non-null  object \n",
      " 3   color       53940 non-null  object \n",
      " 4   clarity     53940 non-null  object \n",
      " 5   depth       53940 non-null  float64\n",
      " 6   table       53940 non-null  float64\n",
      " 7   price       53940 non-null  int64  \n",
      " 8   x           53940 non-null  float64\n",
      " 9   y           53940 non-null  float64\n",
      " 10  z           53940 non-null  float64\n",
      "dtypes: float64(6), int64(2), object(3)\n",
      "memory usage: 4.5+ MB\n"
     ]
    }
   ],
   "source": [
    "df.info()"
   ]
  },
  {
   "cell_type": "code",
   "execution_count": 7,
   "metadata": {
    "executionInfo": {
     "elapsed": 477,
     "status": "ok",
     "timestamp": 1707289783549,
     "user": {
      "displayName": "shantanu sp1010",
      "userId": "06429835069678775799"
     },
     "user_tz": -330
    },
    "id": "mzl5cVHSR9-x"
   },
   "outputs": [],
   "source": [
    "df = df.drop('Unnamed: 0',axis=1)"
   ]
  },
  {
   "cell_type": "code",
   "execution_count": 8,
   "metadata": {
    "executionInfo": {
     "elapsed": 4,
     "status": "ok",
     "timestamp": 1707289788029,
     "user": {
      "displayName": "shantanu sp1010",
      "userId": "06429835069678775799"
     },
     "user_tz": -330
    },
    "id": "CsMJj2zCS9OE"
   },
   "outputs": [],
   "source": [
    "df_ohe = pd.get_dummies(df)"
   ]
  },
  {
   "cell_type": "code",
   "execution_count": 9,
   "metadata": {
    "colab": {
     "base_uri": "https://localhost:8080/"
    },
    "executionInfo": {
     "elapsed": 697,
     "status": "ok",
     "timestamp": 1707289789438,
     "user": {
      "displayName": "shantanu sp1010",
      "userId": "06429835069678775799"
     },
     "user_tz": -330
    },
    "id": "PasiEpPRTFA8",
    "outputId": "000848fc-288b-47e1-b129-760c76d5879d"
   },
   "outputs": [
    {
     "data": {
      "text/plain": [
       "(53940, 27)"
      ]
     },
     "execution_count": 9,
     "metadata": {},
     "output_type": "execute_result"
    }
   ],
   "source": [
    "df_ohe.shape"
   ]
  },
  {
   "cell_type": "markdown",
   "metadata": {
    "id": "0g0e4oFeTKr8"
   },
   "source": [
    "# Outlier Handling"
   ]
  },
  {
   "cell_type": "markdown",
   "metadata": {
    "id": "R0_zhGRMTNC8"
   },
   "source": [
    "## Z-score based / Standard Scaler based method"
   ]
  },
  {
   "cell_type": "code",
   "execution_count": 10,
   "metadata": {
    "executionInfo": {
     "elapsed": 455,
     "status": "ok",
     "timestamp": 1707289911782,
     "user": {
      "displayName": "shantanu sp1010",
      "userId": "06429835069678775799"
     },
     "user_tz": -330
    },
    "id": "1UNmVM7nTMad"
   },
   "outputs": [],
   "source": [
    "num_columns = df.select_dtypes(exclude='object').columns"
   ]
  },
  {
   "cell_type": "code",
   "execution_count": 11,
   "metadata": {
    "colab": {
     "base_uri": "https://localhost:8080/"
    },
    "executionInfo": {
     "elapsed": 4,
     "status": "ok",
     "timestamp": 1707289913587,
     "user": {
      "displayName": "shantanu sp1010",
      "userId": "06429835069678775799"
     },
     "user_tz": -330
    },
    "id": "5uHOOsRCTjdj",
    "outputId": "6e35d19e-75bb-407f-a76c-d51e670b0649"
   },
   "outputs": [
    {
     "data": {
      "text/plain": [
       "Index(['carat', 'depth', 'table', 'price', 'x', 'y', 'z'], dtype='object')"
      ]
     },
     "execution_count": 11,
     "metadata": {},
     "output_type": "execute_result"
    }
   ],
   "source": [
    "num_columns"
   ]
  },
  {
   "cell_type": "code",
   "execution_count": 12,
   "metadata": {
    "executionInfo": {
     "elapsed": 6,
     "status": "ok",
     "timestamp": 1707289982419,
     "user": {
      "displayName": "shantanu sp1010",
      "userId": "06429835069678775799"
     },
     "user_tz": -330
    },
    "id": "zY61j6NuTsZj"
   },
   "outputs": [],
   "source": [
    "def zscore_for_column(df,col):\n",
    "    #zscore = (val - mean) / std_dev\n",
    "    zscore = (df[col] - df[col].mean())/df[col].std()\n",
    "    return zscore"
   ]
  },
  {
   "cell_type": "code",
   "execution_count": 14,
   "metadata": {
    "executionInfo": {
     "elapsed": 602,
     "status": "ok",
     "timestamp": 1707291314058,
     "user": {
      "displayName": "shantanu sp1010",
      "userId": "06429835069678775799"
     },
     "user_tz": -330
    },
    "id": "i0bgoyxzUXtq"
   },
   "outputs": [],
   "source": [
    "df_std = df_ohe.copy()\n",
    "for col in num_columns:\n",
    "    df_std[col] = zscore_for_column(df,col)"
   ]
  },
  {
   "cell_type": "code",
   "execution_count": 15,
   "metadata": {
    "colab": {
     "base_uri": "https://localhost:8080/",
     "height": 350
    },
    "executionInfo": {
     "elapsed": 998,
     "status": "ok",
     "timestamp": 1707291318093,
     "user": {
      "displayName": "shantanu sp1010",
      "userId": "06429835069678775799"
     },
     "user_tz": -330
    },
    "id": "z3F43LBuU9Wh",
    "outputId": "31bd8a86-c6b2-470d-df84-cbae91f26608"
   },
   "outputs": [
    {
     "data": {
      "text/html": [
       "<div>\n",
       "<style scoped>\n",
       "    .dataframe tbody tr th:only-of-type {\n",
       "        vertical-align: middle;\n",
       "    }\n",
       "\n",
       "    .dataframe tbody tr th {\n",
       "        vertical-align: top;\n",
       "    }\n",
       "\n",
       "    .dataframe thead th {\n",
       "        text-align: right;\n",
       "    }\n",
       "</style>\n",
       "<table border=\"1\" class=\"dataframe\">\n",
       "  <thead>\n",
       "    <tr style=\"text-align: right;\">\n",
       "      <th></th>\n",
       "      <th>carat</th>\n",
       "      <th>depth</th>\n",
       "      <th>table</th>\n",
       "      <th>price</th>\n",
       "      <th>x</th>\n",
       "      <th>y</th>\n",
       "      <th>z</th>\n",
       "      <th>cut_Fair</th>\n",
       "      <th>cut_Good</th>\n",
       "      <th>cut_Ideal</th>\n",
       "      <th>...</th>\n",
       "      <th>color_I</th>\n",
       "      <th>color_J</th>\n",
       "      <th>clarity_I1</th>\n",
       "      <th>clarity_IF</th>\n",
       "      <th>clarity_SI1</th>\n",
       "      <th>clarity_SI2</th>\n",
       "      <th>clarity_VS1</th>\n",
       "      <th>clarity_VS2</th>\n",
       "      <th>clarity_VVS1</th>\n",
       "      <th>clarity_VVS2</th>\n",
       "    </tr>\n",
       "  </thead>\n",
       "  <tbody>\n",
       "    <tr>\n",
       "      <th>count</th>\n",
       "      <td>5.394000e+04</td>\n",
       "      <td>5.394000e+04</td>\n",
       "      <td>5.394000e+04</td>\n",
       "      <td>5.394000e+04</td>\n",
       "      <td>5.394000e+04</td>\n",
       "      <td>5.394000e+04</td>\n",
       "      <td>5.394000e+04</td>\n",
       "      <td>53940.000000</td>\n",
       "      <td>53940.000000</td>\n",
       "      <td>53940.000000</td>\n",
       "      <td>...</td>\n",
       "      <td>53940.000000</td>\n",
       "      <td>53940.000000</td>\n",
       "      <td>53940.000000</td>\n",
       "      <td>53940.000000</td>\n",
       "      <td>53940.000000</td>\n",
       "      <td>53940.000000</td>\n",
       "      <td>53940.000000</td>\n",
       "      <td>53940.000000</td>\n",
       "      <td>53940.000000</td>\n",
       "      <td>53940.000000</td>\n",
       "    </tr>\n",
       "    <tr>\n",
       "      <th>mean</th>\n",
       "      <td>3.774170e-14</td>\n",
       "      <td>5.528923e-13</td>\n",
       "      <td>-3.621533e-14</td>\n",
       "      <td>-6.602421e-15</td>\n",
       "      <td>1.177763e-13</td>\n",
       "      <td>8.638663e-14</td>\n",
       "      <td>-2.522116e-13</td>\n",
       "      <td>0.029848</td>\n",
       "      <td>0.090953</td>\n",
       "      <td>0.399537</td>\n",
       "      <td>...</td>\n",
       "      <td>0.100519</td>\n",
       "      <td>0.052058</td>\n",
       "      <td>0.013737</td>\n",
       "      <td>0.033185</td>\n",
       "      <td>0.242214</td>\n",
       "      <td>0.170449</td>\n",
       "      <td>0.151483</td>\n",
       "      <td>0.227253</td>\n",
       "      <td>0.067760</td>\n",
       "      <td>0.093919</td>\n",
       "    </tr>\n",
       "    <tr>\n",
       "      <th>std</th>\n",
       "      <td>1.000000e+00</td>\n",
       "      <td>1.000000e+00</td>\n",
       "      <td>1.000000e+00</td>\n",
       "      <td>1.000000e+00</td>\n",
       "      <td>1.000000e+00</td>\n",
       "      <td>1.000000e+00</td>\n",
       "      <td>1.000000e+00</td>\n",
       "      <td>0.170169</td>\n",
       "      <td>0.287545</td>\n",
       "      <td>0.489808</td>\n",
       "      <td>...</td>\n",
       "      <td>0.300694</td>\n",
       "      <td>0.222146</td>\n",
       "      <td>0.116400</td>\n",
       "      <td>0.179121</td>\n",
       "      <td>0.428427</td>\n",
       "      <td>0.376030</td>\n",
       "      <td>0.358522</td>\n",
       "      <td>0.419061</td>\n",
       "      <td>0.251337</td>\n",
       "      <td>0.291719</td>\n",
       "    </tr>\n",
       "    <tr>\n",
       "      <th>min</th>\n",
       "      <td>-1.261446e+00</td>\n",
       "      <td>-1.308748e+01</td>\n",
       "      <td>-6.470013e+00</td>\n",
       "      <td>-9.040868e-01</td>\n",
       "      <td>-5.109073e+00</td>\n",
       "      <td>-5.020884e+00</td>\n",
       "      <td>-5.014510e+00</td>\n",
       "      <td>0.000000</td>\n",
       "      <td>0.000000</td>\n",
       "      <td>0.000000</td>\n",
       "      <td>...</td>\n",
       "      <td>0.000000</td>\n",
       "      <td>0.000000</td>\n",
       "      <td>0.000000</td>\n",
       "      <td>0.000000</td>\n",
       "      <td>0.000000</td>\n",
       "      <td>0.000000</td>\n",
       "      <td>0.000000</td>\n",
       "      <td>0.000000</td>\n",
       "      <td>0.000000</td>\n",
       "      <td>0.000000</td>\n",
       "    </tr>\n",
       "    <tr>\n",
       "      <th>25%</th>\n",
       "      <td>-8.395154e-01</td>\n",
       "      <td>-5.231005e-01</td>\n",
       "      <td>-6.521325e-01</td>\n",
       "      <td>-7.476738e-01</td>\n",
       "      <td>-9.103164e-01</td>\n",
       "      <td>-8.882717e-01</td>\n",
       "      <td>-8.909378e-01</td>\n",
       "      <td>0.000000</td>\n",
       "      <td>0.000000</td>\n",
       "      <td>0.000000</td>\n",
       "      <td>...</td>\n",
       "      <td>0.000000</td>\n",
       "      <td>0.000000</td>\n",
       "      <td>0.000000</td>\n",
       "      <td>0.000000</td>\n",
       "      <td>0.000000</td>\n",
       "      <td>0.000000</td>\n",
       "      <td>0.000000</td>\n",
       "      <td>0.000000</td>\n",
       "      <td>0.000000</td>\n",
       "      <td>0.000000</td>\n",
       "    </tr>\n",
       "    <tr>\n",
       "      <th>50%</th>\n",
       "      <td>-2.066190e-01</td>\n",
       "      <td>3.531645e-02</td>\n",
       "      <td>-2.046032e-01</td>\n",
       "      <td>-3.839636e-01</td>\n",
       "      <td>-2.777527e-02</td>\n",
       "      <td>-2.147379e-02</td>\n",
       "      <td>-1.237607e-02</td>\n",
       "      <td>0.000000</td>\n",
       "      <td>0.000000</td>\n",
       "      <td>0.000000</td>\n",
       "      <td>...</td>\n",
       "      <td>0.000000</td>\n",
       "      <td>0.000000</td>\n",
       "      <td>0.000000</td>\n",
       "      <td>0.000000</td>\n",
       "      <td>0.000000</td>\n",
       "      <td>0.000000</td>\n",
       "      <td>0.000000</td>\n",
       "      <td>0.000000</td>\n",
       "      <td>0.000000</td>\n",
       "      <td>0.000000</td>\n",
       "    </tr>\n",
       "    <tr>\n",
       "      <th>75%</th>\n",
       "      <td>5.106635e-01</td>\n",
       "      <td>5.239313e-01</td>\n",
       "      <td>6.904554e-01</td>\n",
       "      <td>3.487834e-01</td>\n",
       "      <td>7.210475e-01</td>\n",
       "      <td>7.052356e-01</td>\n",
       "      <td>7.103118e-01</td>\n",
       "      <td>0.000000</td>\n",
       "      <td>0.000000</td>\n",
       "      <td>1.000000</td>\n",
       "      <td>...</td>\n",
       "      <td>0.000000</td>\n",
       "      <td>0.000000</td>\n",
       "      <td>0.000000</td>\n",
       "      <td>0.000000</td>\n",
       "      <td>0.000000</td>\n",
       "      <td>0.000000</td>\n",
       "      <td>0.000000</td>\n",
       "      <td>0.000000</td>\n",
       "      <td>0.000000</td>\n",
       "      <td>0.000000</td>\n",
       "    </tr>\n",
       "    <tr>\n",
       "      <th>max</th>\n",
       "      <td>8.885992e+00</td>\n",
       "      <td>1.204128e+01</td>\n",
       "      <td>1.680151e+01</td>\n",
       "      <td>3.732404e+00</td>\n",
       "      <td>4.465161e+00</td>\n",
       "      <td>4.654922e+01</td>\n",
       "      <td>4.004720e+01</td>\n",
       "      <td>1.000000</td>\n",
       "      <td>1.000000</td>\n",
       "      <td>1.000000</td>\n",
       "      <td>...</td>\n",
       "      <td>1.000000</td>\n",
       "      <td>1.000000</td>\n",
       "      <td>1.000000</td>\n",
       "      <td>1.000000</td>\n",
       "      <td>1.000000</td>\n",
       "      <td>1.000000</td>\n",
       "      <td>1.000000</td>\n",
       "      <td>1.000000</td>\n",
       "      <td>1.000000</td>\n",
       "      <td>1.000000</td>\n",
       "    </tr>\n",
       "  </tbody>\n",
       "</table>\n",
       "<p>8 rows × 27 columns</p>\n",
       "</div>"
      ],
      "text/plain": [
       "              carat         depth         table         price             x  \\\n",
       "count  5.394000e+04  5.394000e+04  5.394000e+04  5.394000e+04  5.394000e+04   \n",
       "mean   3.774170e-14  5.528923e-13 -3.621533e-14 -6.602421e-15  1.177763e-13   \n",
       "std    1.000000e+00  1.000000e+00  1.000000e+00  1.000000e+00  1.000000e+00   \n",
       "min   -1.261446e+00 -1.308748e+01 -6.470013e+00 -9.040868e-01 -5.109073e+00   \n",
       "25%   -8.395154e-01 -5.231005e-01 -6.521325e-01 -7.476738e-01 -9.103164e-01   \n",
       "50%   -2.066190e-01  3.531645e-02 -2.046032e-01 -3.839636e-01 -2.777527e-02   \n",
       "75%    5.106635e-01  5.239313e-01  6.904554e-01  3.487834e-01  7.210475e-01   \n",
       "max    8.885992e+00  1.204128e+01  1.680151e+01  3.732404e+00  4.465161e+00   \n",
       "\n",
       "                  y             z      cut_Fair      cut_Good     cut_Ideal  \\\n",
       "count  5.394000e+04  5.394000e+04  53940.000000  53940.000000  53940.000000   \n",
       "mean   8.638663e-14 -2.522116e-13      0.029848      0.090953      0.399537   \n",
       "std    1.000000e+00  1.000000e+00      0.170169      0.287545      0.489808   \n",
       "min   -5.020884e+00 -5.014510e+00      0.000000      0.000000      0.000000   \n",
       "25%   -8.882717e-01 -8.909378e-01      0.000000      0.000000      0.000000   \n",
       "50%   -2.147379e-02 -1.237607e-02      0.000000      0.000000      0.000000   \n",
       "75%    7.052356e-01  7.103118e-01      0.000000      0.000000      1.000000   \n",
       "max    4.654922e+01  4.004720e+01      1.000000      1.000000      1.000000   \n",
       "\n",
       "       ...       color_I       color_J    clarity_I1    clarity_IF  \\\n",
       "count  ...  53940.000000  53940.000000  53940.000000  53940.000000   \n",
       "mean   ...      0.100519      0.052058      0.013737      0.033185   \n",
       "std    ...      0.300694      0.222146      0.116400      0.179121   \n",
       "min    ...      0.000000      0.000000      0.000000      0.000000   \n",
       "25%    ...      0.000000      0.000000      0.000000      0.000000   \n",
       "50%    ...      0.000000      0.000000      0.000000      0.000000   \n",
       "75%    ...      0.000000      0.000000      0.000000      0.000000   \n",
       "max    ...      1.000000      1.000000      1.000000      1.000000   \n",
       "\n",
       "        clarity_SI1   clarity_SI2   clarity_VS1   clarity_VS2  clarity_VVS1  \\\n",
       "count  53940.000000  53940.000000  53940.000000  53940.000000  53940.000000   \n",
       "mean       0.242214      0.170449      0.151483      0.227253      0.067760   \n",
       "std        0.428427      0.376030      0.358522      0.419061      0.251337   \n",
       "min        0.000000      0.000000      0.000000      0.000000      0.000000   \n",
       "25%        0.000000      0.000000      0.000000      0.000000      0.000000   \n",
       "50%        0.000000      0.000000      0.000000      0.000000      0.000000   \n",
       "75%        0.000000      0.000000      0.000000      0.000000      0.000000   \n",
       "max        1.000000      1.000000      1.000000      1.000000      1.000000   \n",
       "\n",
       "       clarity_VVS2  \n",
       "count  53940.000000  \n",
       "mean       0.093919  \n",
       "std        0.291719  \n",
       "min        0.000000  \n",
       "25%        0.000000  \n",
       "50%        0.000000  \n",
       "75%        0.000000  \n",
       "max        1.000000  \n",
       "\n",
       "[8 rows x 27 columns]"
      ]
     },
     "execution_count": 15,
     "metadata": {},
     "output_type": "execute_result"
    }
   ],
   "source": [
    "df_std.describe()"
   ]
  },
  {
   "cell_type": "markdown",
   "metadata": {},
   "source": [
    "# Detect Outliers"
   ]
  },
  {
   "cell_type": "code",
   "execution_count": 16,
   "metadata": {
    "colab": {
     "base_uri": "https://localhost:8080/"
    },
    "executionInfo": {
     "elapsed": 399,
     "status": "ok",
     "timestamp": 1673952798056,
     "user": {
      "displayName": "IACSD Akurdi",
      "userId": "10433988175144222979"
     },
     "user_tz": -330
    },
    "id": "KBIV4s5ZWzt2",
    "outputId": "d5e08cdd-4c15-4be2-dc3b-b87a74a7591a"
   },
   "outputs": [
    {
     "data": {
      "text/plain": [
       "(439, 27)"
      ]
     },
     "execution_count": 16,
     "metadata": {},
     "output_type": "execute_result"
    }
   ],
   "source": [
    "df_std.loc[(df_std['carat'] < -3) | (df_std['carat'] > +3), :].shape"
   ]
  },
  {
   "cell_type": "code",
   "execution_count": 17,
   "metadata": {
    "id": "iKqJzT--Xxss"
   },
   "outputs": [],
   "source": [
    "from IPython.utils.text import columnize\n",
    "def outlier_imputation(df,col):\n",
    "    df.loc[df[col] < -3 ,col] = -3\n",
    "    df.loc[df[col] > 3 ,col] = 3\n",
    "    return df"
   ]
  },
  {
   "cell_type": "code",
   "execution_count": 18,
   "metadata": {
    "id": "UmHo5vhHYLsi"
   },
   "outputs": [],
   "source": [
    "for col in num_columns:\n",
    "    df_std = outlier_imputation(df_std,col)"
   ]
  },
  {
   "cell_type": "code",
   "execution_count": 19,
   "metadata": {
    "colab": {
     "base_uri": "https://localhost:8080/",
     "height": 393
    },
    "executionInfo": {
     "elapsed": 9,
     "status": "ok",
     "timestamp": 1673953137166,
     "user": {
      "displayName": "IACSD Akurdi",
      "userId": "10433988175144222979"
     },
     "user_tz": -330
    },
    "id": "pGDfaEzKYR39",
    "outputId": "41c86cf5-6720-40d5-8b3a-ebff7c19dc7f"
   },
   "outputs": [
    {
     "data": {
      "text/html": [
       "<div>\n",
       "<style scoped>\n",
       "    .dataframe tbody tr th:only-of-type {\n",
       "        vertical-align: middle;\n",
       "    }\n",
       "\n",
       "    .dataframe tbody tr th {\n",
       "        vertical-align: top;\n",
       "    }\n",
       "\n",
       "    .dataframe thead th {\n",
       "        text-align: right;\n",
       "    }\n",
       "</style>\n",
       "<table border=\"1\" class=\"dataframe\">\n",
       "  <thead>\n",
       "    <tr style=\"text-align: right;\">\n",
       "      <th></th>\n",
       "      <th>carat</th>\n",
       "      <th>depth</th>\n",
       "      <th>table</th>\n",
       "      <th>price</th>\n",
       "      <th>x</th>\n",
       "      <th>y</th>\n",
       "      <th>z</th>\n",
       "      <th>cut_Fair</th>\n",
       "      <th>cut_Good</th>\n",
       "      <th>cut_Ideal</th>\n",
       "      <th>...</th>\n",
       "      <th>color_I</th>\n",
       "      <th>color_J</th>\n",
       "      <th>clarity_I1</th>\n",
       "      <th>clarity_IF</th>\n",
       "      <th>clarity_SI1</th>\n",
       "      <th>clarity_SI2</th>\n",
       "      <th>clarity_VS1</th>\n",
       "      <th>clarity_VS2</th>\n",
       "      <th>clarity_VVS1</th>\n",
       "      <th>clarity_VVS2</th>\n",
       "    </tr>\n",
       "  </thead>\n",
       "  <tbody>\n",
       "    <tr>\n",
       "      <th>count</th>\n",
       "      <td>53940.000000</td>\n",
       "      <td>53940.000000</td>\n",
       "      <td>53940.000000</td>\n",
       "      <td>53940.000000</td>\n",
       "      <td>53940.000000</td>\n",
       "      <td>53940.000000</td>\n",
       "      <td>53940.000000</td>\n",
       "      <td>53940.000000</td>\n",
       "      <td>53940.000000</td>\n",
       "      <td>53940.000000</td>\n",
       "      <td>...</td>\n",
       "      <td>53940.000000</td>\n",
       "      <td>53940.000000</td>\n",
       "      <td>53940.000000</td>\n",
       "      <td>53940.000000</td>\n",
       "      <td>53940.000000</td>\n",
       "      <td>53940.000000</td>\n",
       "      <td>53940.000000</td>\n",
       "      <td>53940.000000</td>\n",
       "      <td>53940.000000</td>\n",
       "      <td>53940.000000</td>\n",
       "    </tr>\n",
       "    <tr>\n",
       "      <th>mean</th>\n",
       "      <td>-0.004192</td>\n",
       "      <td>-0.002399</td>\n",
       "      <td>-0.005533</td>\n",
       "      <td>-0.007732</td>\n",
       "      <td>0.000079</td>\n",
       "      <td>-0.001072</td>\n",
       "      <td>-0.000280</td>\n",
       "      <td>0.029848</td>\n",
       "      <td>0.090953</td>\n",
       "      <td>0.399537</td>\n",
       "      <td>...</td>\n",
       "      <td>0.100519</td>\n",
       "      <td>0.052058</td>\n",
       "      <td>0.013737</td>\n",
       "      <td>0.033185</td>\n",
       "      <td>0.242214</td>\n",
       "      <td>0.170449</td>\n",
       "      <td>0.151483</td>\n",
       "      <td>0.227253</td>\n",
       "      <td>0.067760</td>\n",
       "      <td>0.093919</td>\n",
       "    </tr>\n",
       "    <tr>\n",
       "      <th>std</th>\n",
       "      <td>0.984323</td>\n",
       "      <td>0.951256</td>\n",
       "      <td>0.975847</td>\n",
       "      <td>0.974620</td>\n",
       "      <td>0.997949</td>\n",
       "      <td>0.973317</td>\n",
       "      <td>0.980725</td>\n",
       "      <td>0.170169</td>\n",
       "      <td>0.287545</td>\n",
       "      <td>0.489808</td>\n",
       "      <td>...</td>\n",
       "      <td>0.300694</td>\n",
       "      <td>0.222146</td>\n",
       "      <td>0.116400</td>\n",
       "      <td>0.179121</td>\n",
       "      <td>0.428427</td>\n",
       "      <td>0.376030</td>\n",
       "      <td>0.358522</td>\n",
       "      <td>0.419061</td>\n",
       "      <td>0.251337</td>\n",
       "      <td>0.291719</td>\n",
       "    </tr>\n",
       "    <tr>\n",
       "      <th>min</th>\n",
       "      <td>-1.261446</td>\n",
       "      <td>-3.000000</td>\n",
       "      <td>-3.000000</td>\n",
       "      <td>-0.904087</td>\n",
       "      <td>-3.000000</td>\n",
       "      <td>-3.000000</td>\n",
       "      <td>-3.000000</td>\n",
       "      <td>0.000000</td>\n",
       "      <td>0.000000</td>\n",
       "      <td>0.000000</td>\n",
       "      <td>...</td>\n",
       "      <td>0.000000</td>\n",
       "      <td>0.000000</td>\n",
       "      <td>0.000000</td>\n",
       "      <td>0.000000</td>\n",
       "      <td>0.000000</td>\n",
       "      <td>0.000000</td>\n",
       "      <td>0.000000</td>\n",
       "      <td>0.000000</td>\n",
       "      <td>0.000000</td>\n",
       "      <td>0.000000</td>\n",
       "    </tr>\n",
       "    <tr>\n",
       "      <th>25%</th>\n",
       "      <td>-0.839515</td>\n",
       "      <td>-0.523100</td>\n",
       "      <td>-0.652132</td>\n",
       "      <td>-0.747674</td>\n",
       "      <td>-0.910316</td>\n",
       "      <td>-0.888272</td>\n",
       "      <td>-0.890938</td>\n",
       "      <td>0.000000</td>\n",
       "      <td>0.000000</td>\n",
       "      <td>0.000000</td>\n",
       "      <td>...</td>\n",
       "      <td>0.000000</td>\n",
       "      <td>0.000000</td>\n",
       "      <td>0.000000</td>\n",
       "      <td>0.000000</td>\n",
       "      <td>0.000000</td>\n",
       "      <td>0.000000</td>\n",
       "      <td>0.000000</td>\n",
       "      <td>0.000000</td>\n",
       "      <td>0.000000</td>\n",
       "      <td>0.000000</td>\n",
       "    </tr>\n",
       "    <tr>\n",
       "      <th>50%</th>\n",
       "      <td>-0.206619</td>\n",
       "      <td>0.035316</td>\n",
       "      <td>-0.204603</td>\n",
       "      <td>-0.383964</td>\n",
       "      <td>-0.027775</td>\n",
       "      <td>-0.021474</td>\n",
       "      <td>-0.012376</td>\n",
       "      <td>0.000000</td>\n",
       "      <td>0.000000</td>\n",
       "      <td>0.000000</td>\n",
       "      <td>...</td>\n",
       "      <td>0.000000</td>\n",
       "      <td>0.000000</td>\n",
       "      <td>0.000000</td>\n",
       "      <td>0.000000</td>\n",
       "      <td>0.000000</td>\n",
       "      <td>0.000000</td>\n",
       "      <td>0.000000</td>\n",
       "      <td>0.000000</td>\n",
       "      <td>0.000000</td>\n",
       "      <td>0.000000</td>\n",
       "    </tr>\n",
       "    <tr>\n",
       "      <th>75%</th>\n",
       "      <td>0.510664</td>\n",
       "      <td>0.523931</td>\n",
       "      <td>0.690455</td>\n",
       "      <td>0.348783</td>\n",
       "      <td>0.721048</td>\n",
       "      <td>0.705236</td>\n",
       "      <td>0.710312</td>\n",
       "      <td>0.000000</td>\n",
       "      <td>0.000000</td>\n",
       "      <td>1.000000</td>\n",
       "      <td>...</td>\n",
       "      <td>0.000000</td>\n",
       "      <td>0.000000</td>\n",
       "      <td>0.000000</td>\n",
       "      <td>0.000000</td>\n",
       "      <td>0.000000</td>\n",
       "      <td>0.000000</td>\n",
       "      <td>0.000000</td>\n",
       "      <td>0.000000</td>\n",
       "      <td>0.000000</td>\n",
       "      <td>0.000000</td>\n",
       "    </tr>\n",
       "    <tr>\n",
       "      <th>max</th>\n",
       "      <td>3.000000</td>\n",
       "      <td>3.000000</td>\n",
       "      <td>3.000000</td>\n",
       "      <td>3.000000</td>\n",
       "      <td>3.000000</td>\n",
       "      <td>3.000000</td>\n",
       "      <td>3.000000</td>\n",
       "      <td>1.000000</td>\n",
       "      <td>1.000000</td>\n",
       "      <td>1.000000</td>\n",
       "      <td>...</td>\n",
       "      <td>1.000000</td>\n",
       "      <td>1.000000</td>\n",
       "      <td>1.000000</td>\n",
       "      <td>1.000000</td>\n",
       "      <td>1.000000</td>\n",
       "      <td>1.000000</td>\n",
       "      <td>1.000000</td>\n",
       "      <td>1.000000</td>\n",
       "      <td>1.000000</td>\n",
       "      <td>1.000000</td>\n",
       "    </tr>\n",
       "  </tbody>\n",
       "</table>\n",
       "<p>8 rows × 27 columns</p>\n",
       "</div>"
      ],
      "text/plain": [
       "              carat         depth         table         price             x  \\\n",
       "count  53940.000000  53940.000000  53940.000000  53940.000000  53940.000000   \n",
       "mean      -0.004192     -0.002399     -0.005533     -0.007732      0.000079   \n",
       "std        0.984323      0.951256      0.975847      0.974620      0.997949   \n",
       "min       -1.261446     -3.000000     -3.000000     -0.904087     -3.000000   \n",
       "25%       -0.839515     -0.523100     -0.652132     -0.747674     -0.910316   \n",
       "50%       -0.206619      0.035316     -0.204603     -0.383964     -0.027775   \n",
       "75%        0.510664      0.523931      0.690455      0.348783      0.721048   \n",
       "max        3.000000      3.000000      3.000000      3.000000      3.000000   \n",
       "\n",
       "                  y             z      cut_Fair      cut_Good     cut_Ideal  \\\n",
       "count  53940.000000  53940.000000  53940.000000  53940.000000  53940.000000   \n",
       "mean      -0.001072     -0.000280      0.029848      0.090953      0.399537   \n",
       "std        0.973317      0.980725      0.170169      0.287545      0.489808   \n",
       "min       -3.000000     -3.000000      0.000000      0.000000      0.000000   \n",
       "25%       -0.888272     -0.890938      0.000000      0.000000      0.000000   \n",
       "50%       -0.021474     -0.012376      0.000000      0.000000      0.000000   \n",
       "75%        0.705236      0.710312      0.000000      0.000000      1.000000   \n",
       "max        3.000000      3.000000      1.000000      1.000000      1.000000   \n",
       "\n",
       "       ...       color_I       color_J    clarity_I1    clarity_IF  \\\n",
       "count  ...  53940.000000  53940.000000  53940.000000  53940.000000   \n",
       "mean   ...      0.100519      0.052058      0.013737      0.033185   \n",
       "std    ...      0.300694      0.222146      0.116400      0.179121   \n",
       "min    ...      0.000000      0.000000      0.000000      0.000000   \n",
       "25%    ...      0.000000      0.000000      0.000000      0.000000   \n",
       "50%    ...      0.000000      0.000000      0.000000      0.000000   \n",
       "75%    ...      0.000000      0.000000      0.000000      0.000000   \n",
       "max    ...      1.000000      1.000000      1.000000      1.000000   \n",
       "\n",
       "        clarity_SI1   clarity_SI2   clarity_VS1   clarity_VS2  clarity_VVS1  \\\n",
       "count  53940.000000  53940.000000  53940.000000  53940.000000  53940.000000   \n",
       "mean       0.242214      0.170449      0.151483      0.227253      0.067760   \n",
       "std        0.428427      0.376030      0.358522      0.419061      0.251337   \n",
       "min        0.000000      0.000000      0.000000      0.000000      0.000000   \n",
       "25%        0.000000      0.000000      0.000000      0.000000      0.000000   \n",
       "50%        0.000000      0.000000      0.000000      0.000000      0.000000   \n",
       "75%        0.000000      0.000000      0.000000      0.000000      0.000000   \n",
       "max        1.000000      1.000000      1.000000      1.000000      1.000000   \n",
       "\n",
       "       clarity_VVS2  \n",
       "count  53940.000000  \n",
       "mean       0.093919  \n",
       "std        0.291719  \n",
       "min        0.000000  \n",
       "25%        0.000000  \n",
       "50%        0.000000  \n",
       "75%        0.000000  \n",
       "max        1.000000  \n",
       "\n",
       "[8 rows x 27 columns]"
      ]
     },
     "execution_count": 19,
     "metadata": {},
     "output_type": "execute_result"
    }
   ],
   "source": [
    "df_std.describe()"
   ]
  },
  {
   "cell_type": "markdown",
   "metadata": {
    "id": "PTYIscG2ZANy"
   },
   "source": [
    "## IQR Based outlier handling"
   ]
  },
  {
   "cell_type": "code",
   "execution_count": 20,
   "metadata": {
    "id": "exsE1ivoZDQ6"
   },
   "outputs": [],
   "source": [
    "df_iqr = df_ohe.copy()"
   ]
  },
  {
   "cell_type": "code",
   "execution_count": 21,
   "metadata": {
    "id": "kZeXjGwjZM-b"
   },
   "outputs": [],
   "source": [
    "# imputation formula\n",
    "# IQR = Q3 - Q1\n",
    "# min_val_value = Q1 - 1.5 * IQR\n",
    "# max_val_value = Q3 + 1.5 * IQR\n",
    "# val < min_val_value  --> min_val_value\n",
    "# val > max_val_value  --> max_val_value"
   ]
  },
  {
   "cell_type": "code",
   "execution_count": 23,
   "metadata": {
    "id": "PjDQxbDIZmmI"
   },
   "outputs": [],
   "source": [
    "q1, q3 = df['table'].quantile([0.25,0.75])"
   ]
  },
  {
   "cell_type": "code",
   "execution_count": 24,
   "metadata": {
    "colab": {
     "base_uri": "https://localhost:8080/"
    },
    "executionInfo": {
     "elapsed": 6,
     "status": "ok",
     "timestamp": 1673954934020,
     "user": {
      "displayName": "IACSD Akurdi",
      "userId": "10433988175144222979"
     },
     "user_tz": -330
    },
    "id": "Ag-dQOCDe7hI",
    "outputId": "435322dc-bf3b-43a2-d458-9f47ce43540a"
   },
   "outputs": [
    {
     "data": {
      "text/plain": [
       "(56.0, 59.0)"
      ]
     },
     "execution_count": 24,
     "metadata": {},
     "output_type": "execute_result"
    }
   ],
   "source": [
    "q1, q3"
   ]
  },
  {
   "cell_type": "code",
   "execution_count": 26,
   "metadata": {
    "id": "Flfy0BmiZ4Zg"
   },
   "outputs": [],
   "source": [
    "def outlier_imputation_IQR(df,col):\n",
    "    q1, q3 = df[col].quantile([0.25,0.75])\n",
    "    iqr = q3 -q1\n",
    "\n",
    "    df.loc[df[col] < (q1-1.5*iqr),col ] = (q1-1.5*iqr)\n",
    "    df.loc[df[col] > (q3+1.5*iqr),col ] = (q3+1.5*iqr)\n",
    "    return df"
   ]
  },
  {
   "cell_type": "code",
   "execution_count": 27,
   "metadata": {
    "id": "SeqC80g7crag"
   },
   "outputs": [],
   "source": [
    "for col in num_columns:\n",
    "    df_iqr = outlier_imputation_IQR(df_iqr,col)"
   ]
  },
  {
   "cell_type": "code",
   "execution_count": 28,
   "metadata": {
    "colab": {
     "base_uri": "https://localhost:8080/",
     "height": 393
    },
    "executionInfo": {
     "elapsed": 16,
     "status": "ok",
     "timestamp": 1673955217561,
     "user": {
      "displayName": "IACSD Akurdi",
      "userId": "10433988175144222979"
     },
     "user_tz": -330
    },
    "id": "sOLVjvpfcxF9",
    "outputId": "9ccaa7d0-d07d-4ed1-f727-23009cfb2608"
   },
   "outputs": [
    {
     "data": {
      "text/html": [
       "<div>\n",
       "<style scoped>\n",
       "    .dataframe tbody tr th:only-of-type {\n",
       "        vertical-align: middle;\n",
       "    }\n",
       "\n",
       "    .dataframe tbody tr th {\n",
       "        vertical-align: top;\n",
       "    }\n",
       "\n",
       "    .dataframe thead th {\n",
       "        text-align: right;\n",
       "    }\n",
       "</style>\n",
       "<table border=\"1\" class=\"dataframe\">\n",
       "  <thead>\n",
       "    <tr style=\"text-align: right;\">\n",
       "      <th></th>\n",
       "      <th>carat</th>\n",
       "      <th>depth</th>\n",
       "      <th>table</th>\n",
       "      <th>price</th>\n",
       "      <th>x</th>\n",
       "      <th>y</th>\n",
       "      <th>z</th>\n",
       "      <th>cut_Fair</th>\n",
       "      <th>cut_Good</th>\n",
       "      <th>cut_Ideal</th>\n",
       "      <th>...</th>\n",
       "      <th>color_I</th>\n",
       "      <th>color_J</th>\n",
       "      <th>clarity_I1</th>\n",
       "      <th>clarity_IF</th>\n",
       "      <th>clarity_SI1</th>\n",
       "      <th>clarity_SI2</th>\n",
       "      <th>clarity_VS1</th>\n",
       "      <th>clarity_VS2</th>\n",
       "      <th>clarity_VVS1</th>\n",
       "      <th>clarity_VVS2</th>\n",
       "    </tr>\n",
       "  </thead>\n",
       "  <tbody>\n",
       "    <tr>\n",
       "      <th>count</th>\n",
       "      <td>53940.000000</td>\n",
       "      <td>53940.000000</td>\n",
       "      <td>53940.000000</td>\n",
       "      <td>53940.000000</td>\n",
       "      <td>53940.000000</td>\n",
       "      <td>53940.000000</td>\n",
       "      <td>53940.000000</td>\n",
       "      <td>53940.000000</td>\n",
       "      <td>53940.000000</td>\n",
       "      <td>53940.000000</td>\n",
       "      <td>...</td>\n",
       "      <td>53940.000000</td>\n",
       "      <td>53940.000000</td>\n",
       "      <td>53940.000000</td>\n",
       "      <td>53940.000000</td>\n",
       "      <td>53940.000000</td>\n",
       "      <td>53940.000000</td>\n",
       "      <td>53940.000000</td>\n",
       "      <td>53940.000000</td>\n",
       "      <td>53940.000000</td>\n",
       "      <td>53940.000000</td>\n",
       "    </tr>\n",
       "    <tr>\n",
       "      <th>mean</th>\n",
       "      <td>0.792558</td>\n",
       "      <td>61.749156</td>\n",
       "      <td>57.438561</td>\n",
       "      <td>3732.145690</td>\n",
       "      <td>5.731285</td>\n",
       "      <td>5.733311</td>\n",
       "      <td>3.538500</td>\n",
       "      <td>0.029848</td>\n",
       "      <td>0.090953</td>\n",
       "      <td>0.399537</td>\n",
       "      <td>...</td>\n",
       "      <td>0.100519</td>\n",
       "      <td>0.052058</td>\n",
       "      <td>0.013737</td>\n",
       "      <td>0.033185</td>\n",
       "      <td>0.242214</td>\n",
       "      <td>0.170449</td>\n",
       "      <td>0.151483</td>\n",
       "      <td>0.227253</td>\n",
       "      <td>0.067760</td>\n",
       "      <td>0.093919</td>\n",
       "    </tr>\n",
       "    <tr>\n",
       "      <th>std</th>\n",
       "      <td>0.457089</td>\n",
       "      <td>1.270254</td>\n",
       "      <td>2.161139</td>\n",
       "      <td>3436.769344</td>\n",
       "      <td>1.119956</td>\n",
       "      <td>1.111950</td>\n",
       "      <td>0.692494</td>\n",
       "      <td>0.170169</td>\n",
       "      <td>0.287545</td>\n",
       "      <td>0.489808</td>\n",
       "      <td>...</td>\n",
       "      <td>0.300694</td>\n",
       "      <td>0.222146</td>\n",
       "      <td>0.116400</td>\n",
       "      <td>0.179121</td>\n",
       "      <td>0.428427</td>\n",
       "      <td>0.376030</td>\n",
       "      <td>0.358522</td>\n",
       "      <td>0.419061</td>\n",
       "      <td>0.251337</td>\n",
       "      <td>0.291719</td>\n",
       "    </tr>\n",
       "    <tr>\n",
       "      <th>min</th>\n",
       "      <td>0.200000</td>\n",
       "      <td>58.750000</td>\n",
       "      <td>51.500000</td>\n",
       "      <td>326.000000</td>\n",
       "      <td>1.965000</td>\n",
       "      <td>1.990000</td>\n",
       "      <td>1.215000</td>\n",
       "      <td>0.000000</td>\n",
       "      <td>0.000000</td>\n",
       "      <td>0.000000</td>\n",
       "      <td>...</td>\n",
       "      <td>0.000000</td>\n",
       "      <td>0.000000</td>\n",
       "      <td>0.000000</td>\n",
       "      <td>0.000000</td>\n",
       "      <td>0.000000</td>\n",
       "      <td>0.000000</td>\n",
       "      <td>0.000000</td>\n",
       "      <td>0.000000</td>\n",
       "      <td>0.000000</td>\n",
       "      <td>0.000000</td>\n",
       "    </tr>\n",
       "    <tr>\n",
       "      <th>25%</th>\n",
       "      <td>0.400000</td>\n",
       "      <td>61.000000</td>\n",
       "      <td>56.000000</td>\n",
       "      <td>950.000000</td>\n",
       "      <td>4.710000</td>\n",
       "      <td>4.720000</td>\n",
       "      <td>2.910000</td>\n",
       "      <td>0.000000</td>\n",
       "      <td>0.000000</td>\n",
       "      <td>0.000000</td>\n",
       "      <td>...</td>\n",
       "      <td>0.000000</td>\n",
       "      <td>0.000000</td>\n",
       "      <td>0.000000</td>\n",
       "      <td>0.000000</td>\n",
       "      <td>0.000000</td>\n",
       "      <td>0.000000</td>\n",
       "      <td>0.000000</td>\n",
       "      <td>0.000000</td>\n",
       "      <td>0.000000</td>\n",
       "      <td>0.000000</td>\n",
       "    </tr>\n",
       "    <tr>\n",
       "      <th>50%</th>\n",
       "      <td>0.700000</td>\n",
       "      <td>61.800000</td>\n",
       "      <td>57.000000</td>\n",
       "      <td>2401.000000</td>\n",
       "      <td>5.700000</td>\n",
       "      <td>5.710000</td>\n",
       "      <td>3.530000</td>\n",
       "      <td>0.000000</td>\n",
       "      <td>0.000000</td>\n",
       "      <td>0.000000</td>\n",
       "      <td>...</td>\n",
       "      <td>0.000000</td>\n",
       "      <td>0.000000</td>\n",
       "      <td>0.000000</td>\n",
       "      <td>0.000000</td>\n",
       "      <td>0.000000</td>\n",
       "      <td>0.000000</td>\n",
       "      <td>0.000000</td>\n",
       "      <td>0.000000</td>\n",
       "      <td>0.000000</td>\n",
       "      <td>0.000000</td>\n",
       "    </tr>\n",
       "    <tr>\n",
       "      <th>75%</th>\n",
       "      <td>1.040000</td>\n",
       "      <td>62.500000</td>\n",
       "      <td>59.000000</td>\n",
       "      <td>5324.250000</td>\n",
       "      <td>6.540000</td>\n",
       "      <td>6.540000</td>\n",
       "      <td>4.040000</td>\n",
       "      <td>0.000000</td>\n",
       "      <td>0.000000</td>\n",
       "      <td>1.000000</td>\n",
       "      <td>...</td>\n",
       "      <td>0.000000</td>\n",
       "      <td>0.000000</td>\n",
       "      <td>0.000000</td>\n",
       "      <td>0.000000</td>\n",
       "      <td>0.000000</td>\n",
       "      <td>0.000000</td>\n",
       "      <td>0.000000</td>\n",
       "      <td>0.000000</td>\n",
       "      <td>0.000000</td>\n",
       "      <td>0.000000</td>\n",
       "    </tr>\n",
       "    <tr>\n",
       "      <th>max</th>\n",
       "      <td>2.000000</td>\n",
       "      <td>64.750000</td>\n",
       "      <td>63.500000</td>\n",
       "      <td>11885.625000</td>\n",
       "      <td>9.285000</td>\n",
       "      <td>9.270000</td>\n",
       "      <td>5.735000</td>\n",
       "      <td>1.000000</td>\n",
       "      <td>1.000000</td>\n",
       "      <td>1.000000</td>\n",
       "      <td>...</td>\n",
       "      <td>1.000000</td>\n",
       "      <td>1.000000</td>\n",
       "      <td>1.000000</td>\n",
       "      <td>1.000000</td>\n",
       "      <td>1.000000</td>\n",
       "      <td>1.000000</td>\n",
       "      <td>1.000000</td>\n",
       "      <td>1.000000</td>\n",
       "      <td>1.000000</td>\n",
       "      <td>1.000000</td>\n",
       "    </tr>\n",
       "  </tbody>\n",
       "</table>\n",
       "<p>8 rows × 27 columns</p>\n",
       "</div>"
      ],
      "text/plain": [
       "              carat         depth         table         price             x  \\\n",
       "count  53940.000000  53940.000000  53940.000000  53940.000000  53940.000000   \n",
       "mean       0.792558     61.749156     57.438561   3732.145690      5.731285   \n",
       "std        0.457089      1.270254      2.161139   3436.769344      1.119956   \n",
       "min        0.200000     58.750000     51.500000    326.000000      1.965000   \n",
       "25%        0.400000     61.000000     56.000000    950.000000      4.710000   \n",
       "50%        0.700000     61.800000     57.000000   2401.000000      5.700000   \n",
       "75%        1.040000     62.500000     59.000000   5324.250000      6.540000   \n",
       "max        2.000000     64.750000     63.500000  11885.625000      9.285000   \n",
       "\n",
       "                  y             z      cut_Fair      cut_Good     cut_Ideal  \\\n",
       "count  53940.000000  53940.000000  53940.000000  53940.000000  53940.000000   \n",
       "mean       5.733311      3.538500      0.029848      0.090953      0.399537   \n",
       "std        1.111950      0.692494      0.170169      0.287545      0.489808   \n",
       "min        1.990000      1.215000      0.000000      0.000000      0.000000   \n",
       "25%        4.720000      2.910000      0.000000      0.000000      0.000000   \n",
       "50%        5.710000      3.530000      0.000000      0.000000      0.000000   \n",
       "75%        6.540000      4.040000      0.000000      0.000000      1.000000   \n",
       "max        9.270000      5.735000      1.000000      1.000000      1.000000   \n",
       "\n",
       "       ...       color_I       color_J    clarity_I1    clarity_IF  \\\n",
       "count  ...  53940.000000  53940.000000  53940.000000  53940.000000   \n",
       "mean   ...      0.100519      0.052058      0.013737      0.033185   \n",
       "std    ...      0.300694      0.222146      0.116400      0.179121   \n",
       "min    ...      0.000000      0.000000      0.000000      0.000000   \n",
       "25%    ...      0.000000      0.000000      0.000000      0.000000   \n",
       "50%    ...      0.000000      0.000000      0.000000      0.000000   \n",
       "75%    ...      0.000000      0.000000      0.000000      0.000000   \n",
       "max    ...      1.000000      1.000000      1.000000      1.000000   \n",
       "\n",
       "        clarity_SI1   clarity_SI2   clarity_VS1   clarity_VS2  clarity_VVS1  \\\n",
       "count  53940.000000  53940.000000  53940.000000  53940.000000  53940.000000   \n",
       "mean       0.242214      0.170449      0.151483      0.227253      0.067760   \n",
       "std        0.428427      0.376030      0.358522      0.419061      0.251337   \n",
       "min        0.000000      0.000000      0.000000      0.000000      0.000000   \n",
       "25%        0.000000      0.000000      0.000000      0.000000      0.000000   \n",
       "50%        0.000000      0.000000      0.000000      0.000000      0.000000   \n",
       "75%        0.000000      0.000000      0.000000      0.000000      0.000000   \n",
       "max        1.000000      1.000000      1.000000      1.000000      1.000000   \n",
       "\n",
       "       clarity_VVS2  \n",
       "count  53940.000000  \n",
       "mean       0.093919  \n",
       "std        0.291719  \n",
       "min        0.000000  \n",
       "25%        0.000000  \n",
       "50%        0.000000  \n",
       "75%        0.000000  \n",
       "max        1.000000  \n",
       "\n",
       "[8 rows x 27 columns]"
      ]
     },
     "execution_count": 28,
     "metadata": {},
     "output_type": "execute_result"
    }
   ],
   "source": [
    "df_iqr.describe()"
   ]
  },
  {
   "cell_type": "code",
   "execution_count": null,
   "metadata": {},
   "outputs": [],
   "source": []
  }
 ],
 "metadata": {
  "colab": {
   "provenance": []
  },
  "kernelspec": {
   "display_name": "Python 3 (ipykernel)",
   "language": "python",
   "name": "python3"
  },
  "language_info": {
   "codemirror_mode": {
    "name": "ipython",
    "version": 3
   },
   "file_extension": ".py",
   "mimetype": "text/x-python",
   "name": "python",
   "nbconvert_exporter": "python",
   "pygments_lexer": "ipython3",
   "version": "3.9.13"
  }
 },
 "nbformat": 4,
 "nbformat_minor": 1
}
