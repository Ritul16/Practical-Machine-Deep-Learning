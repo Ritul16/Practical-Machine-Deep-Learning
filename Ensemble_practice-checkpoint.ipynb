{
 "cells": [
  {
   "cell_type": "markdown",
   "metadata": {
    "id": "FIujdVwsZ4vZ"
   },
   "source": [
    "# Multi Class Classification problem\n",
    "\n",
    "\n",
    "Devnagari character recognition"
   ]
  },
  {
   "cell_type": "code",
   "execution_count": 1,
   "metadata": {
    "colab": {
     "base_uri": "https://localhost:8080/"
    },
    "executionInfo": {
     "elapsed": 38346,
     "status": "ok",
     "timestamp": 1704709000623,
     "user": {
      "displayName": "IACSD Akurdi",
      "userId": "10433988175144222979"
     },
     "user_tz": -330
    },
    "id": "1aT3xo2ZW-hV",
    "outputId": "5ff72e90-36db-4e23-9da8-eb407b04cb17"
   },
   "outputs": [
    {
     "ename": "ModuleNotFoundError",
     "evalue": "No module named 'google'",
     "output_type": "error",
     "traceback": [
      "\u001b[1;31m---------------------------------------------------------------------------\u001b[0m",
      "\u001b[1;31mModuleNotFoundError\u001b[0m                       Traceback (most recent call last)",
      "Cell \u001b[1;32mIn[1], line 1\u001b[0m\n\u001b[1;32m----> 1\u001b[0m \u001b[38;5;28;01mfrom\u001b[39;00m \u001b[38;5;21;01mgoogle\u001b[39;00m\u001b[38;5;21;01m.\u001b[39;00m\u001b[38;5;21;01mcolab\u001b[39;00m \u001b[38;5;28;01mimport\u001b[39;00m drive\n\u001b[0;32m      2\u001b[0m drive\u001b[38;5;241m.\u001b[39mmount(\u001b[38;5;124m'\u001b[39m\u001b[38;5;124m/content/drive\u001b[39m\u001b[38;5;124m'\u001b[39m)\n",
      "\u001b[1;31mModuleNotFoundError\u001b[0m: No module named 'google'"
     ]
    }
   ],
   "source": [
    "from google.colab import drive\n",
    "drive.mount('/content/drive')"
   ]
  },
  {
   "cell_type": "code",
   "execution_count": 2,
   "metadata": {
    "executionInfo": {
     "elapsed": 416,
     "status": "ok",
     "timestamp": 1704709007186,
     "user": {
      "displayName": "IACSD Akurdi",
      "userId": "10433988175144222979"
     },
     "user_tz": -330
    },
    "id": "_GUZ9OmYVUZ4"
   },
   "outputs": [],
   "source": [
    "import pandas as pd"
   ]
  },
  {
   "cell_type": "code",
   "execution_count": 3,
   "metadata": {
    "executionInfo": {
     "elapsed": 7281,
     "status": "ok",
     "timestamp": 1704709055728,
     "user": {
      "displayName": "IACSD Akurdi",
      "userId": "10433988175144222979"
     },
     "user_tz": -330
    },
    "id": "YWdeIp_xWbUp"
   },
   "outputs": [],
   "source": [
    "df = pd.read_csv(r\"C:\\Users\\Ritul\\Desktop\\know it\\DBDA\\Machine Learning\\Day6\\devnagari_db_csv.zip\")"
   ]
  },
  {
   "cell_type": "code",
   "execution_count": 4,
   "metadata": {
    "colab": {
     "base_uri": "https://localhost:8080/"
    },
    "executionInfo": {
     "elapsed": 22,
     "status": "ok",
     "timestamp": 1704709055729,
     "user": {
      "displayName": "IACSD Akurdi",
      "userId": "10433988175144222979"
     },
     "user_tz": -330
    },
    "id": "jEqd5EdAWfE4",
    "outputId": "f9df64c5-35a3-4030-c467-93295f7997aa"
   },
   "outputs": [
    {
     "data": {
      "text/plain": [
       "(92000, 1025)"
      ]
     },
     "execution_count": 4,
     "metadata": {},
     "output_type": "execute_result"
    }
   ],
   "source": [
    "df.shape"
   ]
  },
  {
   "cell_type": "code",
   "execution_count": 5,
   "metadata": {
    "colab": {
     "base_uri": "https://localhost:8080/"
    },
    "executionInfo": {
     "elapsed": 399,
     "status": "ok",
     "timestamp": 1704709076779,
     "user": {
      "displayName": "IACSD Akurdi",
      "userId": "10433988175144222979"
     },
     "user_tz": -330
    },
    "id": "4uP9CA5lXVEM",
    "outputId": "5e794689-f721-497a-ee78-125b911fe35c"
   },
   "outputs": [
    {
     "data": {
      "text/plain": [
       "Index(['pixel_0000', 'pixel_0001', 'pixel_0002', 'pixel_0003', 'pixel_0004',\n",
       "       'pixel_0005', 'pixel_0006', 'pixel_0007', 'pixel_0008', 'pixel_0009',\n",
       "       ...\n",
       "       'pixel_1015', 'pixel_1016', 'pixel_1017', 'pixel_1018', 'pixel_1019',\n",
       "       'pixel_1020', 'pixel_1021', 'pixel_1022', 'pixel_1023', 'character'],\n",
       "      dtype='object', length=1025)"
      ]
     },
     "execution_count": 5,
     "metadata": {},
     "output_type": "execute_result"
    }
   ],
   "source": [
    "df.columns"
   ]
  },
  {
   "cell_type": "code",
   "execution_count": 6,
   "metadata": {
    "executionInfo": {
     "elapsed": 404,
     "status": "ok",
     "timestamp": 1704709160529,
     "user": {
      "displayName": "IACSD Akurdi",
      "userId": "10433988175144222979"
     },
     "user_tz": -330
    },
    "id": "-RVAAu2QjgSN"
   },
   "outputs": [],
   "source": [
    "selected_chars = ['character_04_gha', 'character_14_dhaa',\n",
    "                  'character_24_bha','character_25_ma',\n",
    "                  'character_21_pa','character_22_pha']"
   ]
  },
  {
   "cell_type": "code",
   "execution_count": 7,
   "metadata": {
    "executionInfo": {
     "elapsed": 387,
     "status": "ok",
     "timestamp": 1704709168771,
     "user": {
      "displayName": "IACSD Akurdi",
      "userId": "10433988175144222979"
     },
     "user_tz": -330
    },
    "id": "rT_xj2jIjpRN"
   },
   "outputs": [],
   "source": [
    "df_s = df.loc[df['character'].isin(selected_chars), :]"
   ]
  },
  {
   "cell_type": "code",
   "execution_count": 8,
   "metadata": {
    "colab": {
     "base_uri": "https://localhost:8080/"
    },
    "executionInfo": {
     "elapsed": 400,
     "status": "ok",
     "timestamp": 1704709201385,
     "user": {
      "displayName": "IACSD Akurdi",
      "userId": "10433988175144222979"
     },
     "user_tz": -330
    },
    "id": "cEiL5WQqkLv-",
    "outputId": "2e952338-11dc-472d-e034-4dc10a742fd1"
   },
   "outputs": [
    {
     "data": {
      "text/plain": [
       "(12000, 1025)"
      ]
     },
     "execution_count": 8,
     "metadata": {},
     "output_type": "execute_result"
    }
   ],
   "source": [
    "df_s.shape"
   ]
  },
  {
   "cell_type": "code",
   "execution_count": 9,
   "metadata": {
    "executionInfo": {
     "elapsed": 423,
     "status": "ok",
     "timestamp": 1704709251835,
     "user": {
      "displayName": "IACSD Akurdi",
      "userId": "10433988175144222979"
     },
     "user_tz": -330
    },
    "id": "lDMP2pyzXWSm"
   },
   "outputs": [],
   "source": [
    "X = df_s.drop('character',axis=1)\n",
    "y = df_s.loc[:,'character']"
   ]
  },
  {
   "cell_type": "code",
   "execution_count": 36,
   "metadata": {
    "colab": {
     "base_uri": "https://localhost:8080/"
    },
    "executionInfo": {
     "elapsed": 10,
     "status": "ok",
     "timestamp": 1704710830145,
     "user": {
      "displayName": "IACSD Akurdi",
      "userId": "10433988175144222979"
     },
     "user_tz": -330
    },
    "id": "pslTQ7PVYsZt",
    "outputId": "8adf1c91-167a-46ab-911b-2bbc234720f2"
   },
   "outputs": [
    {
     "data": {
      "text/plain": [
       "array([0, 1, 2, 3, 4, 5])"
      ]
     },
     "execution_count": 36,
     "metadata": {},
     "output_type": "execute_result"
    }
   ],
   "source": [
    "y.unique()# 4, 14 , 24,25, 21,22"
   ]
  },
  {
   "cell_type": "code",
   "execution_count": 11,
   "metadata": {
    "colab": {
     "base_uri": "https://localhost:8080/"
    },
    "executionInfo": {
     "elapsed": 407,
     "status": "ok",
     "timestamp": 1704709411540,
     "user": {
      "displayName": "IACSD Akurdi",
      "userId": "10433988175144222979"
     },
     "user_tz": -330
    },
    "id": "cYyJnD_LYuUT",
    "outputId": "39adfd9e-4fa5-47cb-ae84-4dd58daeaf8b"
   },
   "outputs": [
    {
     "data": {
      "text/plain": [
       "character_04_gha     2000\n",
       "character_14_dhaa    2000\n",
       "character_21_pa      2000\n",
       "character_22_pha     2000\n",
       "character_24_bha     2000\n",
       "character_25_ma      2000\n",
       "Name: character, dtype: int64"
      ]
     },
     "execution_count": 11,
     "metadata": {},
     "output_type": "execute_result"
    }
   ],
   "source": [
    "y.value_counts()"
   ]
  },
  {
   "cell_type": "code",
   "execution_count": 32,
   "metadata": {
    "executionInfo": {
     "elapsed": 413,
     "status": "ok",
     "timestamp": 1704710758172,
     "user": {
      "displayName": "IACSD Akurdi",
      "userId": "10433988175144222979"
     },
     "user_tz": -330
    },
    "id": "0_3zUNQMrO-a"
   },
   "outputs": [],
   "source": [
    "label_map = {\n",
    "    'character_04_gha':0, 'character_14_dhaa':1, 'character_21_pa':2,\n",
    "       'character_22_pha':3, 'character_24_bha':4, 'character_25_ma':5\n",
    "}"
   ]
  },
  {
   "cell_type": "code",
   "execution_count": 35,
   "metadata": {
    "colab": {
     "base_uri": "https://localhost:8080/"
    },
    "executionInfo": {
     "elapsed": 8,
     "status": "ok",
     "timestamp": 1704710821497,
     "user": {
      "displayName": "IACSD Akurdi",
      "userId": "10433988175144222979"
     },
     "user_tz": -330
    },
    "id": "tB6TjZyjrdSe",
    "outputId": "0ef6d4d8-2266-4a7f-bfe5-27f89ad88025"
   },
   "outputs": [
    {
     "name": "stderr",
     "output_type": "stream",
     "text": [
      "<ipython-input-35-dfe04e5f1658>:1: SettingWithCopyWarning: \n",
      "A value is trying to be set on a copy of a slice from a DataFrame\n",
      "\n",
      "See the caveats in the documentation: https://pandas.pydata.org/pandas-docs/stable/user_guide/indexing.html#returning-a-view-versus-a-copy\n",
      "  y.replace(label_map,inplace=True)\n"
     ]
    }
   ],
   "source": [
    "y.replace(label_map,inplace=True)"
   ]
  },
  {
   "cell_type": "code",
   "execution_count": 37,
   "metadata": {
    "colab": {
     "base_uri": "https://localhost:8080/"
    },
    "executionInfo": {
     "elapsed": 8,
     "status": "ok",
     "timestamp": 1704710834165,
     "user": {
      "displayName": "IACSD Akurdi",
      "userId": "10433988175144222979"
     },
     "user_tz": -330
    },
    "id": "Q2t0zaptruS1",
    "outputId": "ee294d8d-0090-4efb-f2b2-3acaac1c0018"
   },
   "outputs": [
    {
     "data": {
      "text/plain": [
       "array([0, 1, 2, 3, 4, 5])"
      ]
     },
     "execution_count": 37,
     "metadata": {},
     "output_type": "execute_result"
    }
   ],
   "source": [
    "y.unique()"
   ]
  },
  {
   "cell_type": "code",
   "execution_count": 38,
   "metadata": {
    "executionInfo": {
     "elapsed": 8,
     "status": "ok",
     "timestamp": 1704710847348,
     "user": {
      "displayName": "IACSD Akurdi",
      "userId": "10433988175144222979"
     },
     "user_tz": -330
    },
    "id": "ekwM7z2frxDL"
   },
   "outputs": [],
   "source": [
    "y = y.astype('int')"
   ]
  },
  {
   "cell_type": "code",
   "execution_count": 39,
   "metadata": {
    "executionInfo": {
     "elapsed": 489,
     "status": "ok",
     "timestamp": 1704710852179,
     "user": {
      "displayName": "IACSD Akurdi",
      "userId": "10433988175144222979"
     },
     "user_tz": -330
    },
    "id": "V97LTc4kY0XE"
   },
   "outputs": [],
   "source": [
    "from sklearn.model_selection import train_test_split"
   ]
  },
  {
   "cell_type": "code",
   "execution_count": 40,
   "metadata": {
    "executionInfo": {
     "elapsed": 7,
     "status": "ok",
     "timestamp": 1704710852702,
     "user": {
      "displayName": "IACSD Akurdi",
      "userId": "10433988175144222979"
     },
     "user_tz": -330
    },
    "id": "H0JQt9nwZQ37"
   },
   "outputs": [],
   "source": [
    "X_train,X_test,y_train,y_test = train_test_split(X,y,\n",
    "                                                 test_size=0.3,\n",
    "                                                 random_state=7,\n",
    "                                                 stratify=y)"
   ]
  },
  {
   "cell_type": "code",
   "execution_count": 41,
   "metadata": {
    "colab": {
     "base_uri": "https://localhost:8080/"
    },
    "executionInfo": {
     "elapsed": 8,
     "status": "ok",
     "timestamp": 1704710855553,
     "user": {
      "displayName": "IACSD Akurdi",
      "userId": "10433988175144222979"
     },
     "user_tz": -330
    },
    "id": "oaEopSVPZhDP",
    "outputId": "2f82bf65-139d-4c1f-85ec-2d9da686473c"
   },
   "outputs": [
    {
     "data": {
      "text/plain": [
       "((8400, 1024), (3600, 1024), (8400,), (3600,))"
      ]
     },
     "execution_count": 41,
     "metadata": {},
     "output_type": "execute_result"
    }
   ],
   "source": [
    "X_train.shape,X_test.shape,y_train.shape,y_test.shape"
   ]
  },
  {
   "cell_type": "markdown",
   "metadata": {
    "id": "S2h5QX8taWh2"
   },
   "source": [
    "# which classifiers support Multi class classification directly ?\n",
    "\n",
    "- Decision Tree\n",
    "- Logistic Regression\n",
    "- KNN\n",
    "- RandomForestClassifier\n",
    "- GradientBoostingClassifier\n",
    "- XGBoostClassifier\n",
    "- CatBoostClassifier"
   ]
  },
  {
   "cell_type": "code",
   "execution_count": 42,
   "metadata": {
    "executionInfo": {
     "elapsed": 3,
     "status": "ok",
     "timestamp": 1704710856848,
     "user": {
      "displayName": "IACSD Akurdi",
      "userId": "10433988175144222979"
     },
     "user_tz": -330
    },
    "id": "B0wUEvAEZlgq"
   },
   "outputs": [],
   "source": [
    "from sklearn.linear_model import LogisticRegression"
   ]
  },
  {
   "cell_type": "code",
   "execution_count": 43,
   "metadata": {
    "executionInfo": {
     "elapsed": 4,
     "status": "ok",
     "timestamp": 1704710857232,
     "user": {
      "displayName": "IACSD Akurdi",
      "userId": "10433988175144222979"
     },
     "user_tz": -330
    },
    "id": "WOMM_uHEe2eA"
   },
   "outputs": [],
   "source": [
    "lr = LogisticRegression(solver=\"saga\",random_state=7)"
   ]
  },
  {
   "cell_type": "code",
   "execution_count": 44,
   "metadata": {
    "colab": {
     "base_uri": "https://localhost:8080/",
     "height": 129
    },
    "executionInfo": {
     "elapsed": 28783,
     "status": "ok",
     "timestamp": 1704710886564,
     "user": {
      "displayName": "IACSD Akurdi",
      "userId": "10433988175144222979"
     },
     "user_tz": -330
    },
    "id": "1XzuCunPfHrl",
    "outputId": "90069ce3-fb38-4bb1-b86f-2d66ead4a602"
   },
   "outputs": [
    {
     "name": "stderr",
     "output_type": "stream",
     "text": [
      "/usr/local/lib/python3.10/dist-packages/sklearn/linear_model/_sag.py:350: ConvergenceWarning: The max_iter was reached which means the coef_ did not converge\n",
      "  warnings.warn(\n"
     ]
    },
    {
     "data": {
      "text/html": [
       "<style>#sk-container-id-3 {color: black;background-color: white;}#sk-container-id-3 pre{padding: 0;}#sk-container-id-3 div.sk-toggleable {background-color: white;}#sk-container-id-3 label.sk-toggleable__label {cursor: pointer;display: block;width: 100%;margin-bottom: 0;padding: 0.3em;box-sizing: border-box;text-align: center;}#sk-container-id-3 label.sk-toggleable__label-arrow:before {content: \"▸\";float: left;margin-right: 0.25em;color: #696969;}#sk-container-id-3 label.sk-toggleable__label-arrow:hover:before {color: black;}#sk-container-id-3 div.sk-estimator:hover label.sk-toggleable__label-arrow:before {color: black;}#sk-container-id-3 div.sk-toggleable__content {max-height: 0;max-width: 0;overflow: hidden;text-align: left;background-color: #f0f8ff;}#sk-container-id-3 div.sk-toggleable__content pre {margin: 0.2em;color: black;border-radius: 0.25em;background-color: #f0f8ff;}#sk-container-id-3 input.sk-toggleable__control:checked~div.sk-toggleable__content {max-height: 200px;max-width: 100%;overflow: auto;}#sk-container-id-3 input.sk-toggleable__control:checked~label.sk-toggleable__label-arrow:before {content: \"▾\";}#sk-container-id-3 div.sk-estimator input.sk-toggleable__control:checked~label.sk-toggleable__label {background-color: #d4ebff;}#sk-container-id-3 div.sk-label input.sk-toggleable__control:checked~label.sk-toggleable__label {background-color: #d4ebff;}#sk-container-id-3 input.sk-hidden--visually {border: 0;clip: rect(1px 1px 1px 1px);clip: rect(1px, 1px, 1px, 1px);height: 1px;margin: -1px;overflow: hidden;padding: 0;position: absolute;width: 1px;}#sk-container-id-3 div.sk-estimator {font-family: monospace;background-color: #f0f8ff;border: 1px dotted black;border-radius: 0.25em;box-sizing: border-box;margin-bottom: 0.5em;}#sk-container-id-3 div.sk-estimator:hover {background-color: #d4ebff;}#sk-container-id-3 div.sk-parallel-item::after {content: \"\";width: 100%;border-bottom: 1px solid gray;flex-grow: 1;}#sk-container-id-3 div.sk-label:hover label.sk-toggleable__label {background-color: #d4ebff;}#sk-container-id-3 div.sk-serial::before {content: \"\";position: absolute;border-left: 1px solid gray;box-sizing: border-box;top: 0;bottom: 0;left: 50%;z-index: 0;}#sk-container-id-3 div.sk-serial {display: flex;flex-direction: column;align-items: center;background-color: white;padding-right: 0.2em;padding-left: 0.2em;position: relative;}#sk-container-id-3 div.sk-item {position: relative;z-index: 1;}#sk-container-id-3 div.sk-parallel {display: flex;align-items: stretch;justify-content: center;background-color: white;position: relative;}#sk-container-id-3 div.sk-item::before, #sk-container-id-3 div.sk-parallel-item::before {content: \"\";position: absolute;border-left: 1px solid gray;box-sizing: border-box;top: 0;bottom: 0;left: 50%;z-index: -1;}#sk-container-id-3 div.sk-parallel-item {display: flex;flex-direction: column;z-index: 1;position: relative;background-color: white;}#sk-container-id-3 div.sk-parallel-item:first-child::after {align-self: flex-end;width: 50%;}#sk-container-id-3 div.sk-parallel-item:last-child::after {align-self: flex-start;width: 50%;}#sk-container-id-3 div.sk-parallel-item:only-child::after {width: 0;}#sk-container-id-3 div.sk-dashed-wrapped {border: 1px dashed gray;margin: 0 0.4em 0.5em 0.4em;box-sizing: border-box;padding-bottom: 0.4em;background-color: white;}#sk-container-id-3 div.sk-label label {font-family: monospace;font-weight: bold;display: inline-block;line-height: 1.2em;}#sk-container-id-3 div.sk-label-container {text-align: center;}#sk-container-id-3 div.sk-container {/* jupyter's `normalize.less` sets `[hidden] { display: none; }` but bootstrap.min.css set `[hidden] { display: none !important; }` so we also need the `!important` here to be able to override the default hidden behavior on the sphinx rendered scikit-learn.org. See: https://github.com/scikit-learn/scikit-learn/issues/21755 */display: inline-block !important;position: relative;}#sk-container-id-3 div.sk-text-repr-fallback {display: none;}</style><div id=\"sk-container-id-3\" class=\"sk-top-container\"><div class=\"sk-text-repr-fallback\"><pre>LogisticRegression(random_state=7, solver=&#x27;saga&#x27;)</pre><b>In a Jupyter environment, please rerun this cell to show the HTML representation or trust the notebook. <br />On GitHub, the HTML representation is unable to render, please try loading this page with nbviewer.org.</b></div><div class=\"sk-container\" hidden><div class=\"sk-item\"><div class=\"sk-estimator sk-toggleable\"><input class=\"sk-toggleable__control sk-hidden--visually\" id=\"sk-estimator-id-3\" type=\"checkbox\" checked><label for=\"sk-estimator-id-3\" class=\"sk-toggleable__label sk-toggleable__label-arrow\">LogisticRegression</label><div class=\"sk-toggleable__content\"><pre>LogisticRegression(random_state=7, solver=&#x27;saga&#x27;)</pre></div></div></div></div></div>"
      ],
      "text/plain": [
       "LogisticRegression(random_state=7, solver='saga')"
      ]
     },
     "execution_count": 44,
     "metadata": {},
     "output_type": "execute_result"
    }
   ],
   "source": [
    "lr.fit(X_train,y_train)"
   ]
  },
  {
   "cell_type": "code",
   "execution_count": 45,
   "metadata": {
    "executionInfo": {
     "elapsed": 381,
     "status": "ok",
     "timestamp": 1704710891580,
     "user": {
      "displayName": "IACSD Akurdi",
      "userId": "10433988175144222979"
     },
     "user_tz": -330
    },
    "id": "J986b_uUfL09"
   },
   "outputs": [],
   "source": [
    "y_pred = lr.predict(X_test)"
   ]
  },
  {
   "cell_type": "code",
   "execution_count": 46,
   "metadata": {
    "executionInfo": {
     "elapsed": 9,
     "status": "ok",
     "timestamp": 1704710891988,
     "user": {
      "displayName": "IACSD Akurdi",
      "userId": "10433988175144222979"
     },
     "user_tz": -330
    },
    "id": "wNGmtsRHbwNl"
   },
   "outputs": [],
   "source": [
    "from sklearn.metrics import precision_score, recall_score, f1_score\n",
    "from sklearn.metrics import precision_recall_fscore_support\n",
    "from sklearn.metrics import classification_report"
   ]
  },
  {
   "cell_type": "code",
   "execution_count": 47,
   "metadata": {
    "colab": {
     "base_uri": "https://localhost:8080/"
    },
    "executionInfo": {
     "elapsed": 22,
     "status": "ok",
     "timestamp": 1704710895664,
     "user": {
      "displayName": "IACSD Akurdi",
      "userId": "10433988175144222979"
     },
     "user_tz": -330
    },
    "id": "HZiF8z1cfO4s",
    "outputId": "d4ecf4cb-1247-446b-e5f3-2b120f4c7d10"
   },
   "outputs": [
    {
     "data": {
      "text/plain": [
       "0.8905555555555555"
      ]
     },
     "execution_count": 47,
     "metadata": {},
     "output_type": "execute_result"
    }
   ],
   "source": [
    "precision_score(y_test,y_pred,  average=\"micro\")"
   ]
  },
  {
   "cell_type": "code",
   "execution_count": 48,
   "metadata": {
    "colab": {
     "base_uri": "https://localhost:8080/"
    },
    "executionInfo": {
     "elapsed": 20,
     "status": "ok",
     "timestamp": 1704710895664,
     "user": {
      "displayName": "IACSD Akurdi",
      "userId": "10433988175144222979"
     },
     "user_tz": -330
    },
    "id": "mknFerwYm5NT",
    "outputId": "aae8bd44-f098-4ffe-bae0-08338dd619a1"
   },
   "outputs": [
    {
     "data": {
      "text/plain": [
       "0.8905555555555555"
      ]
     },
     "execution_count": 48,
     "metadata": {},
     "output_type": "execute_result"
    }
   ],
   "source": [
    "recall_score(y_test,y_pred, average=\"micro\")"
   ]
  },
  {
   "cell_type": "code",
   "execution_count": 49,
   "metadata": {
    "colab": {
     "base_uri": "https://localhost:8080/"
    },
    "executionInfo": {
     "elapsed": 16,
     "status": "ok",
     "timestamp": 1704710895665,
     "user": {
      "displayName": "IACSD Akurdi",
      "userId": "10433988175144222979"
     },
     "user_tz": -330
    },
    "id": "MlUReRoAm9H3",
    "outputId": "d72293cf-3aac-429b-aae6-09ed5b61f807"
   },
   "outputs": [
    {
     "data": {
      "text/plain": [
       "0.8905555555555555"
      ]
     },
     "execution_count": 49,
     "metadata": {},
     "output_type": "execute_result"
    }
   ],
   "source": [
    "f1_score(y_test,y_pred, average=\"micro\")"
   ]
  },
  {
   "cell_type": "code",
   "execution_count": 50,
   "metadata": {
    "colab": {
     "base_uri": "https://localhost:8080/"
    },
    "executionInfo": {
     "elapsed": 10,
     "status": "ok",
     "timestamp": 1704710895665,
     "user": {
      "displayName": "IACSD Akurdi",
      "userId": "10433988175144222979"
     },
     "user_tz": -330
    },
    "id": "XFt0cgxTnBQA",
    "outputId": "f75d107f-b597-4138-9d35-d382ddcd4f60"
   },
   "outputs": [
    {
     "name": "stdout",
     "output_type": "stream",
     "text": [
      "              precision    recall  f1-score   support\n",
      "\n",
      "           0       0.84      0.83      0.83       600\n",
      "           1       0.98      0.97      0.98       600\n",
      "           2       0.83      0.86      0.84       600\n",
      "           3       0.93      0.93      0.93       600\n",
      "           4       0.89      0.89      0.89       600\n",
      "           5       0.88      0.87      0.88       600\n",
      "\n",
      "    accuracy                           0.89      3600\n",
      "   macro avg       0.89      0.89      0.89      3600\n",
      "weighted avg       0.89      0.89      0.89      3600\n",
      "\n"
     ]
    }
   ],
   "source": [
    "print(classification_report(y_test,y_pred ))"
   ]
  },
  {
   "cell_type": "markdown",
   "metadata": {
    "id": "mLxGKm4pmkix"
   },
   "source": [
    "# Random Forest Classifier"
   ]
  },
  {
   "cell_type": "code",
   "execution_count": 24,
   "metadata": {
    "executionInfo": {
     "elapsed": 414,
     "status": "ok",
     "timestamp": 1704709801928,
     "user": {
      "displayName": "IACSD Akurdi",
      "userId": "10433988175144222979"
     },
     "user_tz": -330
    },
    "id": "3YdzqqtGmmXj"
   },
   "outputs": [],
   "source": [
    "from sklearn.ensemble import RandomForestClassifier"
   ]
  },
  {
   "cell_type": "code",
   "execution_count": 51,
   "metadata": {
    "executionInfo": {
     "elapsed": 498,
     "status": "ok",
     "timestamp": 1704710907681,
     "user": {
      "displayName": "IACSD Akurdi",
      "userId": "10433988175144222979"
     },
     "user_tz": -330
    },
    "id": "JfAc49Nnn9k5"
   },
   "outputs": [],
   "source": [
    "rf = RandomForestClassifier(max_samples = 0.8, oob_score = True,\n",
    "                       random_state=7)"
   ]
  },
  {
   "cell_type": "code",
   "execution_count": 52,
   "metadata": {
    "colab": {
     "base_uri": "https://localhost:8080/",
     "height": 74
    },
    "executionInfo": {
     "elapsed": 6576,
     "status": "ok",
     "timestamp": 1704710914790,
     "user": {
      "displayName": "IACSD Akurdi",
      "userId": "10433988175144222979"
     },
     "user_tz": -330
    },
    "id": "2F_tK7VeosuH",
    "outputId": "1c024eab-b511-46d4-8b19-6b4db2ff5e83"
   },
   "outputs": [
    {
     "data": {
      "text/html": [
       "<style>#sk-container-id-4 {color: black;background-color: white;}#sk-container-id-4 pre{padding: 0;}#sk-container-id-4 div.sk-toggleable {background-color: white;}#sk-container-id-4 label.sk-toggleable__label {cursor: pointer;display: block;width: 100%;margin-bottom: 0;padding: 0.3em;box-sizing: border-box;text-align: center;}#sk-container-id-4 label.sk-toggleable__label-arrow:before {content: \"▸\";float: left;margin-right: 0.25em;color: #696969;}#sk-container-id-4 label.sk-toggleable__label-arrow:hover:before {color: black;}#sk-container-id-4 div.sk-estimator:hover label.sk-toggleable__label-arrow:before {color: black;}#sk-container-id-4 div.sk-toggleable__content {max-height: 0;max-width: 0;overflow: hidden;text-align: left;background-color: #f0f8ff;}#sk-container-id-4 div.sk-toggleable__content pre {margin: 0.2em;color: black;border-radius: 0.25em;background-color: #f0f8ff;}#sk-container-id-4 input.sk-toggleable__control:checked~div.sk-toggleable__content {max-height: 200px;max-width: 100%;overflow: auto;}#sk-container-id-4 input.sk-toggleable__control:checked~label.sk-toggleable__label-arrow:before {content: \"▾\";}#sk-container-id-4 div.sk-estimator input.sk-toggleable__control:checked~label.sk-toggleable__label {background-color: #d4ebff;}#sk-container-id-4 div.sk-label input.sk-toggleable__control:checked~label.sk-toggleable__label {background-color: #d4ebff;}#sk-container-id-4 input.sk-hidden--visually {border: 0;clip: rect(1px 1px 1px 1px);clip: rect(1px, 1px, 1px, 1px);height: 1px;margin: -1px;overflow: hidden;padding: 0;position: absolute;width: 1px;}#sk-container-id-4 div.sk-estimator {font-family: monospace;background-color: #f0f8ff;border: 1px dotted black;border-radius: 0.25em;box-sizing: border-box;margin-bottom: 0.5em;}#sk-container-id-4 div.sk-estimator:hover {background-color: #d4ebff;}#sk-container-id-4 div.sk-parallel-item::after {content: \"\";width: 100%;border-bottom: 1px solid gray;flex-grow: 1;}#sk-container-id-4 div.sk-label:hover label.sk-toggleable__label {background-color: #d4ebff;}#sk-container-id-4 div.sk-serial::before {content: \"\";position: absolute;border-left: 1px solid gray;box-sizing: border-box;top: 0;bottom: 0;left: 50%;z-index: 0;}#sk-container-id-4 div.sk-serial {display: flex;flex-direction: column;align-items: center;background-color: white;padding-right: 0.2em;padding-left: 0.2em;position: relative;}#sk-container-id-4 div.sk-item {position: relative;z-index: 1;}#sk-container-id-4 div.sk-parallel {display: flex;align-items: stretch;justify-content: center;background-color: white;position: relative;}#sk-container-id-4 div.sk-item::before, #sk-container-id-4 div.sk-parallel-item::before {content: \"\";position: absolute;border-left: 1px solid gray;box-sizing: border-box;top: 0;bottom: 0;left: 50%;z-index: -1;}#sk-container-id-4 div.sk-parallel-item {display: flex;flex-direction: column;z-index: 1;position: relative;background-color: white;}#sk-container-id-4 div.sk-parallel-item:first-child::after {align-self: flex-end;width: 50%;}#sk-container-id-4 div.sk-parallel-item:last-child::after {align-self: flex-start;width: 50%;}#sk-container-id-4 div.sk-parallel-item:only-child::after {width: 0;}#sk-container-id-4 div.sk-dashed-wrapped {border: 1px dashed gray;margin: 0 0.4em 0.5em 0.4em;box-sizing: border-box;padding-bottom: 0.4em;background-color: white;}#sk-container-id-4 div.sk-label label {font-family: monospace;font-weight: bold;display: inline-block;line-height: 1.2em;}#sk-container-id-4 div.sk-label-container {text-align: center;}#sk-container-id-4 div.sk-container {/* jupyter's `normalize.less` sets `[hidden] { display: none; }` but bootstrap.min.css set `[hidden] { display: none !important; }` so we also need the `!important` here to be able to override the default hidden behavior on the sphinx rendered scikit-learn.org. See: https://github.com/scikit-learn/scikit-learn/issues/21755 */display: inline-block !important;position: relative;}#sk-container-id-4 div.sk-text-repr-fallback {display: none;}</style><div id=\"sk-container-id-4\" class=\"sk-top-container\"><div class=\"sk-text-repr-fallback\"><pre>RandomForestClassifier(max_samples=0.8, oob_score=True, random_state=7)</pre><b>In a Jupyter environment, please rerun this cell to show the HTML representation or trust the notebook. <br />On GitHub, the HTML representation is unable to render, please try loading this page with nbviewer.org.</b></div><div class=\"sk-container\" hidden><div class=\"sk-item\"><div class=\"sk-estimator sk-toggleable\"><input class=\"sk-toggleable__control sk-hidden--visually\" id=\"sk-estimator-id-4\" type=\"checkbox\" checked><label for=\"sk-estimator-id-4\" class=\"sk-toggleable__label sk-toggleable__label-arrow\">RandomForestClassifier</label><div class=\"sk-toggleable__content\"><pre>RandomForestClassifier(max_samples=0.8, oob_score=True, random_state=7)</pre></div></div></div></div></div>"
      ],
      "text/plain": [
       "RandomForestClassifier(max_samples=0.8, oob_score=True, random_state=7)"
      ]
     },
     "execution_count": 52,
     "metadata": {},
     "output_type": "execute_result"
    }
   ],
   "source": [
    "rf.fit(X_train,y_train)"
   ]
  },
  {
   "cell_type": "code",
   "execution_count": 53,
   "metadata": {
    "executionInfo": {
     "elapsed": 640,
     "status": "ok",
     "timestamp": 1704710915418,
     "user": {
      "displayName": "IACSD Akurdi",
      "userId": "10433988175144222979"
     },
     "user_tz": -330
    },
    "id": "mk_8tfrTouun"
   },
   "outputs": [],
   "source": [
    "y_pred = rf.predict(X_test)"
   ]
  },
  {
   "cell_type": "code",
   "execution_count": 54,
   "metadata": {
    "colab": {
     "base_uri": "https://localhost:8080/"
    },
    "executionInfo": {
     "elapsed": 5,
     "status": "ok",
     "timestamp": 1704710915419,
     "user": {
      "displayName": "IACSD Akurdi",
      "userId": "10433988175144222979"
     },
     "user_tz": -330
    },
    "id": "GrowbY6yo3PQ",
    "outputId": "f43da128-13d5-4067-ebd2-c2e24ad52983"
   },
   "outputs": [
    {
     "name": "stdout",
     "output_type": "stream",
     "text": [
      "              precision    recall  f1-score   support\n",
      "\n",
      "           0       0.95      0.93      0.94       600\n",
      "           1       0.99      0.98      0.99       600\n",
      "           2       0.91      0.96      0.93       600\n",
      "           3       0.96      0.96      0.96       600\n",
      "           4       0.95      0.91      0.93       600\n",
      "           5       0.92      0.94      0.93       600\n",
      "\n",
      "    accuracy                           0.95      3600\n",
      "   macro avg       0.95      0.95      0.95      3600\n",
      "weighted avg       0.95      0.95      0.95      3600\n",
      "\n"
     ]
    }
   ],
   "source": [
    "print(classification_report(y_test,y_pred ))"
   ]
  },
  {
   "cell_type": "code",
   "execution_count": null,
   "metadata": {
    "colab": {
     "base_uri": "https://localhost:8080/"
    },
    "executionInfo": {
     "elapsed": 546,
     "status": "ok",
     "timestamp": 1674242781026,
     "user": {
      "displayName": "IACSD Akurdi",
      "userId": "10433988175144222979"
     },
     "user_tz": -330
    },
    "id": "S8VKFSwFpInm",
    "outputId": "38fb0fbf-1499-478e-ba5d-e9498617e852"
   },
   "outputs": [
    {
     "data": {
      "text/plain": [
       "0.9466666666666667"
      ]
     },
     "execution_count": 41,
     "metadata": {},
     "output_type": "execute_result"
    }
   ],
   "source": [
    "f1_score(y_test,y_pred, average=\"micro\")"
   ]
  },
  {
   "cell_type": "markdown",
   "metadata": {
    "id": "GrFdSTt4zLID"
   },
   "source": [
    "# XGBoost\n",
    "\n",
    "https://xgboost.readthedocs.io/en/stable/python/python_api.html#xgboost.XGBClassifier"
   ]
  },
  {
   "cell_type": "code",
   "execution_count": 55,
   "metadata": {
    "executionInfo": {
     "elapsed": 15,
     "status": "ok",
     "timestamp": 1704710923081,
     "user": {
      "displayName": "IACSD Akurdi",
      "userId": "10433988175144222979"
     },
     "user_tz": -330
    },
    "id": "3erahOiGpL1P"
   },
   "outputs": [],
   "source": [
    "import xgboost as xg"
   ]
  },
  {
   "cell_type": "code",
   "execution_count": 56,
   "metadata": {
    "executionInfo": {
     "elapsed": 8,
     "status": "ok",
     "timestamp": 1704710923082,
     "user": {
      "displayName": "IACSD Akurdi",
      "userId": "10433988175144222979"
     },
     "user_tz": -330
    },
    "id": "wTZfpKsHznqh"
   },
   "outputs": [],
   "source": [
    "xgc = xg.XGBClassifier(random_state=7)"
   ]
  },
  {
   "cell_type": "code",
   "execution_count": 57,
   "metadata": {
    "colab": {
     "base_uri": "https://localhost:8080/",
     "height": 248
    },
    "executionInfo": {
     "elapsed": 79559,
     "status": "ok",
     "timestamp": 1704711003018,
     "user": {
      "displayName": "IACSD Akurdi",
      "userId": "10433988175144222979"
     },
     "user_tz": -330
    },
    "id": "QSfMQe06z0UZ",
    "outputId": "e043c795-cae6-420f-d0e3-1420a1189ac8"
   },
   "outputs": [
    {
     "data": {
      "text/html": [
       "<style>#sk-container-id-5 {color: black;background-color: white;}#sk-container-id-5 pre{padding: 0;}#sk-container-id-5 div.sk-toggleable {background-color: white;}#sk-container-id-5 label.sk-toggleable__label {cursor: pointer;display: block;width: 100%;margin-bottom: 0;padding: 0.3em;box-sizing: border-box;text-align: center;}#sk-container-id-5 label.sk-toggleable__label-arrow:before {content: \"▸\";float: left;margin-right: 0.25em;color: #696969;}#sk-container-id-5 label.sk-toggleable__label-arrow:hover:before {color: black;}#sk-container-id-5 div.sk-estimator:hover label.sk-toggleable__label-arrow:before {color: black;}#sk-container-id-5 div.sk-toggleable__content {max-height: 0;max-width: 0;overflow: hidden;text-align: left;background-color: #f0f8ff;}#sk-container-id-5 div.sk-toggleable__content pre {margin: 0.2em;color: black;border-radius: 0.25em;background-color: #f0f8ff;}#sk-container-id-5 input.sk-toggleable__control:checked~div.sk-toggleable__content {max-height: 200px;max-width: 100%;overflow: auto;}#sk-container-id-5 input.sk-toggleable__control:checked~label.sk-toggleable__label-arrow:before {content: \"▾\";}#sk-container-id-5 div.sk-estimator input.sk-toggleable__control:checked~label.sk-toggleable__label {background-color: #d4ebff;}#sk-container-id-5 div.sk-label input.sk-toggleable__control:checked~label.sk-toggleable__label {background-color: #d4ebff;}#sk-container-id-5 input.sk-hidden--visually {border: 0;clip: rect(1px 1px 1px 1px);clip: rect(1px, 1px, 1px, 1px);height: 1px;margin: -1px;overflow: hidden;padding: 0;position: absolute;width: 1px;}#sk-container-id-5 div.sk-estimator {font-family: monospace;background-color: #f0f8ff;border: 1px dotted black;border-radius: 0.25em;box-sizing: border-box;margin-bottom: 0.5em;}#sk-container-id-5 div.sk-estimator:hover {background-color: #d4ebff;}#sk-container-id-5 div.sk-parallel-item::after {content: \"\";width: 100%;border-bottom: 1px solid gray;flex-grow: 1;}#sk-container-id-5 div.sk-label:hover label.sk-toggleable__label {background-color: #d4ebff;}#sk-container-id-5 div.sk-serial::before {content: \"\";position: absolute;border-left: 1px solid gray;box-sizing: border-box;top: 0;bottom: 0;left: 50%;z-index: 0;}#sk-container-id-5 div.sk-serial {display: flex;flex-direction: column;align-items: center;background-color: white;padding-right: 0.2em;padding-left: 0.2em;position: relative;}#sk-container-id-5 div.sk-item {position: relative;z-index: 1;}#sk-container-id-5 div.sk-parallel {display: flex;align-items: stretch;justify-content: center;background-color: white;position: relative;}#sk-container-id-5 div.sk-item::before, #sk-container-id-5 div.sk-parallel-item::before {content: \"\";position: absolute;border-left: 1px solid gray;box-sizing: border-box;top: 0;bottom: 0;left: 50%;z-index: -1;}#sk-container-id-5 div.sk-parallel-item {display: flex;flex-direction: column;z-index: 1;position: relative;background-color: white;}#sk-container-id-5 div.sk-parallel-item:first-child::after {align-self: flex-end;width: 50%;}#sk-container-id-5 div.sk-parallel-item:last-child::after {align-self: flex-start;width: 50%;}#sk-container-id-5 div.sk-parallel-item:only-child::after {width: 0;}#sk-container-id-5 div.sk-dashed-wrapped {border: 1px dashed gray;margin: 0 0.4em 0.5em 0.4em;box-sizing: border-box;padding-bottom: 0.4em;background-color: white;}#sk-container-id-5 div.sk-label label {font-family: monospace;font-weight: bold;display: inline-block;line-height: 1.2em;}#sk-container-id-5 div.sk-label-container {text-align: center;}#sk-container-id-5 div.sk-container {/* jupyter's `normalize.less` sets `[hidden] { display: none; }` but bootstrap.min.css set `[hidden] { display: none !important; }` so we also need the `!important` here to be able to override the default hidden behavior on the sphinx rendered scikit-learn.org. See: https://github.com/scikit-learn/scikit-learn/issues/21755 */display: inline-block !important;position: relative;}#sk-container-id-5 div.sk-text-repr-fallback {display: none;}</style><div id=\"sk-container-id-5\" class=\"sk-top-container\"><div class=\"sk-text-repr-fallback\"><pre>XGBClassifier(base_score=None, booster=None, callbacks=None,\n",
       "              colsample_bylevel=None, colsample_bynode=None,\n",
       "              colsample_bytree=None, device=None, early_stopping_rounds=None,\n",
       "              enable_categorical=False, eval_metric=None, feature_types=None,\n",
       "              gamma=None, grow_policy=None, importance_type=None,\n",
       "              interaction_constraints=None, learning_rate=None, max_bin=None,\n",
       "              max_cat_threshold=None, max_cat_to_onehot=None,\n",
       "              max_delta_step=None, max_depth=None, max_leaves=None,\n",
       "              min_child_weight=None, missing=nan, monotone_constraints=None,\n",
       "              multi_strategy=None, n_estimators=None, n_jobs=None,\n",
       "              num_parallel_tree=None, objective=&#x27;multi:softprob&#x27;, ...)</pre><b>In a Jupyter environment, please rerun this cell to show the HTML representation or trust the notebook. <br />On GitHub, the HTML representation is unable to render, please try loading this page with nbviewer.org.</b></div><div class=\"sk-container\" hidden><div class=\"sk-item\"><div class=\"sk-estimator sk-toggleable\"><input class=\"sk-toggleable__control sk-hidden--visually\" id=\"sk-estimator-id-5\" type=\"checkbox\" checked><label for=\"sk-estimator-id-5\" class=\"sk-toggleable__label sk-toggleable__label-arrow\">XGBClassifier</label><div class=\"sk-toggleable__content\"><pre>XGBClassifier(base_score=None, booster=None, callbacks=None,\n",
       "              colsample_bylevel=None, colsample_bynode=None,\n",
       "              colsample_bytree=None, device=None, early_stopping_rounds=None,\n",
       "              enable_categorical=False, eval_metric=None, feature_types=None,\n",
       "              gamma=None, grow_policy=None, importance_type=None,\n",
       "              interaction_constraints=None, learning_rate=None, max_bin=None,\n",
       "              max_cat_threshold=None, max_cat_to_onehot=None,\n",
       "              max_delta_step=None, max_depth=None, max_leaves=None,\n",
       "              min_child_weight=None, missing=nan, monotone_constraints=None,\n",
       "              multi_strategy=None, n_estimators=None, n_jobs=None,\n",
       "              num_parallel_tree=None, objective=&#x27;multi:softprob&#x27;, ...)</pre></div></div></div></div></div>"
      ],
      "text/plain": [
       "XGBClassifier(base_score=None, booster=None, callbacks=None,\n",
       "              colsample_bylevel=None, colsample_bynode=None,\n",
       "              colsample_bytree=None, device=None, early_stopping_rounds=None,\n",
       "              enable_categorical=False, eval_metric=None, feature_types=None,\n",
       "              gamma=None, grow_policy=None, importance_type=None,\n",
       "              interaction_constraints=None, learning_rate=None, max_bin=None,\n",
       "              max_cat_threshold=None, max_cat_to_onehot=None,\n",
       "              max_delta_step=None, max_depth=None, max_leaves=None,\n",
       "              min_child_weight=None, missing=nan, monotone_constraints=None,\n",
       "              multi_strategy=None, n_estimators=None, n_jobs=None,\n",
       "              num_parallel_tree=None, objective='multi:softprob', ...)"
      ]
     },
     "execution_count": 57,
     "metadata": {},
     "output_type": "execute_result"
    }
   ],
   "source": [
    "xgc.fit(X_train,y_train)"
   ]
  },
  {
   "cell_type": "code",
   "execution_count": 58,
   "metadata": {
    "executionInfo": {
     "elapsed": 455,
     "status": "ok",
     "timestamp": 1704711010636,
     "user": {
      "displayName": "IACSD Akurdi",
      "userId": "10433988175144222979"
     },
     "user_tz": -330
    },
    "id": "AfCNsHtaz3nC"
   },
   "outputs": [],
   "source": [
    "y_pred = xgc.predict(X_test)"
   ]
  },
  {
   "cell_type": "code",
   "execution_count": 59,
   "metadata": {
    "colab": {
     "base_uri": "https://localhost:8080/"
    },
    "executionInfo": {
     "elapsed": 5,
     "status": "ok",
     "timestamp": 1704711011004,
     "user": {
      "displayName": "IACSD Akurdi",
      "userId": "10433988175144222979"
     },
     "user_tz": -330
    },
    "id": "8eXyZYW5z9gr",
    "outputId": "58d18704-225b-4140-ed7e-1568b6b1eec2"
   },
   "outputs": [
    {
     "data": {
      "text/plain": [
       "0.9636111111111111"
      ]
     },
     "execution_count": 59,
     "metadata": {},
     "output_type": "execute_result"
    }
   ],
   "source": [
    "f1_score(y_test,y_pred, average=\"micro\" )"
   ]
  },
  {
   "cell_type": "code",
   "execution_count": 60,
   "metadata": {
    "colab": {
     "base_uri": "https://localhost:8080/"
    },
    "executionInfo": {
     "elapsed": 13,
     "status": "ok",
     "timestamp": 1704711011978,
     "user": {
      "displayName": "IACSD Akurdi",
      "userId": "10433988175144222979"
     },
     "user_tz": -330
    },
    "id": "e9QlrtPAz_rg",
    "outputId": "f103cd59-514a-4ec4-decf-b5afa6e8c781"
   },
   "outputs": [
    {
     "name": "stdout",
     "output_type": "stream",
     "text": [
      "              precision    recall  f1-score   support\n",
      "\n",
      "           0       0.96      0.95      0.95       600\n",
      "           1       0.99      0.99      0.99       600\n",
      "           2       0.95      0.97      0.96       600\n",
      "           3       0.97      0.98      0.98       600\n",
      "           4       0.97      0.94      0.95       600\n",
      "           5       0.94      0.95      0.95       600\n",
      "\n",
      "    accuracy                           0.96      3600\n",
      "   macro avg       0.96      0.96      0.96      3600\n",
      "weighted avg       0.96      0.96      0.96      3600\n",
      "\n"
     ]
    }
   ],
   "source": [
    "print(classification_report(y_test,y_pred ))"
   ]
  },
  {
   "cell_type": "markdown",
   "metadata": {
    "id": "H4sLaqmFzmMh"
   },
   "source": [
    "# Catboost"
   ]
  },
  {
   "cell_type": "code",
   "execution_count": 61,
   "metadata": {
    "colab": {
     "base_uri": "https://localhost:8080/"
    },
    "executionInfo": {
     "elapsed": 13935,
     "status": "ok",
     "timestamp": 1704711602599,
     "user": {
      "displayName": "IACSD Akurdi",
      "userId": "10433988175144222979"
     },
     "user_tz": -330
    },
    "id": "RdwlGlbUzTkt",
    "outputId": "c27699a9-0c12-45ab-b190-7511258c8507"
   },
   "outputs": [
    {
     "name": "stdout",
     "output_type": "stream",
     "text": [
      "Collecting catboost\n",
      "  Downloading catboost-1.2.2-cp310-cp310-manylinux2014_x86_64.whl (98.7 MB)\n",
      "\u001b[2K     \u001b[90m━━━━━━━━━━━━━━━━━━━━━━━━━━━━━━━━━━━━━━━━\u001b[0m \u001b[32m98.7/98.7 MB\u001b[0m \u001b[31m2.5 MB/s\u001b[0m eta \u001b[36m0:00:00\u001b[0m\n",
      "\u001b[?25hRequirement already satisfied: graphviz in /usr/local/lib/python3.10/dist-packages (from catboost) (0.20.1)\n",
      "Requirement already satisfied: matplotlib in /usr/local/lib/python3.10/dist-packages (from catboost) (3.7.1)\n",
      "Requirement already satisfied: numpy>=1.16.0 in /usr/local/lib/python3.10/dist-packages (from catboost) (1.23.5)\n",
      "Requirement already satisfied: pandas>=0.24 in /usr/local/lib/python3.10/dist-packages (from catboost) (1.5.3)\n",
      "Requirement already satisfied: scipy in /usr/local/lib/python3.10/dist-packages (from catboost) (1.11.4)\n",
      "Requirement already satisfied: plotly in /usr/local/lib/python3.10/dist-packages (from catboost) (5.15.0)\n",
      "Requirement already satisfied: six in /usr/local/lib/python3.10/dist-packages (from catboost) (1.16.0)\n",
      "Requirement already satisfied: python-dateutil>=2.8.1 in /usr/local/lib/python3.10/dist-packages (from pandas>=0.24->catboost) (2.8.2)\n",
      "Requirement already satisfied: pytz>=2020.1 in /usr/local/lib/python3.10/dist-packages (from pandas>=0.24->catboost) (2023.3.post1)\n",
      "Requirement already satisfied: contourpy>=1.0.1 in /usr/local/lib/python3.10/dist-packages (from matplotlib->catboost) (1.2.0)\n",
      "Requirement already satisfied: cycler>=0.10 in /usr/local/lib/python3.10/dist-packages (from matplotlib->catboost) (0.12.1)\n",
      "Requirement already satisfied: fonttools>=4.22.0 in /usr/local/lib/python3.10/dist-packages (from matplotlib->catboost) (4.47.0)\n",
      "Requirement already satisfied: kiwisolver>=1.0.1 in /usr/local/lib/python3.10/dist-packages (from matplotlib->catboost) (1.4.5)\n",
      "Requirement already satisfied: packaging>=20.0 in /usr/local/lib/python3.10/dist-packages (from matplotlib->catboost) (23.2)\n",
      "Requirement already satisfied: pillow>=6.2.0 in /usr/local/lib/python3.10/dist-packages (from matplotlib->catboost) (9.4.0)\n",
      "Requirement already satisfied: pyparsing>=2.3.1 in /usr/local/lib/python3.10/dist-packages (from matplotlib->catboost) (3.1.1)\n",
      "Requirement already satisfied: tenacity>=6.2.0 in /usr/local/lib/python3.10/dist-packages (from plotly->catboost) (8.2.3)\n",
      "Installing collected packages: catboost\n",
      "Successfully installed catboost-1.2.2\n"
     ]
    }
   ],
   "source": [
    "!pip install catboost"
   ]
  },
  {
   "cell_type": "code",
   "execution_count": 62,
   "metadata": {
    "executionInfo": {
     "elapsed": 359,
     "status": "ok",
     "timestamp": 1704711614888,
     "user": {
      "displayName": "IACSD Akurdi",
      "userId": "10433988175144222979"
     },
     "user_tz": -330
    },
    "id": "JAmiKYkXza3m"
   },
   "outputs": [],
   "source": [
    "import catboost"
   ]
  },
  {
   "cell_type": "code",
   "execution_count": 63,
   "metadata": {
    "executionInfo": {
     "elapsed": 587,
     "status": "ok",
     "timestamp": 1704711616171,
     "user": {
      "displayName": "IACSD Akurdi",
      "userId": "10433988175144222979"
     },
     "user_tz": -330
    },
    "id": "5A-NakTl0VAI"
   },
   "outputs": [],
   "source": [
    "from catboost import CatBoostClassifier"
   ]
  },
  {
   "cell_type": "code",
   "execution_count": 64,
   "metadata": {
    "executionInfo": {
     "elapsed": 385,
     "status": "ok",
     "timestamp": 1704712107184,
     "user": {
      "displayName": "IACSD Akurdi",
      "userId": "10433988175144222979"
     },
     "user_tz": -330
    },
    "id": "Pjjcq5xm0pDH"
   },
   "outputs": [],
   "source": [
    "cbc = CatBoostClassifier(random_state=7)"
   ]
  },
  {
   "cell_type": "code",
   "execution_count": 65,
   "metadata": {
    "colab": {
     "base_uri": "https://localhost:8080/"
    },
    "executionInfo": {
     "elapsed": 742712,
     "status": "ok",
     "timestamp": 1704712851564,
     "user": {
      "displayName": "IACSD Akurdi",
      "userId": "10433988175144222979"
     },
     "user_tz": -330
    },
    "id": "a62AQ41x0u9i",
    "outputId": "b9a80901-242b-45be-a746-f11891e9f70a"
   },
   "outputs": [
    {
     "name": "stdout",
     "output_type": "stream",
     "text": [
      "Learning rate set to 0.088199\n",
      "0:\tlearn: 1.6411304\ttotal: 1.4s\tremaining: 23m 16s\n",
      "1:\tlearn: 1.5243619\ttotal: 2.08s\tremaining: 17m 20s\n",
      "2:\tlearn: 1.4297602\ttotal: 2.79s\tremaining: 15m 28s\n",
      "3:\tlearn: 1.3476718\ttotal: 3.51s\tremaining: 14m 33s\n",
      "4:\tlearn: 1.2751494\ttotal: 4.2s\tremaining: 13m 55s\n",
      "5:\tlearn: 1.2178569\ttotal: 4.91s\tremaining: 13m 32s\n",
      "6:\tlearn: 1.1614648\ttotal: 5.61s\tremaining: 13m 15s\n",
      "7:\tlearn: 1.1124707\ttotal: 6.33s\tremaining: 13m 4s\n",
      "8:\tlearn: 1.0680876\ttotal: 7.32s\tremaining: 13m 26s\n",
      "9:\tlearn: 1.0323679\ttotal: 8.47s\tremaining: 13m 58s\n",
      "10:\tlearn: 0.9940165\ttotal: 9.55s\tremaining: 14m 18s\n",
      "11:\tlearn: 0.9584914\ttotal: 10.3s\tremaining: 14m 4s\n",
      "12:\tlearn: 0.9299378\ttotal: 11s\tremaining: 13m 51s\n",
      "13:\tlearn: 0.8985980\ttotal: 11.7s\tremaining: 13m 41s\n",
      "14:\tlearn: 0.8717988\ttotal: 12.4s\tremaining: 13m 31s\n",
      "15:\tlearn: 0.8473699\ttotal: 13.1s\tremaining: 13m 22s\n",
      "16:\tlearn: 0.8241110\ttotal: 13.7s\tremaining: 13m 14s\n",
      "17:\tlearn: 0.8003155\ttotal: 14.5s\tremaining: 13m 8s\n",
      "18:\tlearn: 0.7780050\ttotal: 15.2s\tremaining: 13m 3s\n",
      "19:\tlearn: 0.7596086\ttotal: 15.9s\tremaining: 12m 59s\n",
      "20:\tlearn: 0.7385744\ttotal: 16.6s\tremaining: 12m 54s\n",
      "21:\tlearn: 0.7215173\ttotal: 17.3s\tremaining: 12m 49s\n",
      "22:\tlearn: 0.7039891\ttotal: 18s\tremaining: 12m 45s\n",
      "23:\tlearn: 0.6879376\ttotal: 18.7s\tremaining: 12m 40s\n",
      "24:\tlearn: 0.6686094\ttotal: 19.4s\tremaining: 12m 37s\n",
      "25:\tlearn: 0.6508298\ttotal: 20.5s\tremaining: 12m 49s\n",
      "26:\tlearn: 0.6389384\ttotal: 21.6s\tremaining: 12m 56s\n",
      "27:\tlearn: 0.6246308\ttotal: 22.6s\tremaining: 13m 3s\n",
      "28:\tlearn: 0.6117749\ttotal: 23.2s\tremaining: 12m 58s\n",
      "29:\tlearn: 0.6003614\ttotal: 23.9s\tremaining: 12m 52s\n",
      "30:\tlearn: 0.5876295\ttotal: 24.6s\tremaining: 12m 47s\n",
      "31:\tlearn: 0.5750903\ttotal: 25.3s\tremaining: 12m 44s\n",
      "32:\tlearn: 0.5655846\ttotal: 25.9s\tremaining: 12m 40s\n",
      "33:\tlearn: 0.5549520\ttotal: 26.6s\tremaining: 12m 36s\n",
      "34:\tlearn: 0.5446913\ttotal: 27.3s\tremaining: 12m 33s\n",
      "35:\tlearn: 0.5346746\ttotal: 28s\tremaining: 12m 30s\n",
      "36:\tlearn: 0.5228718\ttotal: 28.8s\tremaining: 12m 28s\n",
      "37:\tlearn: 0.5127104\ttotal: 29.5s\tremaining: 12m 25s\n",
      "38:\tlearn: 0.5020536\ttotal: 30.2s\tremaining: 12m 24s\n",
      "39:\tlearn: 0.4938516\ttotal: 30.9s\tremaining: 12m 21s\n",
      "40:\tlearn: 0.4847267\ttotal: 31.6s\tremaining: 12m 19s\n",
      "41:\tlearn: 0.4744927\ttotal: 32.3s\tremaining: 12m 16s\n",
      "42:\tlearn: 0.4649337\ttotal: 33.3s\tremaining: 12m 21s\n",
      "43:\tlearn: 0.4577425\ttotal: 34.4s\tremaining: 12m 27s\n",
      "44:\tlearn: 0.4505286\ttotal: 35.4s\tremaining: 12m 30s\n",
      "45:\tlearn: 0.4409276\ttotal: 36.1s\tremaining: 12m 28s\n",
      "46:\tlearn: 0.4332102\ttotal: 36.8s\tremaining: 12m 26s\n",
      "47:\tlearn: 0.4273301\ttotal: 37.5s\tremaining: 12m 23s\n",
      "48:\tlearn: 0.4214828\ttotal: 38.2s\tremaining: 12m 21s\n",
      "49:\tlearn: 0.4153096\ttotal: 38.9s\tremaining: 12m 18s\n",
      "50:\tlearn: 0.4104983\ttotal: 39.6s\tremaining: 12m 16s\n",
      "51:\tlearn: 0.4051775\ttotal: 40.2s\tremaining: 12m 13s\n",
      "52:\tlearn: 0.3981564\ttotal: 41s\tremaining: 12m 11s\n",
      "53:\tlearn: 0.3927841\ttotal: 41.7s\tremaining: 12m 9s\n",
      "54:\tlearn: 0.3879489\ttotal: 42.4s\tremaining: 12m 7s\n",
      "55:\tlearn: 0.3819626\ttotal: 43s\tremaining: 12m 5s\n",
      "56:\tlearn: 0.3762937\ttotal: 43.7s\tremaining: 12m 3s\n",
      "57:\tlearn: 0.3706375\ttotal: 44.4s\tremaining: 12m 1s\n",
      "58:\tlearn: 0.3649443\ttotal: 45.1s\tremaining: 11m 59s\n",
      "59:\tlearn: 0.3614484\ttotal: 46.1s\tremaining: 12m 1s\n",
      "60:\tlearn: 0.3560192\ttotal: 47.2s\tremaining: 12m 6s\n",
      "61:\tlearn: 0.3512591\ttotal: 48.2s\tremaining: 12m 9s\n",
      "62:\tlearn: 0.3468189\ttotal: 48.9s\tremaining: 12m 7s\n",
      "63:\tlearn: 0.3435007\ttotal: 49.6s\tremaining: 12m 4s\n",
      "64:\tlearn: 0.3399832\ttotal: 50.3s\tremaining: 12m 2s\n",
      "65:\tlearn: 0.3364038\ttotal: 50.9s\tremaining: 12m\n",
      "66:\tlearn: 0.3331853\ttotal: 51.6s\tremaining: 11m 59s\n",
      "67:\tlearn: 0.3302265\ttotal: 52.3s\tremaining: 11m 57s\n",
      "68:\tlearn: 0.3273044\ttotal: 53.1s\tremaining: 11m 56s\n",
      "69:\tlearn: 0.3230077\ttotal: 53.8s\tremaining: 11m 54s\n",
      "70:\tlearn: 0.3186978\ttotal: 54.5s\tremaining: 11m 53s\n",
      "71:\tlearn: 0.3160331\ttotal: 55.2s\tremaining: 11m 50s\n",
      "72:\tlearn: 0.3122188\ttotal: 55.8s\tremaining: 11m 49s\n",
      "73:\tlearn: 0.3090594\ttotal: 56.5s\tremaining: 11m 47s\n",
      "74:\tlearn: 0.3046530\ttotal: 57.3s\tremaining: 11m 46s\n",
      "75:\tlearn: 0.2999695\ttotal: 58s\tremaining: 11m 44s\n",
      "76:\tlearn: 0.2974896\ttotal: 58.9s\tremaining: 11m 45s\n",
      "77:\tlearn: 0.2936988\ttotal: 59.9s\tremaining: 11m 48s\n",
      "78:\tlearn: 0.2909811\ttotal: 1m 1s\tremaining: 11m 51s\n",
      "79:\tlearn: 0.2875890\ttotal: 1m 1s\tremaining: 11m 50s\n",
      "80:\tlearn: 0.2839716\ttotal: 1m 2s\tremaining: 11m 48s\n",
      "81:\tlearn: 0.2814994\ttotal: 1m 3s\tremaining: 11m 47s\n",
      "82:\tlearn: 0.2791169\ttotal: 1m 3s\tremaining: 11m 45s\n",
      "83:\tlearn: 0.2767029\ttotal: 1m 4s\tremaining: 11m 43s\n",
      "84:\tlearn: 0.2744669\ttotal: 1m 5s\tremaining: 11m 42s\n",
      "85:\tlearn: 0.2715752\ttotal: 1m 5s\tremaining: 11m 40s\n",
      "86:\tlearn: 0.2693460\ttotal: 1m 6s\tremaining: 11m 38s\n",
      "87:\tlearn: 0.2662827\ttotal: 1m 7s\tremaining: 11m 37s\n",
      "88:\tlearn: 0.2639760\ttotal: 1m 7s\tremaining: 11m 35s\n",
      "89:\tlearn: 0.2614264\ttotal: 1m 8s\tremaining: 11m 33s\n",
      "90:\tlearn: 0.2587949\ttotal: 1m 9s\tremaining: 11m 32s\n",
      "91:\tlearn: 0.2550583\ttotal: 1m 10s\tremaining: 11m 31s\n",
      "92:\tlearn: 0.2518660\ttotal: 1m 10s\tremaining: 11m 30s\n",
      "93:\tlearn: 0.2491226\ttotal: 1m 11s\tremaining: 11m 30s\n",
      "94:\tlearn: 0.2468049\ttotal: 1m 12s\tremaining: 11m 34s\n",
      "95:\tlearn: 0.2443036\ttotal: 1m 14s\tremaining: 11m 38s\n",
      "96:\tlearn: 0.2414262\ttotal: 1m 15s\tremaining: 11m 42s\n",
      "97:\tlearn: 0.2389482\ttotal: 1m 16s\tremaining: 11m 42s\n",
      "98:\tlearn: 0.2375104\ttotal: 1m 16s\tremaining: 11m 40s\n",
      "99:\tlearn: 0.2352209\ttotal: 1m 17s\tremaining: 11m 39s\n",
      "100:\tlearn: 0.2323438\ttotal: 1m 18s\tremaining: 11m 37s\n",
      "101:\tlearn: 0.2301744\ttotal: 1m 19s\tremaining: 11m 36s\n",
      "102:\tlearn: 0.2288134\ttotal: 1m 19s\tremaining: 11m 34s\n",
      "103:\tlearn: 0.2264404\ttotal: 1m 20s\tremaining: 11m 32s\n",
      "104:\tlearn: 0.2237577\ttotal: 1m 21s\tremaining: 11m 31s\n",
      "105:\tlearn: 0.2213009\ttotal: 1m 21s\tremaining: 11m 30s\n",
      "106:\tlearn: 0.2195270\ttotal: 1m 22s\tremaining: 11m 29s\n",
      "107:\tlearn: 0.2180987\ttotal: 1m 23s\tremaining: 11m 27s\n",
      "108:\tlearn: 0.2150365\ttotal: 1m 23s\tremaining: 11m 26s\n",
      "109:\tlearn: 0.2124662\ttotal: 1m 24s\tremaining: 11m 24s\n",
      "110:\tlearn: 0.2109681\ttotal: 1m 25s\tremaining: 11m 23s\n",
      "111:\tlearn: 0.2094311\ttotal: 1m 26s\tremaining: 11m 23s\n",
      "112:\tlearn: 0.2082545\ttotal: 1m 27s\tremaining: 11m 24s\n",
      "113:\tlearn: 0.2064327\ttotal: 1m 28s\tremaining: 11m 26s\n",
      "114:\tlearn: 0.2040328\ttotal: 1m 29s\tremaining: 11m 25s\n",
      "115:\tlearn: 0.2029605\ttotal: 1m 29s\tremaining: 11m 23s\n",
      "116:\tlearn: 0.2011806\ttotal: 1m 30s\tremaining: 11m 22s\n",
      "117:\tlearn: 0.1992750\ttotal: 1m 31s\tremaining: 11m 21s\n",
      "118:\tlearn: 0.1984079\ttotal: 1m 31s\tremaining: 11m 19s\n",
      "119:\tlearn: 0.1966000\ttotal: 1m 32s\tremaining: 11m 17s\n",
      "120:\tlearn: 0.1944382\ttotal: 1m 33s\tremaining: 11m 16s\n",
      "121:\tlearn: 0.1924800\ttotal: 1m 33s\tremaining: 11m 15s\n",
      "122:\tlearn: 0.1899165\ttotal: 1m 34s\tremaining: 11m 13s\n",
      "123:\tlearn: 0.1872356\ttotal: 1m 35s\tremaining: 11m 12s\n",
      "124:\tlearn: 0.1859971\ttotal: 1m 35s\tremaining: 11m 11s\n",
      "125:\tlearn: 0.1841756\ttotal: 1m 36s\tremaining: 11m 10s\n",
      "126:\tlearn: 0.1819409\ttotal: 1m 37s\tremaining: 11m 8s\n",
      "127:\tlearn: 0.1801401\ttotal: 1m 38s\tremaining: 11m 7s\n",
      "128:\tlearn: 0.1788740\ttotal: 1m 38s\tremaining: 11m 7s\n",
      "129:\tlearn: 0.1776908\ttotal: 1m 39s\tremaining: 11m 8s\n",
      "130:\tlearn: 0.1761717\ttotal: 1m 40s\tremaining: 11m 9s\n",
      "131:\tlearn: 0.1749281\ttotal: 1m 41s\tremaining: 11m 9s\n",
      "132:\tlearn: 0.1742367\ttotal: 1m 42s\tremaining: 11m 7s\n",
      "133:\tlearn: 0.1724341\ttotal: 1m 43s\tremaining: 11m 6s\n",
      "134:\tlearn: 0.1711369\ttotal: 1m 43s\tremaining: 11m 5s\n",
      "135:\tlearn: 0.1697679\ttotal: 1m 44s\tremaining: 11m 3s\n",
      "136:\tlearn: 0.1681062\ttotal: 1m 45s\tremaining: 11m 2s\n",
      "137:\tlearn: 0.1666660\ttotal: 1m 45s\tremaining: 11m 1s\n",
      "138:\tlearn: 0.1653244\ttotal: 1m 46s\tremaining: 10m 59s\n",
      "139:\tlearn: 0.1640371\ttotal: 1m 47s\tremaining: 10m 58s\n",
      "140:\tlearn: 0.1624268\ttotal: 1m 47s\tremaining: 10m 57s\n",
      "141:\tlearn: 0.1615868\ttotal: 1m 48s\tremaining: 10m 56s\n",
      "142:\tlearn: 0.1606877\ttotal: 1m 49s\tremaining: 10m 54s\n",
      "143:\tlearn: 0.1599364\ttotal: 1m 49s\tremaining: 10m 53s\n",
      "144:\tlearn: 0.1586307\ttotal: 1m 50s\tremaining: 10m 52s\n",
      "145:\tlearn: 0.1577799\ttotal: 1m 51s\tremaining: 10m 50s\n",
      "146:\tlearn: 0.1561393\ttotal: 1m 52s\tremaining: 10m 51s\n",
      "147:\tlearn: 0.1550833\ttotal: 1m 53s\tremaining: 10m 52s\n",
      "148:\tlearn: 0.1539895\ttotal: 1m 54s\tremaining: 10m 53s\n",
      "149:\tlearn: 0.1530188\ttotal: 1m 55s\tremaining: 10m 52s\n",
      "150:\tlearn: 0.1521042\ttotal: 1m 55s\tremaining: 10m 50s\n",
      "151:\tlearn: 0.1504693\ttotal: 1m 56s\tremaining: 10m 49s\n",
      "152:\tlearn: 0.1494576\ttotal: 1m 57s\tremaining: 10m 48s\n",
      "153:\tlearn: 0.1484620\ttotal: 1m 57s\tremaining: 10m 47s\n",
      "154:\tlearn: 0.1474615\ttotal: 1m 58s\tremaining: 10m 46s\n",
      "155:\tlearn: 0.1463445\ttotal: 1m 59s\tremaining: 10m 44s\n",
      "156:\tlearn: 0.1451796\ttotal: 1m 59s\tremaining: 10m 43s\n",
      "157:\tlearn: 0.1441531\ttotal: 2m\tremaining: 10m 42s\n",
      "158:\tlearn: 0.1434394\ttotal: 2m 1s\tremaining: 10m 41s\n",
      "159:\tlearn: 0.1423602\ttotal: 2m 1s\tremaining: 10m 40s\n",
      "160:\tlearn: 0.1414433\ttotal: 2m 2s\tremaining: 10m 38s\n",
      "161:\tlearn: 0.1408316\ttotal: 2m 3s\tremaining: 10m 37s\n",
      "162:\tlearn: 0.1394392\ttotal: 2m 3s\tremaining: 10m 36s\n",
      "163:\tlearn: 0.1388700\ttotal: 2m 4s\tremaining: 10m 36s\n",
      "164:\tlearn: 0.1382548\ttotal: 2m 6s\tremaining: 10m 37s\n",
      "165:\tlearn: 0.1375011\ttotal: 2m 6s\tremaining: 10m 38s\n",
      "166:\tlearn: 0.1365436\ttotal: 2m 7s\tremaining: 10m 36s\n",
      "167:\tlearn: 0.1354930\ttotal: 2m 8s\tremaining: 10m 35s\n",
      "168:\tlearn: 0.1344486\ttotal: 2m 9s\tremaining: 10m 34s\n",
      "169:\tlearn: 0.1338636\ttotal: 2m 9s\tremaining: 10m 33s\n",
      "170:\tlearn: 0.1323489\ttotal: 2m 10s\tremaining: 10m 32s\n",
      "171:\tlearn: 0.1320793\ttotal: 2m 11s\tremaining: 10m 31s\n",
      "172:\tlearn: 0.1315644\ttotal: 2m 11s\tremaining: 10m 29s\n",
      "173:\tlearn: 0.1308853\ttotal: 2m 12s\tremaining: 10m 28s\n",
      "174:\tlearn: 0.1299628\ttotal: 2m 13s\tremaining: 10m 27s\n",
      "175:\tlearn: 0.1291473\ttotal: 2m 13s\tremaining: 10m 26s\n",
      "176:\tlearn: 0.1285204\ttotal: 2m 14s\tremaining: 10m 25s\n",
      "177:\tlearn: 0.1276707\ttotal: 2m 15s\tremaining: 10m 24s\n",
      "178:\tlearn: 0.1267247\ttotal: 2m 15s\tremaining: 10m 23s\n",
      "179:\tlearn: 0.1261670\ttotal: 2m 16s\tremaining: 10m 22s\n",
      "180:\tlearn: 0.1254290\ttotal: 2m 17s\tremaining: 10m 21s\n",
      "181:\tlearn: 0.1248086\ttotal: 2m 18s\tremaining: 10m 22s\n",
      "182:\tlearn: 0.1239794\ttotal: 2m 19s\tremaining: 10m 22s\n",
      "183:\tlearn: 0.1229995\ttotal: 2m 20s\tremaining: 10m 22s\n",
      "184:\tlearn: 0.1222103\ttotal: 2m 20s\tremaining: 10m 20s\n",
      "185:\tlearn: 0.1217202\ttotal: 2m 21s\tremaining: 10m 19s\n",
      "186:\tlearn: 0.1213302\ttotal: 2m 22s\tremaining: 10m 18s\n",
      "187:\tlearn: 0.1203955\ttotal: 2m 23s\tremaining: 10m 17s\n",
      "188:\tlearn: 0.1197249\ttotal: 2m 23s\tremaining: 10m 16s\n",
      "189:\tlearn: 0.1189661\ttotal: 2m 24s\tremaining: 10m 15s\n",
      "190:\tlearn: 0.1182600\ttotal: 2m 25s\tremaining: 10m 14s\n",
      "191:\tlearn: 0.1173453\ttotal: 2m 25s\tremaining: 10m 13s\n",
      "192:\tlearn: 0.1166487\ttotal: 2m 26s\tremaining: 10m 12s\n",
      "193:\tlearn: 0.1155053\ttotal: 2m 27s\tremaining: 10m 11s\n",
      "194:\tlearn: 0.1145552\ttotal: 2m 27s\tremaining: 10m 10s\n",
      "195:\tlearn: 0.1138850\ttotal: 2m 28s\tremaining: 10m 9s\n",
      "196:\tlearn: 0.1134206\ttotal: 2m 29s\tremaining: 10m 8s\n",
      "197:\tlearn: 0.1125627\ttotal: 2m 29s\tremaining: 10m 7s\n",
      "198:\tlearn: 0.1120095\ttotal: 2m 30s\tremaining: 10m 7s\n",
      "199:\tlearn: 0.1114647\ttotal: 2m 32s\tremaining: 10m 8s\n",
      "200:\tlearn: 0.1109905\ttotal: 2m 32s\tremaining: 10m 7s\n",
      "201:\tlearn: 0.1102071\ttotal: 2m 33s\tremaining: 10m 6s\n",
      "202:\tlearn: 0.1095371\ttotal: 2m 34s\tremaining: 10m 5s\n",
      "203:\tlearn: 0.1086543\ttotal: 2m 34s\tremaining: 10m 4s\n",
      "204:\tlearn: 0.1078914\ttotal: 2m 35s\tremaining: 10m 3s\n",
      "205:\tlearn: 0.1073715\ttotal: 2m 36s\tremaining: 10m 2s\n",
      "206:\tlearn: 0.1069308\ttotal: 2m 36s\tremaining: 10m 1s\n",
      "207:\tlearn: 0.1064381\ttotal: 2m 37s\tremaining: 10m\n",
      "208:\tlearn: 0.1062287\ttotal: 2m 38s\tremaining: 9m 59s\n",
      "209:\tlearn: 0.1058281\ttotal: 2m 39s\tremaining: 9m 58s\n",
      "210:\tlearn: 0.1055860\ttotal: 2m 39s\tremaining: 9m 57s\n",
      "211:\tlearn: 0.1051677\ttotal: 2m 40s\tremaining: 9m 56s\n",
      "212:\tlearn: 0.1041766\ttotal: 2m 41s\tremaining: 9m 55s\n",
      "213:\tlearn: 0.1037112\ttotal: 2m 41s\tremaining: 9m 54s\n",
      "214:\tlearn: 0.1032875\ttotal: 2m 42s\tremaining: 9m 53s\n",
      "215:\tlearn: 0.1030402\ttotal: 2m 43s\tremaining: 9m 52s\n",
      "216:\tlearn: 0.1024862\ttotal: 2m 44s\tremaining: 9m 53s\n",
      "217:\tlearn: 0.1020805\ttotal: 2m 45s\tremaining: 9m 53s\n",
      "218:\tlearn: 0.1016498\ttotal: 2m 46s\tremaining: 9m 52s\n",
      "219:\tlearn: 0.1009650\ttotal: 2m 46s\tremaining: 9m 51s\n",
      "220:\tlearn: 0.1004447\ttotal: 2m 47s\tremaining: 9m 50s\n",
      "221:\tlearn: 0.0999098\ttotal: 2m 48s\tremaining: 9m 49s\n",
      "222:\tlearn: 0.0992441\ttotal: 2m 48s\tremaining: 9m 48s\n",
      "223:\tlearn: 0.0984891\ttotal: 2m 49s\tremaining: 9m 47s\n",
      "224:\tlearn: 0.0979507\ttotal: 2m 50s\tremaining: 9m 46s\n",
      "225:\tlearn: 0.0974840\ttotal: 2m 50s\tremaining: 9m 45s\n",
      "226:\tlearn: 0.0965660\ttotal: 2m 51s\tremaining: 9m 44s\n",
      "227:\tlearn: 0.0958859\ttotal: 2m 52s\tremaining: 9m 43s\n",
      "228:\tlearn: 0.0952376\ttotal: 2m 52s\tremaining: 9m 42s\n",
      "229:\tlearn: 0.0947948\ttotal: 2m 53s\tremaining: 9m 41s\n",
      "230:\tlearn: 0.0944583\ttotal: 2m 54s\tremaining: 9m 40s\n",
      "231:\tlearn: 0.0938704\ttotal: 2m 55s\tremaining: 9m 39s\n",
      "232:\tlearn: 0.0933747\ttotal: 2m 55s\tremaining: 9m 38s\n",
      "233:\tlearn: 0.0930108\ttotal: 2m 56s\tremaining: 9m 39s\n",
      "234:\tlearn: 0.0925236\ttotal: 2m 57s\tremaining: 9m 39s\n",
      "235:\tlearn: 0.0921418\ttotal: 2m 58s\tremaining: 9m 38s\n",
      "236:\tlearn: 0.0916065\ttotal: 2m 59s\tremaining: 9m 37s\n",
      "237:\tlearn: 0.0913097\ttotal: 3m\tremaining: 9m 36s\n",
      "238:\tlearn: 0.0908737\ttotal: 3m\tremaining: 9m 35s\n",
      "239:\tlearn: 0.0904763\ttotal: 3m 1s\tremaining: 9m 34s\n",
      "240:\tlearn: 0.0900561\ttotal: 3m 2s\tremaining: 9m 33s\n",
      "241:\tlearn: 0.0895760\ttotal: 3m 2s\tremaining: 9m 32s\n",
      "242:\tlearn: 0.0891484\ttotal: 3m 3s\tremaining: 9m 31s\n",
      "243:\tlearn: 0.0886066\ttotal: 3m 4s\tremaining: 9m 30s\n",
      "244:\tlearn: 0.0883565\ttotal: 3m 4s\tremaining: 9m 29s\n",
      "245:\tlearn: 0.0878933\ttotal: 3m 5s\tremaining: 9m 28s\n",
      "246:\tlearn: 0.0873862\ttotal: 3m 6s\tremaining: 9m 27s\n",
      "247:\tlearn: 0.0869255\ttotal: 3m 6s\tremaining: 9m 26s\n",
      "248:\tlearn: 0.0865024\ttotal: 3m 7s\tremaining: 9m 25s\n",
      "249:\tlearn: 0.0858550\ttotal: 3m 8s\tremaining: 9m 24s\n",
      "250:\tlearn: 0.0855351\ttotal: 3m 9s\tremaining: 9m 24s\n",
      "251:\tlearn: 0.0851004\ttotal: 3m 10s\tremaining: 9m 24s\n",
      "252:\tlearn: 0.0846661\ttotal: 3m 11s\tremaining: 9m 24s\n",
      "253:\tlearn: 0.0842792\ttotal: 3m 11s\tremaining: 9m 23s\n",
      "254:\tlearn: 0.0839993\ttotal: 3m 12s\tremaining: 9m 22s\n",
      "255:\tlearn: 0.0837015\ttotal: 3m 13s\tremaining: 9m 21s\n",
      "256:\tlearn: 0.0834283\ttotal: 3m 13s\tremaining: 9m 20s\n",
      "257:\tlearn: 0.0831630\ttotal: 3m 14s\tremaining: 9m 19s\n",
      "258:\tlearn: 0.0828132\ttotal: 3m 15s\tremaining: 9m 18s\n",
      "259:\tlearn: 0.0826268\ttotal: 3m 15s\tremaining: 9m 17s\n",
      "260:\tlearn: 0.0822146\ttotal: 3m 16s\tremaining: 9m 16s\n",
      "261:\tlearn: 0.0815590\ttotal: 3m 17s\tremaining: 9m 15s\n",
      "262:\tlearn: 0.0808807\ttotal: 3m 18s\tremaining: 9m 14s\n",
      "263:\tlearn: 0.0807516\ttotal: 3m 18s\tremaining: 9m 13s\n",
      "264:\tlearn: 0.0804005\ttotal: 3m 19s\tremaining: 9m 12s\n",
      "265:\tlearn: 0.0799733\ttotal: 3m 20s\tremaining: 9m 11s\n",
      "266:\tlearn: 0.0796036\ttotal: 3m 20s\tremaining: 9m 10s\n",
      "267:\tlearn: 0.0793250\ttotal: 3m 21s\tremaining: 9m 10s\n",
      "268:\tlearn: 0.0787565\ttotal: 3m 22s\tremaining: 9m 10s\n",
      "269:\tlearn: 0.0784412\ttotal: 3m 23s\tremaining: 9m 10s\n",
      "270:\tlearn: 0.0781046\ttotal: 3m 24s\tremaining: 9m 10s\n",
      "271:\tlearn: 0.0778723\ttotal: 3m 25s\tremaining: 9m 9s\n",
      "272:\tlearn: 0.0776283\ttotal: 3m 25s\tremaining: 9m 8s\n",
      "273:\tlearn: 0.0774250\ttotal: 3m 26s\tremaining: 9m 7s\n",
      "274:\tlearn: 0.0772063\ttotal: 3m 27s\tremaining: 9m 6s\n",
      "275:\tlearn: 0.0769003\ttotal: 3m 27s\tremaining: 9m 5s\n",
      "276:\tlearn: 0.0766540\ttotal: 3m 28s\tremaining: 9m 4s\n",
      "277:\tlearn: 0.0759129\ttotal: 3m 29s\tremaining: 9m 3s\n",
      "278:\tlearn: 0.0755971\ttotal: 3m 29s\tremaining: 9m 2s\n",
      "279:\tlearn: 0.0752355\ttotal: 3m 30s\tremaining: 9m 1s\n",
      "280:\tlearn: 0.0749901\ttotal: 3m 31s\tremaining: 9m\n",
      "281:\tlearn: 0.0747062\ttotal: 3m 31s\tremaining: 8m 59s\n",
      "282:\tlearn: 0.0743577\ttotal: 3m 32s\tremaining: 8m 58s\n",
      "283:\tlearn: 0.0741019\ttotal: 3m 33s\tremaining: 8m 57s\n",
      "284:\tlearn: 0.0737102\ttotal: 3m 34s\tremaining: 8m 56s\n",
      "285:\tlearn: 0.0733783\ttotal: 3m 35s\tremaining: 8m 56s\n",
      "286:\tlearn: 0.0730922\ttotal: 3m 36s\tremaining: 8m 56s\n",
      "287:\tlearn: 0.0728171\ttotal: 3m 37s\tremaining: 8m 56s\n",
      "288:\tlearn: 0.0723094\ttotal: 3m 37s\tremaining: 8m 55s\n",
      "289:\tlearn: 0.0720114\ttotal: 3m 38s\tremaining: 8m 54s\n",
      "290:\tlearn: 0.0716824\ttotal: 3m 39s\tremaining: 8m 53s\n",
      "291:\tlearn: 0.0712612\ttotal: 3m 39s\tremaining: 8m 52s\n",
      "292:\tlearn: 0.0708511\ttotal: 3m 40s\tremaining: 8m 51s\n",
      "293:\tlearn: 0.0705734\ttotal: 3m 41s\tremaining: 8m 51s\n",
      "294:\tlearn: 0.0703601\ttotal: 3m 41s\tremaining: 8m 50s\n",
      "295:\tlearn: 0.0701304\ttotal: 3m 42s\tremaining: 8m 49s\n",
      "296:\tlearn: 0.0699665\ttotal: 3m 43s\tremaining: 8m 48s\n",
      "297:\tlearn: 0.0696522\ttotal: 3m 43s\tremaining: 8m 47s\n",
      "298:\tlearn: 0.0691313\ttotal: 3m 44s\tremaining: 8m 46s\n",
      "299:\tlearn: 0.0688276\ttotal: 3m 45s\tremaining: 8m 45s\n",
      "300:\tlearn: 0.0686187\ttotal: 3m 45s\tremaining: 8m 44s\n",
      "301:\tlearn: 0.0683532\ttotal: 3m 46s\tremaining: 8m 43s\n",
      "302:\tlearn: 0.0679800\ttotal: 3m 47s\tremaining: 8m 42s\n",
      "303:\tlearn: 0.0675117\ttotal: 3m 48s\tremaining: 8m 42s\n",
      "304:\tlearn: 0.0672571\ttotal: 3m 49s\tremaining: 8m 42s\n",
      "305:\tlearn: 0.0667885\ttotal: 3m 50s\tremaining: 8m 42s\n",
      "306:\tlearn: 0.0665070\ttotal: 3m 50s\tremaining: 8m 41s\n",
      "307:\tlearn: 0.0661894\ttotal: 3m 51s\tremaining: 8m 40s\n",
      "308:\tlearn: 0.0659506\ttotal: 3m 52s\tremaining: 8m 39s\n",
      "309:\tlearn: 0.0656493\ttotal: 3m 52s\tremaining: 8m 38s\n",
      "310:\tlearn: 0.0653598\ttotal: 3m 53s\tremaining: 8m 37s\n",
      "311:\tlearn: 0.0649699\ttotal: 3m 54s\tremaining: 8m 36s\n",
      "312:\tlearn: 0.0646128\ttotal: 3m 55s\tremaining: 8m 35s\n",
      "313:\tlearn: 0.0643189\ttotal: 3m 55s\tremaining: 8m 34s\n",
      "314:\tlearn: 0.0641568\ttotal: 3m 56s\tremaining: 8m 34s\n",
      "315:\tlearn: 0.0639929\ttotal: 3m 57s\tremaining: 8m 33s\n",
      "316:\tlearn: 0.0637004\ttotal: 3m 57s\tremaining: 8m 32s\n",
      "317:\tlearn: 0.0635977\ttotal: 3m 58s\tremaining: 8m 31s\n",
      "318:\tlearn: 0.0633760\ttotal: 3m 59s\tremaining: 8m 30s\n",
      "319:\tlearn: 0.0631936\ttotal: 3m 59s\tremaining: 8m 29s\n",
      "320:\tlearn: 0.0631087\ttotal: 4m\tremaining: 8m 29s\n",
      "321:\tlearn: 0.0628676\ttotal: 4m 1s\tremaining: 8m 28s\n",
      "322:\tlearn: 0.0626466\ttotal: 4m 2s\tremaining: 8m 28s\n",
      "323:\tlearn: 0.0623778\ttotal: 4m 3s\tremaining: 8m 27s\n",
      "324:\tlearn: 0.0621786\ttotal: 4m 4s\tremaining: 8m 26s\n",
      "325:\tlearn: 0.0619245\ttotal: 4m 4s\tremaining: 8m 26s\n",
      "326:\tlearn: 0.0616817\ttotal: 4m 5s\tremaining: 8m 25s\n",
      "327:\tlearn: 0.0615339\ttotal: 4m 6s\tremaining: 8m 24s\n",
      "328:\tlearn: 0.0610678\ttotal: 4m 6s\tremaining: 8m 23s\n",
      "329:\tlearn: 0.0607269\ttotal: 4m 7s\tremaining: 8m 22s\n",
      "330:\tlearn: 0.0603391\ttotal: 4m 8s\tremaining: 8m 21s\n",
      "331:\tlearn: 0.0602050\ttotal: 4m 8s\tremaining: 8m 20s\n",
      "332:\tlearn: 0.0600024\ttotal: 4m 9s\tremaining: 8m 19s\n",
      "333:\tlearn: 0.0598166\ttotal: 4m 10s\tremaining: 8m 18s\n",
      "334:\tlearn: 0.0596053\ttotal: 4m 10s\tremaining: 8m 17s\n",
      "335:\tlearn: 0.0594148\ttotal: 4m 11s\tremaining: 8m 16s\n",
      "336:\tlearn: 0.0591278\ttotal: 4m 12s\tremaining: 8m 16s\n",
      "337:\tlearn: 0.0589559\ttotal: 4m 12s\tremaining: 8m 15s\n",
      "338:\tlearn: 0.0588168\ttotal: 4m 13s\tremaining: 8m 14s\n",
      "339:\tlearn: 0.0585917\ttotal: 4m 14s\tremaining: 8m 14s\n",
      "340:\tlearn: 0.0583792\ttotal: 4m 15s\tremaining: 8m 14s\n",
      "341:\tlearn: 0.0581336\ttotal: 4m 16s\tremaining: 8m 13s\n",
      "342:\tlearn: 0.0579707\ttotal: 4m 17s\tremaining: 8m 12s\n",
      "343:\tlearn: 0.0577710\ttotal: 4m 17s\tremaining: 8m 11s\n",
      "344:\tlearn: 0.0575671\ttotal: 4m 18s\tremaining: 8m 10s\n",
      "345:\tlearn: 0.0573589\ttotal: 4m 19s\tremaining: 8m 10s\n",
      "346:\tlearn: 0.0569908\ttotal: 4m 20s\tremaining: 8m 9s\n",
      "347:\tlearn: 0.0567492\ttotal: 4m 20s\tremaining: 8m 8s\n",
      "348:\tlearn: 0.0565875\ttotal: 4m 21s\tremaining: 8m 7s\n",
      "349:\tlearn: 0.0564333\ttotal: 4m 22s\tremaining: 8m 6s\n",
      "350:\tlearn: 0.0562992\ttotal: 4m 22s\tremaining: 8m 5s\n",
      "351:\tlearn: 0.0560825\ttotal: 4m 23s\tremaining: 8m 4s\n",
      "352:\tlearn: 0.0559493\ttotal: 4m 24s\tremaining: 8m 3s\n",
      "353:\tlearn: 0.0558633\ttotal: 4m 24s\tremaining: 8m 3s\n",
      "354:\tlearn: 0.0556605\ttotal: 4m 25s\tremaining: 8m 2s\n",
      "355:\tlearn: 0.0554167\ttotal: 4m 26s\tremaining: 8m 1s\n",
      "356:\tlearn: 0.0553381\ttotal: 4m 27s\tremaining: 8m 1s\n",
      "357:\tlearn: 0.0551149\ttotal: 4m 28s\tremaining: 8m\n",
      "358:\tlearn: 0.0550377\ttotal: 4m 29s\tremaining: 8m\n",
      "359:\tlearn: 0.0548571\ttotal: 4m 29s\tremaining: 7m 59s\n",
      "360:\tlearn: 0.0546485\ttotal: 4m 30s\tremaining: 7m 58s\n",
      "361:\tlearn: 0.0544633\ttotal: 4m 31s\tremaining: 7m 57s\n",
      "362:\tlearn: 0.0543718\ttotal: 4m 31s\tremaining: 7m 56s\n",
      "363:\tlearn: 0.0541348\ttotal: 4m 32s\tremaining: 7m 55s\n",
      "364:\tlearn: 0.0540332\ttotal: 4m 33s\tremaining: 7m 55s\n",
      "365:\tlearn: 0.0537522\ttotal: 4m 33s\tremaining: 7m 54s\n",
      "366:\tlearn: 0.0535852\ttotal: 4m 34s\tremaining: 7m 53s\n",
      "367:\tlearn: 0.0532960\ttotal: 4m 35s\tremaining: 7m 52s\n",
      "368:\tlearn: 0.0531152\ttotal: 4m 35s\tremaining: 7m 51s\n",
      "369:\tlearn: 0.0529285\ttotal: 4m 36s\tremaining: 7m 50s\n",
      "370:\tlearn: 0.0527332\ttotal: 4m 37s\tremaining: 7m 50s\n",
      "371:\tlearn: 0.0525535\ttotal: 4m 37s\tremaining: 7m 49s\n",
      "372:\tlearn: 0.0524781\ttotal: 4m 38s\tremaining: 7m 48s\n",
      "373:\tlearn: 0.0521663\ttotal: 4m 39s\tremaining: 7m 47s\n",
      "374:\tlearn: 0.0520420\ttotal: 4m 40s\tremaining: 7m 47s\n",
      "375:\tlearn: 0.0519022\ttotal: 4m 41s\tremaining: 7m 47s\n",
      "376:\tlearn: 0.0515838\ttotal: 4m 42s\tremaining: 7m 46s\n",
      "377:\tlearn: 0.0514125\ttotal: 4m 42s\tremaining: 7m 45s\n",
      "378:\tlearn: 0.0511442\ttotal: 4m 43s\tremaining: 7m 44s\n",
      "379:\tlearn: 0.0510350\ttotal: 4m 44s\tremaining: 7m 43s\n",
      "380:\tlearn: 0.0508934\ttotal: 4m 44s\tremaining: 7m 42s\n",
      "381:\tlearn: 0.0506123\ttotal: 4m 45s\tremaining: 7m 42s\n",
      "382:\tlearn: 0.0503611\ttotal: 4m 46s\tremaining: 7m 41s\n",
      "383:\tlearn: 0.0502391\ttotal: 4m 46s\tremaining: 7m 40s\n",
      "384:\tlearn: 0.0499849\ttotal: 4m 47s\tremaining: 7m 39s\n",
      "385:\tlearn: 0.0499171\ttotal: 4m 48s\tremaining: 7m 38s\n",
      "386:\tlearn: 0.0497212\ttotal: 4m 49s\tremaining: 7m 37s\n",
      "387:\tlearn: 0.0495483\ttotal: 4m 49s\tremaining: 7m 36s\n",
      "388:\tlearn: 0.0494358\ttotal: 4m 50s\tremaining: 7m 36s\n",
      "389:\tlearn: 0.0492892\ttotal: 4m 51s\tremaining: 7m 35s\n",
      "390:\tlearn: 0.0491374\ttotal: 4m 51s\tremaining: 7m 34s\n",
      "391:\tlearn: 0.0489571\ttotal: 4m 52s\tremaining: 7m 34s\n",
      "392:\tlearn: 0.0488153\ttotal: 4m 53s\tremaining: 7m 33s\n",
      "393:\tlearn: 0.0486793\ttotal: 4m 54s\tremaining: 7m 33s\n",
      "394:\tlearn: 0.0485536\ttotal: 4m 55s\tremaining: 7m 32s\n",
      "395:\tlearn: 0.0483953\ttotal: 4m 56s\tremaining: 7m 31s\n",
      "396:\tlearn: 0.0482751\ttotal: 4m 56s\tremaining: 7m 30s\n",
      "397:\tlearn: 0.0480448\ttotal: 4m 57s\tremaining: 7m 29s\n",
      "398:\tlearn: 0.0477702\ttotal: 4m 58s\tremaining: 7m 29s\n",
      "399:\tlearn: 0.0476971\ttotal: 4m 58s\tremaining: 7m 28s\n",
      "400:\tlearn: 0.0475481\ttotal: 4m 59s\tremaining: 7m 27s\n",
      "401:\tlearn: 0.0473489\ttotal: 5m\tremaining: 7m 26s\n",
      "402:\tlearn: 0.0471141\ttotal: 5m\tremaining: 7m 25s\n",
      "403:\tlearn: 0.0469462\ttotal: 5m 1s\tremaining: 7m 24s\n",
      "404:\tlearn: 0.0468018\ttotal: 5m 2s\tremaining: 7m 23s\n",
      "405:\tlearn: 0.0466418\ttotal: 5m 2s\tremaining: 7m 23s\n",
      "406:\tlearn: 0.0465660\ttotal: 5m 3s\tremaining: 7m 22s\n",
      "407:\tlearn: 0.0463477\ttotal: 5m 4s\tremaining: 7m 21s\n",
      "408:\tlearn: 0.0461612\ttotal: 5m 5s\tremaining: 7m 20s\n",
      "409:\tlearn: 0.0460449\ttotal: 5m 6s\tremaining: 7m 20s\n",
      "410:\tlearn: 0.0459812\ttotal: 5m 7s\tremaining: 7m 20s\n",
      "411:\tlearn: 0.0458034\ttotal: 5m 7s\tremaining: 7m 19s\n",
      "412:\tlearn: 0.0456894\ttotal: 5m 8s\tremaining: 7m 18s\n",
      "413:\tlearn: 0.0455194\ttotal: 5m 9s\tremaining: 7m 17s\n",
      "414:\tlearn: 0.0454586\ttotal: 5m 9s\tremaining: 7m 16s\n",
      "415:\tlearn: 0.0453222\ttotal: 5m 10s\tremaining: 7m 16s\n",
      "416:\tlearn: 0.0450698\ttotal: 5m 11s\tremaining: 7m 15s\n",
      "417:\tlearn: 0.0448908\ttotal: 5m 12s\tremaining: 7m 14s\n",
      "418:\tlearn: 0.0447727\ttotal: 5m 12s\tremaining: 7m 13s\n",
      "419:\tlearn: 0.0445918\ttotal: 5m 13s\tremaining: 7m 12s\n",
      "420:\tlearn: 0.0445120\ttotal: 5m 14s\tremaining: 7m 11s\n",
      "421:\tlearn: 0.0442760\ttotal: 5m 14s\tremaining: 7m 11s\n",
      "422:\tlearn: 0.0441774\ttotal: 5m 15s\tremaining: 7m 10s\n",
      "423:\tlearn: 0.0440417\ttotal: 5m 16s\tremaining: 7m 9s\n",
      "424:\tlearn: 0.0439678\ttotal: 5m 16s\tremaining: 7m 8s\n",
      "425:\tlearn: 0.0439111\ttotal: 5m 17s\tremaining: 7m 7s\n",
      "426:\tlearn: 0.0438028\ttotal: 5m 18s\tremaining: 7m 7s\n",
      "427:\tlearn: 0.0437361\ttotal: 5m 19s\tremaining: 7m 6s\n",
      "428:\tlearn: 0.0436136\ttotal: 5m 20s\tremaining: 7m 6s\n",
      "429:\tlearn: 0.0434104\ttotal: 5m 21s\tremaining: 7m 5s\n",
      "430:\tlearn: 0.0431936\ttotal: 5m 21s\tremaining: 7m 4s\n",
      "431:\tlearn: 0.0430660\ttotal: 5m 22s\tremaining: 7m 3s\n",
      "432:\tlearn: 0.0429023\ttotal: 5m 23s\tremaining: 7m 3s\n",
      "433:\tlearn: 0.0427565\ttotal: 5m 23s\tremaining: 7m 2s\n",
      "434:\tlearn: 0.0425932\ttotal: 5m 24s\tremaining: 7m 1s\n",
      "435:\tlearn: 0.0424088\ttotal: 5m 25s\tremaining: 7m\n",
      "436:\tlearn: 0.0423055\ttotal: 5m 25s\tremaining: 6m 59s\n",
      "437:\tlearn: 0.0422084\ttotal: 5m 26s\tremaining: 6m 59s\n",
      "438:\tlearn: 0.0421144\ttotal: 5m 27s\tremaining: 6m 58s\n",
      "439:\tlearn: 0.0419302\ttotal: 5m 27s\tremaining: 6m 57s\n",
      "440:\tlearn: 0.0418522\ttotal: 5m 28s\tremaining: 6m 56s\n",
      "441:\tlearn: 0.0416561\ttotal: 5m 29s\tremaining: 6m 55s\n",
      "442:\tlearn: 0.0414831\ttotal: 5m 29s\tremaining: 6m 54s\n",
      "443:\tlearn: 0.0413193\ttotal: 5m 30s\tremaining: 6m 54s\n",
      "444:\tlearn: 0.0410442\ttotal: 5m 31s\tremaining: 6m 53s\n",
      "445:\tlearn: 0.0409286\ttotal: 5m 32s\tremaining: 6m 53s\n",
      "446:\tlearn: 0.0408434\ttotal: 5m 33s\tremaining: 6m 52s\n",
      "447:\tlearn: 0.0407615\ttotal: 5m 34s\tremaining: 6m 52s\n",
      "448:\tlearn: 0.0406055\ttotal: 5m 35s\tremaining: 6m 51s\n",
      "449:\tlearn: 0.0404908\ttotal: 5m 35s\tremaining: 6m 50s\n",
      "450:\tlearn: 0.0401668\ttotal: 5m 36s\tremaining: 6m 49s\n",
      "451:\tlearn: 0.0400513\ttotal: 5m 37s\tremaining: 6m 48s\n",
      "452:\tlearn: 0.0400029\ttotal: 5m 37s\tremaining: 6m 47s\n",
      "453:\tlearn: 0.0399186\ttotal: 5m 38s\tremaining: 6m 47s\n",
      "454:\tlearn: 0.0397681\ttotal: 5m 39s\tremaining: 6m 46s\n",
      "455:\tlearn: 0.0396506\ttotal: 5m 39s\tremaining: 6m 45s\n",
      "456:\tlearn: 0.0395142\ttotal: 5m 40s\tremaining: 6m 44s\n",
      "457:\tlearn: 0.0393519\ttotal: 5m 41s\tremaining: 6m 43s\n",
      "458:\tlearn: 0.0392150\ttotal: 5m 41s\tremaining: 6m 42s\n",
      "459:\tlearn: 0.0391006\ttotal: 5m 42s\tremaining: 6m 42s\n",
      "460:\tlearn: 0.0389849\ttotal: 5m 43s\tremaining: 6m 41s\n",
      "461:\tlearn: 0.0389161\ttotal: 5m 44s\tremaining: 6m 40s\n",
      "462:\tlearn: 0.0387509\ttotal: 5m 45s\tremaining: 6m 40s\n",
      "463:\tlearn: 0.0386220\ttotal: 5m 46s\tremaining: 6m 40s\n",
      "464:\tlearn: 0.0384989\ttotal: 5m 47s\tremaining: 6m 39s\n",
      "465:\tlearn: 0.0383425\ttotal: 5m 48s\tremaining: 6m 39s\n",
      "466:\tlearn: 0.0382610\ttotal: 5m 49s\tremaining: 6m 38s\n",
      "467:\tlearn: 0.0381565\ttotal: 5m 50s\tremaining: 6m 37s\n",
      "468:\tlearn: 0.0380413\ttotal: 5m 50s\tremaining: 6m 37s\n",
      "469:\tlearn: 0.0379276\ttotal: 5m 51s\tremaining: 6m 36s\n",
      "470:\tlearn: 0.0378541\ttotal: 5m 52s\tremaining: 6m 35s\n",
      "471:\tlearn: 0.0377328\ttotal: 5m 52s\tremaining: 6m 34s\n",
      "472:\tlearn: 0.0376549\ttotal: 5m 53s\tremaining: 6m 33s\n",
      "473:\tlearn: 0.0375582\ttotal: 5m 54s\tremaining: 6m 32s\n",
      "474:\tlearn: 0.0374087\ttotal: 5m 54s\tremaining: 6m 32s\n",
      "475:\tlearn: 0.0372969\ttotal: 5m 55s\tremaining: 6m 31s\n",
      "476:\tlearn: 0.0371772\ttotal: 5m 56s\tremaining: 6m 30s\n",
      "477:\tlearn: 0.0370790\ttotal: 5m 56s\tremaining: 6m 29s\n",
      "478:\tlearn: 0.0369745\ttotal: 5m 57s\tremaining: 6m 28s\n",
      "479:\tlearn: 0.0368310\ttotal: 5m 58s\tremaining: 6m 28s\n",
      "480:\tlearn: 0.0367612\ttotal: 5m 59s\tremaining: 6m 28s\n",
      "481:\tlearn: 0.0366083\ttotal: 6m\tremaining: 6m 27s\n",
      "482:\tlearn: 0.0365204\ttotal: 6m 1s\tremaining: 6m 26s\n",
      "483:\tlearn: 0.0364404\ttotal: 6m 1s\tremaining: 6m 25s\n",
      "484:\tlearn: 0.0363327\ttotal: 6m 2s\tremaining: 6m 24s\n",
      "485:\tlearn: 0.0361932\ttotal: 6m 3s\tremaining: 6m 24s\n",
      "486:\tlearn: 0.0361139\ttotal: 6m 3s\tremaining: 6m 23s\n",
      "487:\tlearn: 0.0360481\ttotal: 6m 4s\tremaining: 6m 22s\n",
      "488:\tlearn: 0.0359242\ttotal: 6m 5s\tremaining: 6m 21s\n",
      "489:\tlearn: 0.0358290\ttotal: 6m 5s\tremaining: 6m 20s\n",
      "490:\tlearn: 0.0357024\ttotal: 6m 6s\tremaining: 6m 19s\n",
      "491:\tlearn: 0.0356512\ttotal: 6m 7s\tremaining: 6m 19s\n",
      "492:\tlearn: 0.0355413\ttotal: 6m 7s\tremaining: 6m 18s\n",
      "493:\tlearn: 0.0354613\ttotal: 6m 8s\tremaining: 6m 17s\n",
      "494:\tlearn: 0.0353756\ttotal: 6m 9s\tremaining: 6m 16s\n",
      "495:\tlearn: 0.0352625\ttotal: 6m 9s\tremaining: 6m 15s\n",
      "496:\tlearn: 0.0351659\ttotal: 6m 10s\tremaining: 6m 15s\n",
      "497:\tlearn: 0.0351302\ttotal: 6m 11s\tremaining: 6m 14s\n",
      "498:\tlearn: 0.0350194\ttotal: 6m 12s\tremaining: 6m 14s\n",
      "499:\tlearn: 0.0349176\ttotal: 6m 13s\tremaining: 6m 13s\n",
      "500:\tlearn: 0.0348690\ttotal: 6m 14s\tremaining: 6m 12s\n",
      "501:\tlearn: 0.0347465\ttotal: 6m 14s\tremaining: 6m 11s\n",
      "502:\tlearn: 0.0346510\ttotal: 6m 15s\tremaining: 6m 11s\n",
      "503:\tlearn: 0.0345203\ttotal: 6m 16s\tremaining: 6m 10s\n",
      "504:\tlearn: 0.0344208\ttotal: 6m 17s\tremaining: 6m 9s\n",
      "505:\tlearn: 0.0343652\ttotal: 6m 17s\tremaining: 6m 8s\n",
      "506:\tlearn: 0.0343061\ttotal: 6m 18s\tremaining: 6m 7s\n",
      "507:\tlearn: 0.0341889\ttotal: 6m 19s\tremaining: 6m 7s\n",
      "508:\tlearn: 0.0340442\ttotal: 6m 19s\tremaining: 6m 6s\n",
      "509:\tlearn: 0.0339375\ttotal: 6m 20s\tremaining: 6m 5s\n",
      "510:\tlearn: 0.0338640\ttotal: 6m 21s\tremaining: 6m 4s\n",
      "511:\tlearn: 0.0337790\ttotal: 6m 21s\tremaining: 6m 3s\n",
      "512:\tlearn: 0.0336599\ttotal: 6m 22s\tremaining: 6m 3s\n",
      "513:\tlearn: 0.0335924\ttotal: 6m 23s\tremaining: 6m 2s\n",
      "514:\tlearn: 0.0334682\ttotal: 6m 24s\tremaining: 6m 1s\n",
      "515:\tlearn: 0.0333543\ttotal: 6m 25s\tremaining: 6m 1s\n",
      "516:\tlearn: 0.0333100\ttotal: 6m 26s\tremaining: 6m\n",
      "517:\tlearn: 0.0331772\ttotal: 6m 26s\tremaining: 6m\n",
      "518:\tlearn: 0.0330972\ttotal: 6m 27s\tremaining: 5m 59s\n",
      "519:\tlearn: 0.0329835\ttotal: 6m 28s\tremaining: 5m 58s\n",
      "520:\tlearn: 0.0328721\ttotal: 6m 28s\tremaining: 5m 57s\n",
      "521:\tlearn: 0.0327835\ttotal: 6m 29s\tremaining: 5m 56s\n",
      "522:\tlearn: 0.0326857\ttotal: 6m 30s\tremaining: 5m 55s\n",
      "523:\tlearn: 0.0325765\ttotal: 6m 30s\tremaining: 5m 55s\n",
      "524:\tlearn: 0.0324572\ttotal: 6m 31s\tremaining: 5m 54s\n",
      "525:\tlearn: 0.0323410\ttotal: 6m 32s\tremaining: 5m 53s\n",
      "526:\tlearn: 0.0322736\ttotal: 6m 32s\tremaining: 5m 52s\n",
      "527:\tlearn: 0.0321543\ttotal: 6m 33s\tremaining: 5m 51s\n",
      "528:\tlearn: 0.0320836\ttotal: 6m 34s\tremaining: 5m 51s\n",
      "529:\tlearn: 0.0320021\ttotal: 6m 34s\tremaining: 5m 50s\n",
      "530:\tlearn: 0.0319198\ttotal: 6m 35s\tremaining: 5m 49s\n",
      "531:\tlearn: 0.0318059\ttotal: 6m 36s\tremaining: 5m 48s\n",
      "532:\tlearn: 0.0317270\ttotal: 6m 37s\tremaining: 5m 48s\n",
      "533:\tlearn: 0.0316557\ttotal: 6m 38s\tremaining: 5m 47s\n",
      "534:\tlearn: 0.0315899\ttotal: 6m 39s\tremaining: 5m 47s\n",
      "535:\tlearn: 0.0315279\ttotal: 6m 40s\tremaining: 5m 46s\n",
      "536:\tlearn: 0.0314157\ttotal: 6m 40s\tremaining: 5m 45s\n",
      "537:\tlearn: 0.0313609\ttotal: 6m 41s\tremaining: 5m 44s\n",
      "538:\tlearn: 0.0312649\ttotal: 6m 42s\tremaining: 5m 43s\n",
      "539:\tlearn: 0.0311672\ttotal: 6m 42s\tremaining: 5m 43s\n",
      "540:\tlearn: 0.0310643\ttotal: 6m 43s\tremaining: 5m 42s\n",
      "541:\tlearn: 0.0309839\ttotal: 6m 44s\tremaining: 5m 41s\n",
      "542:\tlearn: 0.0309062\ttotal: 6m 44s\tremaining: 5m 40s\n",
      "543:\tlearn: 0.0307805\ttotal: 6m 45s\tremaining: 5m 39s\n",
      "544:\tlearn: 0.0307069\ttotal: 6m 46s\tremaining: 5m 39s\n",
      "545:\tlearn: 0.0306556\ttotal: 6m 46s\tremaining: 5m 38s\n",
      "546:\tlearn: 0.0305167\ttotal: 6m 47s\tremaining: 5m 37s\n",
      "547:\tlearn: 0.0304496\ttotal: 6m 48s\tremaining: 5m 36s\n",
      "548:\tlearn: 0.0303671\ttotal: 6m 48s\tremaining: 5m 35s\n",
      "549:\tlearn: 0.0303070\ttotal: 6m 49s\tremaining: 5m 35s\n",
      "550:\tlearn: 0.0302627\ttotal: 6m 50s\tremaining: 5m 34s\n",
      "551:\tlearn: 0.0301888\ttotal: 6m 51s\tremaining: 5m 34s\n",
      "552:\tlearn: 0.0301224\ttotal: 6m 52s\tremaining: 5m 33s\n",
      "553:\tlearn: 0.0300841\ttotal: 6m 53s\tremaining: 5m 32s\n",
      "554:\tlearn: 0.0300203\ttotal: 6m 53s\tremaining: 5m 31s\n",
      "555:\tlearn: 0.0299325\ttotal: 6m 54s\tremaining: 5m 31s\n",
      "556:\tlearn: 0.0298614\ttotal: 6m 55s\tremaining: 5m 30s\n",
      "557:\tlearn: 0.0297500\ttotal: 6m 55s\tremaining: 5m 29s\n",
      "558:\tlearn: 0.0296651\ttotal: 6m 56s\tremaining: 5m 28s\n",
      "559:\tlearn: 0.0296149\ttotal: 6m 57s\tremaining: 5m 27s\n",
      "560:\tlearn: 0.0295262\ttotal: 6m 57s\tremaining: 5m 27s\n",
      "561:\tlearn: 0.0294493\ttotal: 6m 58s\tremaining: 5m 26s\n",
      "562:\tlearn: 0.0292707\ttotal: 6m 59s\tremaining: 5m 25s\n",
      "563:\tlearn: 0.0292110\ttotal: 7m\tremaining: 5m 24s\n",
      "564:\tlearn: 0.0291087\ttotal: 7m\tremaining: 5m 23s\n",
      "565:\tlearn: 0.0290204\ttotal: 7m 1s\tremaining: 5m 23s\n",
      "566:\tlearn: 0.0289663\ttotal: 7m 2s\tremaining: 5m 22s\n",
      "567:\tlearn: 0.0288598\ttotal: 7m 3s\tremaining: 5m 21s\n",
      "568:\tlearn: 0.0287560\ttotal: 7m 4s\tremaining: 5m 21s\n",
      "569:\tlearn: 0.0287023\ttotal: 7m 5s\tremaining: 5m 20s\n",
      "570:\tlearn: 0.0286728\ttotal: 7m 5s\tremaining: 5m 19s\n",
      "571:\tlearn: 0.0286519\ttotal: 7m 6s\tremaining: 5m 19s\n",
      "572:\tlearn: 0.0285008\ttotal: 7m 7s\tremaining: 5m 18s\n",
      "573:\tlearn: 0.0284469\ttotal: 7m 7s\tremaining: 5m 17s\n",
      "574:\tlearn: 0.0284270\ttotal: 7m 8s\tremaining: 5m 16s\n",
      "575:\tlearn: 0.0283494\ttotal: 7m 9s\tremaining: 5m 15s\n",
      "576:\tlearn: 0.0282912\ttotal: 7m 9s\tremaining: 5m 15s\n",
      "577:\tlearn: 0.0281639\ttotal: 7m 10s\tremaining: 5m 14s\n",
      "578:\tlearn: 0.0280602\ttotal: 7m 11s\tremaining: 5m 13s\n",
      "579:\tlearn: 0.0279539\ttotal: 7m 11s\tremaining: 5m 12s\n",
      "580:\tlearn: 0.0279020\ttotal: 7m 12s\tremaining: 5m 11s\n",
      "581:\tlearn: 0.0277984\ttotal: 7m 13s\tremaining: 5m 11s\n",
      "582:\tlearn: 0.0277174\ttotal: 7m 13s\tremaining: 5m 10s\n",
      "583:\tlearn: 0.0275666\ttotal: 7m 14s\tremaining: 5m 9s\n",
      "584:\tlearn: 0.0275002\ttotal: 7m 15s\tremaining: 5m 8s\n",
      "585:\tlearn: 0.0273436\ttotal: 7m 16s\tremaining: 5m 8s\n",
      "586:\tlearn: 0.0272308\ttotal: 7m 17s\tremaining: 5m 7s\n",
      "587:\tlearn: 0.0271720\ttotal: 7m 18s\tremaining: 5m 7s\n",
      "588:\tlearn: 0.0271251\ttotal: 7m 19s\tremaining: 5m 6s\n",
      "589:\tlearn: 0.0270523\ttotal: 7m 19s\tremaining: 5m 5s\n",
      "590:\tlearn: 0.0269962\ttotal: 7m 20s\tremaining: 5m 4s\n",
      "591:\tlearn: 0.0269319\ttotal: 7m 21s\tremaining: 5m 3s\n",
      "592:\tlearn: 0.0268934\ttotal: 7m 21s\tremaining: 5m 3s\n",
      "593:\tlearn: 0.0268235\ttotal: 7m 22s\tremaining: 5m 2s\n",
      "594:\tlearn: 0.0267847\ttotal: 7m 22s\tremaining: 5m 1s\n",
      "595:\tlearn: 0.0267068\ttotal: 7m 23s\tremaining: 5m\n",
      "596:\tlearn: 0.0266671\ttotal: 7m 24s\tremaining: 4m 59s\n",
      "597:\tlearn: 0.0265816\ttotal: 7m 24s\tremaining: 4m 59s\n",
      "598:\tlearn: 0.0265121\ttotal: 7m 25s\tremaining: 4m 58s\n",
      "599:\tlearn: 0.0264690\ttotal: 7m 26s\tremaining: 4m 57s\n",
      "600:\tlearn: 0.0264338\ttotal: 7m 26s\tremaining: 4m 56s\n",
      "601:\tlearn: 0.0263872\ttotal: 7m 27s\tremaining: 4m 55s\n",
      "602:\tlearn: 0.0263117\ttotal: 7m 28s\tremaining: 4m 55s\n",
      "603:\tlearn: 0.0262884\ttotal: 7m 29s\tremaining: 4m 54s\n",
      "604:\tlearn: 0.0261978\ttotal: 7m 30s\tremaining: 4m 54s\n",
      "605:\tlearn: 0.0261385\ttotal: 7m 31s\tremaining: 4m 53s\n",
      "606:\tlearn: 0.0260946\ttotal: 7m 31s\tremaining: 4m 52s\n",
      "607:\tlearn: 0.0259543\ttotal: 7m 32s\tremaining: 4m 51s\n",
      "608:\tlearn: 0.0258986\ttotal: 7m 33s\tremaining: 4m 51s\n",
      "609:\tlearn: 0.0258214\ttotal: 7m 34s\tremaining: 4m 50s\n",
      "610:\tlearn: 0.0257842\ttotal: 7m 34s\tremaining: 4m 49s\n",
      "611:\tlearn: 0.0257443\ttotal: 7m 35s\tremaining: 4m 48s\n",
      "612:\tlearn: 0.0256668\ttotal: 7m 35s\tremaining: 4m 47s\n",
      "613:\tlearn: 0.0255986\ttotal: 7m 36s\tremaining: 4m 47s\n",
      "614:\tlearn: 0.0255480\ttotal: 7m 37s\tremaining: 4m 46s\n",
      "615:\tlearn: 0.0254772\ttotal: 7m 38s\tremaining: 4m 45s\n",
      "616:\tlearn: 0.0254068\ttotal: 7m 38s\tremaining: 4m 44s\n",
      "617:\tlearn: 0.0253437\ttotal: 7m 39s\tremaining: 4m 43s\n",
      "618:\tlearn: 0.0252562\ttotal: 7m 40s\tremaining: 4m 43s\n",
      "619:\tlearn: 0.0251967\ttotal: 7m 40s\tremaining: 4m 42s\n",
      "620:\tlearn: 0.0251406\ttotal: 7m 41s\tremaining: 4m 41s\n",
      "621:\tlearn: 0.0250948\ttotal: 7m 42s\tremaining: 4m 41s\n",
      "622:\tlearn: 0.0250429\ttotal: 7m 43s\tremaining: 4m 40s\n",
      "623:\tlearn: 0.0249769\ttotal: 7m 44s\tremaining: 4m 39s\n",
      "624:\tlearn: 0.0249132\ttotal: 7m 45s\tremaining: 4m 39s\n",
      "625:\tlearn: 0.0248472\ttotal: 7m 45s\tremaining: 4m 38s\n",
      "626:\tlearn: 0.0247895\ttotal: 7m 46s\tremaining: 4m 37s\n",
      "627:\tlearn: 0.0247627\ttotal: 7m 47s\tremaining: 4m 36s\n",
      "628:\tlearn: 0.0247368\ttotal: 7m 47s\tremaining: 4m 35s\n",
      "629:\tlearn: 0.0246579\ttotal: 7m 48s\tremaining: 4m 35s\n",
      "630:\tlearn: 0.0246045\ttotal: 7m 49s\tremaining: 4m 34s\n",
      "631:\tlearn: 0.0245640\ttotal: 7m 49s\tremaining: 4m 33s\n",
      "632:\tlearn: 0.0244719\ttotal: 7m 50s\tremaining: 4m 32s\n",
      "633:\tlearn: 0.0244110\ttotal: 7m 51s\tremaining: 4m 32s\n",
      "634:\tlearn: 0.0243446\ttotal: 7m 51s\tremaining: 4m 31s\n",
      "635:\tlearn: 0.0242897\ttotal: 7m 52s\tremaining: 4m 30s\n",
      "636:\tlearn: 0.0242020\ttotal: 7m 53s\tremaining: 4m 29s\n",
      "637:\tlearn: 0.0241572\ttotal: 7m 54s\tremaining: 4m 29s\n",
      "638:\tlearn: 0.0241305\ttotal: 7m 55s\tremaining: 4m 28s\n",
      "639:\tlearn: 0.0240761\ttotal: 7m 56s\tremaining: 4m 27s\n",
      "640:\tlearn: 0.0240264\ttotal: 7m 57s\tremaining: 4m 27s\n",
      "641:\tlearn: 0.0239606\ttotal: 7m 57s\tremaining: 4m 26s\n",
      "642:\tlearn: 0.0239032\ttotal: 7m 58s\tremaining: 4m 25s\n",
      "643:\tlearn: 0.0238661\ttotal: 7m 59s\tremaining: 4m 24s\n",
      "644:\tlearn: 0.0238321\ttotal: 7m 59s\tremaining: 4m 24s\n",
      "645:\tlearn: 0.0237552\ttotal: 8m\tremaining: 4m 23s\n",
      "646:\tlearn: 0.0237275\ttotal: 8m 1s\tremaining: 4m 22s\n",
      "647:\tlearn: 0.0236821\ttotal: 8m 1s\tremaining: 4m 21s\n",
      "648:\tlearn: 0.0235938\ttotal: 8m 2s\tremaining: 4m 20s\n",
      "649:\tlearn: 0.0235470\ttotal: 8m 3s\tremaining: 4m 20s\n",
      "650:\tlearn: 0.0235069\ttotal: 8m 3s\tremaining: 4m 19s\n",
      "651:\tlearn: 0.0234387\ttotal: 8m 4s\tremaining: 4m 18s\n",
      "652:\tlearn: 0.0233567\ttotal: 8m 5s\tremaining: 4m 17s\n",
      "653:\tlearn: 0.0233257\ttotal: 8m 5s\tremaining: 4m 17s\n",
      "654:\tlearn: 0.0232070\ttotal: 8m 6s\tremaining: 4m 16s\n",
      "655:\tlearn: 0.0231068\ttotal: 8m 7s\tremaining: 4m 15s\n",
      "656:\tlearn: 0.0230582\ttotal: 8m 8s\tremaining: 4m 15s\n",
      "657:\tlearn: 0.0230145\ttotal: 8m 9s\tremaining: 4m 14s\n",
      "658:\tlearn: 0.0229650\ttotal: 8m 10s\tremaining: 4m 13s\n",
      "659:\tlearn: 0.0229122\ttotal: 8m 11s\tremaining: 4m 12s\n",
      "660:\tlearn: 0.0228865\ttotal: 8m 11s\tremaining: 4m 12s\n",
      "661:\tlearn: 0.0228202\ttotal: 8m 12s\tremaining: 4m 11s\n",
      "662:\tlearn: 0.0227507\ttotal: 8m 13s\tremaining: 4m 10s\n",
      "663:\tlearn: 0.0227100\ttotal: 8m 13s\tremaining: 4m 9s\n",
      "664:\tlearn: 0.0226681\ttotal: 8m 14s\tremaining: 4m 9s\n",
      "665:\tlearn: 0.0226099\ttotal: 8m 15s\tremaining: 4m 8s\n",
      "666:\tlearn: 0.0225573\ttotal: 8m 15s\tremaining: 4m 7s\n",
      "667:\tlearn: 0.0225212\ttotal: 8m 16s\tremaining: 4m 6s\n",
      "668:\tlearn: 0.0224315\ttotal: 8m 17s\tremaining: 4m 6s\n",
      "669:\tlearn: 0.0223876\ttotal: 8m 17s\tremaining: 4m 5s\n",
      "670:\tlearn: 0.0223082\ttotal: 8m 18s\tremaining: 4m 4s\n",
      "671:\tlearn: 0.0222568\ttotal: 8m 19s\tremaining: 4m 3s\n",
      "672:\tlearn: 0.0222042\ttotal: 8m 20s\tremaining: 4m 3s\n",
      "673:\tlearn: 0.0221294\ttotal: 8m 21s\tremaining: 4m 2s\n",
      "674:\tlearn: 0.0220750\ttotal: 8m 22s\tremaining: 4m 1s\n",
      "675:\tlearn: 0.0220570\ttotal: 8m 23s\tremaining: 4m 1s\n",
      "676:\tlearn: 0.0220018\ttotal: 8m 23s\tremaining: 4m\n",
      "677:\tlearn: 0.0219567\ttotal: 8m 24s\tremaining: 3m 59s\n",
      "678:\tlearn: 0.0218895\ttotal: 8m 25s\tremaining: 3m 58s\n",
      "679:\tlearn: 0.0218606\ttotal: 8m 25s\tremaining: 3m 57s\n",
      "680:\tlearn: 0.0217948\ttotal: 8m 26s\tremaining: 3m 57s\n",
      "681:\tlearn: 0.0217583\ttotal: 8m 27s\tremaining: 3m 56s\n",
      "682:\tlearn: 0.0217029\ttotal: 8m 27s\tremaining: 3m 55s\n",
      "683:\tlearn: 0.0216164\ttotal: 8m 28s\tremaining: 3m 54s\n",
      "684:\tlearn: 0.0215518\ttotal: 8m 29s\tremaining: 3m 54s\n",
      "685:\tlearn: 0.0215116\ttotal: 8m 29s\tremaining: 3m 53s\n",
      "686:\tlearn: 0.0214306\ttotal: 8m 30s\tremaining: 3m 52s\n",
      "687:\tlearn: 0.0213923\ttotal: 8m 31s\tremaining: 3m 51s\n",
      "688:\tlearn: 0.0213442\ttotal: 8m 31s\tremaining: 3m 51s\n",
      "689:\tlearn: 0.0212587\ttotal: 8m 32s\tremaining: 3m 50s\n",
      "690:\tlearn: 0.0212204\ttotal: 8m 33s\tremaining: 3m 49s\n",
      "691:\tlearn: 0.0211688\ttotal: 8m 34s\tremaining: 3m 49s\n",
      "692:\tlearn: 0.0211108\ttotal: 8m 35s\tremaining: 3m 48s\n",
      "693:\tlearn: 0.0210308\ttotal: 8m 36s\tremaining: 3m 47s\n",
      "694:\tlearn: 0.0210148\ttotal: 8m 36s\tremaining: 3m 46s\n",
      "695:\tlearn: 0.0209392\ttotal: 8m 37s\tremaining: 3m 46s\n",
      "696:\tlearn: 0.0208976\ttotal: 8m 38s\tremaining: 3m 45s\n",
      "697:\tlearn: 0.0208416\ttotal: 8m 38s\tremaining: 3m 44s\n",
      "698:\tlearn: 0.0208014\ttotal: 8m 39s\tremaining: 3m 43s\n",
      "699:\tlearn: 0.0207631\ttotal: 8m 40s\tremaining: 3m 42s\n",
      "700:\tlearn: 0.0207324\ttotal: 8m 40s\tremaining: 3m 42s\n",
      "701:\tlearn: 0.0206780\ttotal: 8m 41s\tremaining: 3m 41s\n",
      "702:\tlearn: 0.0206526\ttotal: 8m 42s\tremaining: 3m 40s\n",
      "703:\tlearn: 0.0206037\ttotal: 8m 42s\tremaining: 3m 39s\n",
      "704:\tlearn: 0.0205759\ttotal: 8m 43s\tremaining: 3m 39s\n",
      "705:\tlearn: 0.0205394\ttotal: 8m 44s\tremaining: 3m 38s\n",
      "706:\tlearn: 0.0205153\ttotal: 8m 44s\tremaining: 3m 37s\n",
      "707:\tlearn: 0.0204679\ttotal: 8m 45s\tremaining: 3m 36s\n",
      "708:\tlearn: 0.0204200\ttotal: 8m 46s\tremaining: 3m 36s\n",
      "709:\tlearn: 0.0203839\ttotal: 8m 47s\tremaining: 3m 35s\n",
      "710:\tlearn: 0.0203347\ttotal: 8m 48s\tremaining: 3m 34s\n",
      "711:\tlearn: 0.0202666\ttotal: 8m 49s\tremaining: 3m 34s\n",
      "712:\tlearn: 0.0202291\ttotal: 8m 49s\tremaining: 3m 33s\n",
      "713:\tlearn: 0.0201923\ttotal: 8m 50s\tremaining: 3m 32s\n",
      "714:\tlearn: 0.0201348\ttotal: 8m 51s\tremaining: 3m 31s\n",
      "715:\tlearn: 0.0200954\ttotal: 8m 51s\tremaining: 3m 30s\n",
      "716:\tlearn: 0.0200527\ttotal: 8m 52s\tremaining: 3m 30s\n",
      "717:\tlearn: 0.0200178\ttotal: 8m 53s\tremaining: 3m 29s\n",
      "718:\tlearn: 0.0199662\ttotal: 8m 53s\tremaining: 3m 28s\n",
      "719:\tlearn: 0.0199377\ttotal: 8m 54s\tremaining: 3m 27s\n",
      "720:\tlearn: 0.0199068\ttotal: 8m 55s\tremaining: 3m 27s\n",
      "721:\tlearn: 0.0198650\ttotal: 8m 55s\tremaining: 3m 26s\n",
      "722:\tlearn: 0.0198116\ttotal: 8m 56s\tremaining: 3m 25s\n",
      "723:\tlearn: 0.0197904\ttotal: 8m 57s\tremaining: 3m 24s\n",
      "724:\tlearn: 0.0197414\ttotal: 8m 57s\tremaining: 3m 24s\n",
      "725:\tlearn: 0.0196871\ttotal: 8m 58s\tremaining: 3m 23s\n",
      "726:\tlearn: 0.0196313\ttotal: 9m\tremaining: 3m 22s\n",
      "727:\tlearn: 0.0196033\ttotal: 9m 1s\tremaining: 3m 22s\n",
      "728:\tlearn: 0.0195673\ttotal: 9m 1s\tremaining: 3m 21s\n",
      "729:\tlearn: 0.0195503\ttotal: 9m 2s\tremaining: 3m 20s\n",
      "730:\tlearn: 0.0195213\ttotal: 9m 3s\tremaining: 3m 19s\n",
      "731:\tlearn: 0.0194919\ttotal: 9m 3s\tremaining: 3m 19s\n",
      "732:\tlearn: 0.0194429\ttotal: 9m 4s\tremaining: 3m 18s\n",
      "733:\tlearn: 0.0193798\ttotal: 9m 5s\tremaining: 3m 17s\n",
      "734:\tlearn: 0.0193295\ttotal: 9m 5s\tremaining: 3m 16s\n",
      "735:\tlearn: 0.0192788\ttotal: 9m 6s\tremaining: 3m 16s\n",
      "736:\tlearn: 0.0192480\ttotal: 9m 7s\tremaining: 3m 15s\n",
      "737:\tlearn: 0.0192029\ttotal: 9m 7s\tremaining: 3m 14s\n",
      "738:\tlearn: 0.0191934\ttotal: 9m 8s\tremaining: 3m 13s\n",
      "739:\tlearn: 0.0191359\ttotal: 9m 9s\tremaining: 3m 12s\n",
      "740:\tlearn: 0.0190500\ttotal: 9m 9s\tremaining: 3m 12s\n",
      "741:\tlearn: 0.0190098\ttotal: 9m 10s\tremaining: 3m 11s\n",
      "742:\tlearn: 0.0189729\ttotal: 9m 11s\tremaining: 3m 10s\n",
      "743:\tlearn: 0.0189153\ttotal: 9m 12s\tremaining: 3m 10s\n",
      "744:\tlearn: 0.0188469\ttotal: 9m 13s\tremaining: 3m 9s\n",
      "745:\tlearn: 0.0188150\ttotal: 9m 14s\tremaining: 3m 8s\n",
      "746:\tlearn: 0.0187912\ttotal: 9m 15s\tremaining: 3m 7s\n",
      "747:\tlearn: 0.0187596\ttotal: 9m 15s\tremaining: 3m 7s\n",
      "748:\tlearn: 0.0187189\ttotal: 9m 16s\tremaining: 3m 6s\n",
      "749:\tlearn: 0.0186841\ttotal: 9m 17s\tremaining: 3m 5s\n",
      "750:\tlearn: 0.0186260\ttotal: 9m 17s\tremaining: 3m 4s\n",
      "751:\tlearn: 0.0185761\ttotal: 9m 18s\tremaining: 3m 4s\n",
      "752:\tlearn: 0.0185491\ttotal: 9m 19s\tremaining: 3m 3s\n",
      "753:\tlearn: 0.0185066\ttotal: 9m 19s\tremaining: 3m 2s\n",
      "754:\tlearn: 0.0184580\ttotal: 9m 20s\tremaining: 3m 1s\n",
      "755:\tlearn: 0.0184391\ttotal: 9m 21s\tremaining: 3m 1s\n",
      "756:\tlearn: 0.0184124\ttotal: 9m 21s\tremaining: 3m\n",
      "757:\tlearn: 0.0183463\ttotal: 9m 22s\tremaining: 2m 59s\n",
      "758:\tlearn: 0.0183117\ttotal: 9m 23s\tremaining: 2m 58s\n",
      "759:\tlearn: 0.0182784\ttotal: 9m 23s\tremaining: 2m 58s\n",
      "760:\tlearn: 0.0182562\ttotal: 9m 24s\tremaining: 2m 57s\n",
      "761:\tlearn: 0.0182251\ttotal: 9m 25s\tremaining: 2m 56s\n",
      "762:\tlearn: 0.0181910\ttotal: 9m 26s\tremaining: 2m 56s\n",
      "763:\tlearn: 0.0181583\ttotal: 9m 27s\tremaining: 2m 55s\n",
      "764:\tlearn: 0.0181130\ttotal: 9m 28s\tremaining: 2m 54s\n",
      "765:\tlearn: 0.0180879\ttotal: 9m 28s\tremaining: 2m 53s\n",
      "766:\tlearn: 0.0180499\ttotal: 9m 29s\tremaining: 2m 53s\n",
      "767:\tlearn: 0.0180150\ttotal: 9m 30s\tremaining: 2m 52s\n",
      "768:\tlearn: 0.0179528\ttotal: 9m 30s\tremaining: 2m 51s\n",
      "769:\tlearn: 0.0179035\ttotal: 9m 31s\tremaining: 2m 50s\n",
      "770:\tlearn: 0.0178507\ttotal: 9m 32s\tremaining: 2m 49s\n",
      "771:\tlearn: 0.0178310\ttotal: 9m 32s\tremaining: 2m 49s\n",
      "772:\tlearn: 0.0177973\ttotal: 9m 33s\tremaining: 2m 48s\n",
      "773:\tlearn: 0.0177508\ttotal: 9m 34s\tremaining: 2m 47s\n",
      "774:\tlearn: 0.0177154\ttotal: 9m 34s\tremaining: 2m 46s\n",
      "775:\tlearn: 0.0176800\ttotal: 9m 35s\tremaining: 2m 46s\n",
      "776:\tlearn: 0.0176638\ttotal: 9m 36s\tremaining: 2m 45s\n",
      "777:\tlearn: 0.0176500\ttotal: 9m 36s\tremaining: 2m 44s\n",
      "778:\tlearn: 0.0176147\ttotal: 9m 38s\tremaining: 2m 43s\n",
      "779:\tlearn: 0.0175862\ttotal: 9m 39s\tremaining: 2m 43s\n",
      "780:\tlearn: 0.0175348\ttotal: 9m 39s\tremaining: 2m 42s\n",
      "781:\tlearn: 0.0175005\ttotal: 9m 40s\tremaining: 2m 41s\n",
      "782:\tlearn: 0.0174622\ttotal: 9m 41s\tremaining: 2m 41s\n",
      "783:\tlearn: 0.0174362\ttotal: 9m 42s\tremaining: 2m 40s\n",
      "784:\tlearn: 0.0173889\ttotal: 9m 42s\tremaining: 2m 39s\n",
      "785:\tlearn: 0.0173397\ttotal: 9m 43s\tremaining: 2m 38s\n",
      "786:\tlearn: 0.0172872\ttotal: 9m 44s\tremaining: 2m 38s\n",
      "787:\tlearn: 0.0172466\ttotal: 9m 44s\tremaining: 2m 37s\n",
      "788:\tlearn: 0.0171820\ttotal: 9m 45s\tremaining: 2m 36s\n",
      "789:\tlearn: 0.0171533\ttotal: 9m 46s\tremaining: 2m 35s\n",
      "790:\tlearn: 0.0171288\ttotal: 9m 46s\tremaining: 2m 35s\n",
      "791:\tlearn: 0.0170889\ttotal: 9m 47s\tremaining: 2m 34s\n",
      "792:\tlearn: 0.0170614\ttotal: 9m 48s\tremaining: 2m 33s\n",
      "793:\tlearn: 0.0170293\ttotal: 9m 48s\tremaining: 2m 32s\n",
      "794:\tlearn: 0.0170077\ttotal: 9m 49s\tremaining: 2m 32s\n",
      "795:\tlearn: 0.0169323\ttotal: 9m 50s\tremaining: 2m 31s\n",
      "796:\tlearn: 0.0168892\ttotal: 9m 51s\tremaining: 2m 30s\n",
      "797:\tlearn: 0.0168735\ttotal: 9m 52s\tremaining: 2m 30s\n",
      "798:\tlearn: 0.0168251\ttotal: 9m 53s\tremaining: 2m 29s\n",
      "799:\tlearn: 0.0167853\ttotal: 9m 53s\tremaining: 2m 28s\n",
      "800:\tlearn: 0.0167645\ttotal: 9m 54s\tremaining: 2m 27s\n",
      "801:\tlearn: 0.0167363\ttotal: 9m 55s\tremaining: 2m 26s\n",
      "802:\tlearn: 0.0167080\ttotal: 9m 55s\tremaining: 2m 26s\n",
      "803:\tlearn: 0.0166857\ttotal: 9m 56s\tremaining: 2m 25s\n",
      "804:\tlearn: 0.0166572\ttotal: 9m 57s\tremaining: 2m 24s\n",
      "805:\tlearn: 0.0166191\ttotal: 9m 57s\tremaining: 2m 23s\n",
      "806:\tlearn: 0.0165917\ttotal: 9m 58s\tremaining: 2m 23s\n",
      "807:\tlearn: 0.0165402\ttotal: 9m 59s\tremaining: 2m 22s\n",
      "808:\tlearn: 0.0165008\ttotal: 9m 59s\tremaining: 2m 21s\n",
      "809:\tlearn: 0.0164670\ttotal: 10m\tremaining: 2m 20s\n",
      "810:\tlearn: 0.0164322\ttotal: 10m 1s\tremaining: 2m 20s\n",
      "811:\tlearn: 0.0164055\ttotal: 10m 1s\tremaining: 2m 19s\n",
      "812:\tlearn: 0.0163750\ttotal: 10m 2s\tremaining: 2m 18s\n",
      "813:\tlearn: 0.0163651\ttotal: 10m 3s\tremaining: 2m 17s\n",
      "814:\tlearn: 0.0163300\ttotal: 10m 4s\tremaining: 2m 17s\n",
      "815:\tlearn: 0.0162908\ttotal: 10m 5s\tremaining: 2m 16s\n",
      "816:\tlearn: 0.0162518\ttotal: 10m 6s\tremaining: 2m 15s\n",
      "817:\tlearn: 0.0162284\ttotal: 10m 6s\tremaining: 2m 15s\n",
      "818:\tlearn: 0.0161965\ttotal: 10m 7s\tremaining: 2m 14s\n",
      "819:\tlearn: 0.0161698\ttotal: 10m 8s\tremaining: 2m 13s\n",
      "820:\tlearn: 0.0161413\ttotal: 10m 8s\tremaining: 2m 12s\n",
      "821:\tlearn: 0.0161234\ttotal: 10m 9s\tremaining: 2m 12s\n",
      "822:\tlearn: 0.0160977\ttotal: 10m 10s\tremaining: 2m 11s\n",
      "823:\tlearn: 0.0160688\ttotal: 10m 10s\tremaining: 2m 10s\n",
      "824:\tlearn: 0.0160213\ttotal: 10m 11s\tremaining: 2m 9s\n",
      "825:\tlearn: 0.0159943\ttotal: 10m 12s\tremaining: 2m 8s\n",
      "826:\tlearn: 0.0159380\ttotal: 10m 13s\tremaining: 2m 8s\n",
      "827:\tlearn: 0.0159168\ttotal: 10m 13s\tremaining: 2m 7s\n",
      "828:\tlearn: 0.0158842\ttotal: 10m 14s\tremaining: 2m 6s\n",
      "829:\tlearn: 0.0158350\ttotal: 10m 15s\tremaining: 2m 5s\n",
      "830:\tlearn: 0.0158044\ttotal: 10m 16s\tremaining: 2m 5s\n",
      "831:\tlearn: 0.0157607\ttotal: 10m 17s\tremaining: 2m 4s\n",
      "832:\tlearn: 0.0157383\ttotal: 10m 18s\tremaining: 2m 3s\n",
      "833:\tlearn: 0.0157150\ttotal: 10m 19s\tremaining: 2m 3s\n",
      "834:\tlearn: 0.0156872\ttotal: 10m 20s\tremaining: 2m 2s\n",
      "835:\tlearn: 0.0156407\ttotal: 10m 21s\tremaining: 2m 1s\n",
      "836:\tlearn: 0.0156120\ttotal: 10m 22s\tremaining: 2m 1s\n",
      "837:\tlearn: 0.0155934\ttotal: 10m 22s\tremaining: 2m\n",
      "838:\tlearn: 0.0155486\ttotal: 10m 23s\tremaining: 1m 59s\n",
      "839:\tlearn: 0.0155238\ttotal: 10m 24s\tremaining: 1m 58s\n",
      "840:\tlearn: 0.0155034\ttotal: 10m 24s\tremaining: 1m 58s\n",
      "841:\tlearn: 0.0154803\ttotal: 10m 25s\tremaining: 1m 57s\n",
      "842:\tlearn: 0.0154668\ttotal: 10m 26s\tremaining: 1m 56s\n",
      "843:\tlearn: 0.0154378\ttotal: 10m 26s\tremaining: 1m 55s\n",
      "844:\tlearn: 0.0154141\ttotal: 10m 27s\tremaining: 1m 55s\n",
      "845:\tlearn: 0.0153726\ttotal: 10m 28s\tremaining: 1m 54s\n",
      "846:\tlearn: 0.0153573\ttotal: 10m 28s\tremaining: 1m 53s\n",
      "847:\tlearn: 0.0153374\ttotal: 10m 29s\tremaining: 1m 52s\n",
      "848:\tlearn: 0.0152940\ttotal: 10m 30s\tremaining: 1m 52s\n",
      "849:\tlearn: 0.0152843\ttotal: 10m 31s\tremaining: 1m 51s\n",
      "850:\tlearn: 0.0152575\ttotal: 10m 32s\tremaining: 1m 50s\n",
      "851:\tlearn: 0.0152380\ttotal: 10m 33s\tremaining: 1m 49s\n",
      "852:\tlearn: 0.0152157\ttotal: 10m 33s\tremaining: 1m 49s\n",
      "853:\tlearn: 0.0151793\ttotal: 10m 34s\tremaining: 1m 48s\n",
      "854:\tlearn: 0.0151626\ttotal: 10m 35s\tremaining: 1m 47s\n",
      "855:\tlearn: 0.0151340\ttotal: 10m 35s\tremaining: 1m 46s\n",
      "856:\tlearn: 0.0151195\ttotal: 10m 36s\tremaining: 1m 46s\n",
      "857:\tlearn: 0.0150680\ttotal: 10m 37s\tremaining: 1m 45s\n",
      "858:\tlearn: 0.0150438\ttotal: 10m 37s\tremaining: 1m 44s\n",
      "859:\tlearn: 0.0150233\ttotal: 10m 38s\tremaining: 1m 43s\n",
      "860:\tlearn: 0.0150001\ttotal: 10m 39s\tremaining: 1m 43s\n",
      "861:\tlearn: 0.0149754\ttotal: 10m 39s\tremaining: 1m 42s\n",
      "862:\tlearn: 0.0149425\ttotal: 10m 40s\tremaining: 1m 41s\n",
      "863:\tlearn: 0.0149274\ttotal: 10m 41s\tremaining: 1m 40s\n",
      "864:\tlearn: 0.0149084\ttotal: 10m 41s\tremaining: 1m 40s\n",
      "865:\tlearn: 0.0148823\ttotal: 10m 42s\tremaining: 1m 39s\n",
      "866:\tlearn: 0.0148507\ttotal: 10m 43s\tremaining: 1m 38s\n",
      "867:\tlearn: 0.0148316\ttotal: 10m 44s\tremaining: 1m 38s\n",
      "868:\tlearn: 0.0148101\ttotal: 10m 45s\tremaining: 1m 37s\n",
      "869:\tlearn: 0.0147980\ttotal: 10m 46s\tremaining: 1m 36s\n",
      "870:\tlearn: 0.0147515\ttotal: 10m 47s\tremaining: 1m 35s\n",
      "871:\tlearn: 0.0147322\ttotal: 10m 47s\tremaining: 1m 35s\n",
      "872:\tlearn: 0.0147061\ttotal: 10m 48s\tremaining: 1m 34s\n",
      "873:\tlearn: 0.0146801\ttotal: 10m 49s\tremaining: 1m 33s\n",
      "874:\tlearn: 0.0146431\ttotal: 10m 49s\tremaining: 1m 32s\n",
      "875:\tlearn: 0.0146314\ttotal: 10m 50s\tremaining: 1m 32s\n",
      "876:\tlearn: 0.0145775\ttotal: 10m 51s\tremaining: 1m 31s\n",
      "877:\tlearn: 0.0145588\ttotal: 10m 51s\tremaining: 1m 30s\n",
      "878:\tlearn: 0.0145312\ttotal: 10m 52s\tremaining: 1m 29s\n",
      "879:\tlearn: 0.0145210\ttotal: 10m 53s\tremaining: 1m 29s\n",
      "880:\tlearn: 0.0144906\ttotal: 10m 53s\tremaining: 1m 28s\n",
      "881:\tlearn: 0.0144654\ttotal: 10m 54s\tremaining: 1m 27s\n",
      "882:\tlearn: 0.0144339\ttotal: 10m 55s\tremaining: 1m 26s\n",
      "883:\tlearn: 0.0144196\ttotal: 10m 56s\tremaining: 1m 26s\n",
      "884:\tlearn: 0.0143973\ttotal: 10m 57s\tremaining: 1m 25s\n",
      "885:\tlearn: 0.0143707\ttotal: 10m 58s\tremaining: 1m 24s\n",
      "886:\tlearn: 0.0143442\ttotal: 10m 58s\tremaining: 1m 23s\n",
      "887:\tlearn: 0.0143153\ttotal: 10m 59s\tremaining: 1m 23s\n",
      "888:\tlearn: 0.0142889\ttotal: 11m\tremaining: 1m 22s\n",
      "889:\tlearn: 0.0142517\ttotal: 11m\tremaining: 1m 21s\n",
      "890:\tlearn: 0.0142184\ttotal: 11m 1s\tremaining: 1m 20s\n",
      "891:\tlearn: 0.0141927\ttotal: 11m 2s\tremaining: 1m 20s\n",
      "892:\tlearn: 0.0141650\ttotal: 11m 3s\tremaining: 1m 19s\n",
      "893:\tlearn: 0.0141463\ttotal: 11m 3s\tremaining: 1m 18s\n",
      "894:\tlearn: 0.0141228\ttotal: 11m 4s\tremaining: 1m 17s\n",
      "895:\tlearn: 0.0141052\ttotal: 11m 5s\tremaining: 1m 17s\n",
      "896:\tlearn: 0.0140848\ttotal: 11m 5s\tremaining: 1m 16s\n",
      "897:\tlearn: 0.0140509\ttotal: 11m 6s\tremaining: 1m 15s\n",
      "898:\tlearn: 0.0140287\ttotal: 11m 7s\tremaining: 1m 14s\n",
      "899:\tlearn: 0.0140180\ttotal: 11m 7s\tremaining: 1m 14s\n",
      "900:\tlearn: 0.0140021\ttotal: 11m 8s\tremaining: 1m 13s\n",
      "901:\tlearn: 0.0139852\ttotal: 11m 9s\tremaining: 1m 12s\n",
      "902:\tlearn: 0.0139707\ttotal: 11m 10s\tremaining: 1m 12s\n",
      "903:\tlearn: 0.0139566\ttotal: 11m 11s\tremaining: 1m 11s\n",
      "904:\tlearn: 0.0139310\ttotal: 11m 12s\tremaining: 1m 10s\n",
      "905:\tlearn: 0.0139128\ttotal: 11m 12s\tremaining: 1m 9s\n",
      "906:\tlearn: 0.0138966\ttotal: 11m 13s\tremaining: 1m 9s\n",
      "907:\tlearn: 0.0138639\ttotal: 11m 14s\tremaining: 1m 8s\n",
      "908:\tlearn: 0.0138474\ttotal: 11m 14s\tremaining: 1m 7s\n",
      "909:\tlearn: 0.0138294\ttotal: 11m 15s\tremaining: 1m 6s\n",
      "910:\tlearn: 0.0138051\ttotal: 11m 16s\tremaining: 1m 6s\n",
      "911:\tlearn: 0.0137840\ttotal: 11m 16s\tremaining: 1m 5s\n",
      "912:\tlearn: 0.0137408\ttotal: 11m 17s\tremaining: 1m 4s\n",
      "913:\tlearn: 0.0137157\ttotal: 11m 18s\tremaining: 1m 3s\n",
      "914:\tlearn: 0.0136734\ttotal: 11m 19s\tremaining: 1m 3s\n",
      "915:\tlearn: 0.0136628\ttotal: 11m 19s\tremaining: 1m 2s\n",
      "916:\tlearn: 0.0136466\ttotal: 11m 20s\tremaining: 1m 1s\n",
      "917:\tlearn: 0.0136108\ttotal: 11m 21s\tremaining: 1m\n",
      "918:\tlearn: 0.0135858\ttotal: 11m 22s\tremaining: 1m\n",
      "919:\tlearn: 0.0135692\ttotal: 11m 23s\tremaining: 59.4s\n",
      "920:\tlearn: 0.0135527\ttotal: 11m 24s\tremaining: 58.7s\n",
      "921:\tlearn: 0.0135375\ttotal: 11m 24s\tremaining: 57.9s\n",
      "922:\tlearn: 0.0135117\ttotal: 11m 25s\tremaining: 57.2s\n",
      "923:\tlearn: 0.0134992\ttotal: 11m 26s\tremaining: 56.4s\n",
      "924:\tlearn: 0.0134794\ttotal: 11m 26s\tremaining: 55.7s\n",
      "925:\tlearn: 0.0134504\ttotal: 11m 27s\tremaining: 54.9s\n",
      "926:\tlearn: 0.0134213\ttotal: 11m 28s\tremaining: 54.2s\n",
      "927:\tlearn: 0.0133973\ttotal: 11m 28s\tremaining: 53.5s\n",
      "928:\tlearn: 0.0133708\ttotal: 11m 29s\tremaining: 52.7s\n",
      "929:\tlearn: 0.0133337\ttotal: 11m 30s\tremaining: 52s\n",
      "930:\tlearn: 0.0133223\ttotal: 11m 30s\tremaining: 51.2s\n",
      "931:\tlearn: 0.0133027\ttotal: 11m 31s\tremaining: 50.5s\n",
      "932:\tlearn: 0.0132746\ttotal: 11m 32s\tremaining: 49.7s\n",
      "933:\tlearn: 0.0132508\ttotal: 11m 32s\tremaining: 49s\n",
      "934:\tlearn: 0.0132247\ttotal: 11m 33s\tremaining: 48.2s\n",
      "935:\tlearn: 0.0131901\ttotal: 11m 34s\tremaining: 47.5s\n",
      "936:\tlearn: 0.0131695\ttotal: 11m 35s\tremaining: 46.8s\n",
      "937:\tlearn: 0.0131568\ttotal: 11m 36s\tremaining: 46s\n",
      "938:\tlearn: 0.0131294\ttotal: 11m 37s\tremaining: 45.3s\n",
      "939:\tlearn: 0.0130943\ttotal: 11m 38s\tremaining: 44.6s\n",
      "940:\tlearn: 0.0130615\ttotal: 11m 38s\tremaining: 43.8s\n",
      "941:\tlearn: 0.0130377\ttotal: 11m 39s\tremaining: 43.1s\n",
      "942:\tlearn: 0.0130238\ttotal: 11m 40s\tremaining: 42.3s\n",
      "943:\tlearn: 0.0130064\ttotal: 11m 40s\tremaining: 41.6s\n",
      "944:\tlearn: 0.0129786\ttotal: 11m 41s\tremaining: 40.8s\n",
      "945:\tlearn: 0.0129442\ttotal: 11m 42s\tremaining: 40.1s\n",
      "946:\tlearn: 0.0129142\ttotal: 11m 42s\tremaining: 39.3s\n",
      "947:\tlearn: 0.0128920\ttotal: 11m 43s\tremaining: 38.6s\n",
      "948:\tlearn: 0.0128682\ttotal: 11m 44s\tremaining: 37.8s\n",
      "949:\tlearn: 0.0128424\ttotal: 11m 44s\tremaining: 37.1s\n",
      "950:\tlearn: 0.0128344\ttotal: 11m 45s\tremaining: 36.3s\n",
      "951:\tlearn: 0.0128151\ttotal: 11m 46s\tremaining: 35.6s\n",
      "952:\tlearn: 0.0127925\ttotal: 11m 46s\tremaining: 34.9s\n",
      "953:\tlearn: 0.0127624\ttotal: 11m 47s\tremaining: 34.1s\n",
      "954:\tlearn: 0.0127419\ttotal: 11m 49s\tremaining: 33.4s\n",
      "955:\tlearn: 0.0127215\ttotal: 11m 49s\tremaining: 32.7s\n",
      "956:\tlearn: 0.0126714\ttotal: 11m 50s\tremaining: 31.9s\n",
      "957:\tlearn: 0.0126482\ttotal: 11m 51s\tremaining: 31.2s\n",
      "958:\tlearn: 0.0126326\ttotal: 11m 52s\tremaining: 30.4s\n",
      "959:\tlearn: 0.0126076\ttotal: 11m 52s\tremaining: 29.7s\n",
      "960:\tlearn: 0.0125896\ttotal: 11m 53s\tremaining: 28.9s\n",
      "961:\tlearn: 0.0125672\ttotal: 11m 54s\tremaining: 28.2s\n",
      "962:\tlearn: 0.0125502\ttotal: 11m 54s\tremaining: 27.5s\n",
      "963:\tlearn: 0.0125366\ttotal: 11m 55s\tremaining: 26.7s\n",
      "964:\tlearn: 0.0125285\ttotal: 11m 56s\tremaining: 26s\n",
      "965:\tlearn: 0.0125028\ttotal: 11m 56s\tremaining: 25.2s\n",
      "966:\tlearn: 0.0124871\ttotal: 11m 57s\tremaining: 24.5s\n",
      "967:\tlearn: 0.0124735\ttotal: 11m 58s\tremaining: 23.7s\n",
      "968:\tlearn: 0.0124466\ttotal: 11m 58s\tremaining: 23s\n",
      "969:\tlearn: 0.0124141\ttotal: 11m 59s\tremaining: 22.3s\n",
      "970:\tlearn: 0.0124067\ttotal: 12m\tremaining: 21.5s\n",
      "971:\tlearn: 0.0123690\ttotal: 12m 1s\tremaining: 20.8s\n",
      "972:\tlearn: 0.0123424\ttotal: 12m 2s\tremaining: 20s\n",
      "973:\tlearn: 0.0123293\ttotal: 12m 3s\tremaining: 19.3s\n",
      "974:\tlearn: 0.0123105\ttotal: 12m 3s\tremaining: 18.6s\n",
      "975:\tlearn: 0.0122926\ttotal: 12m 4s\tremaining: 17.8s\n",
      "976:\tlearn: 0.0122704\ttotal: 12m 5s\tremaining: 17.1s\n",
      "977:\tlearn: 0.0122581\ttotal: 12m 5s\tremaining: 16.3s\n",
      "978:\tlearn: 0.0122419\ttotal: 12m 6s\tremaining: 15.6s\n",
      "979:\tlearn: 0.0122235\ttotal: 12m 7s\tremaining: 14.8s\n",
      "980:\tlearn: 0.0122020\ttotal: 12m 7s\tremaining: 14.1s\n",
      "981:\tlearn: 0.0121876\ttotal: 12m 8s\tremaining: 13.4s\n",
      "982:\tlearn: 0.0121544\ttotal: 12m 9s\tremaining: 12.6s\n",
      "983:\tlearn: 0.0121399\ttotal: 12m 9s\tremaining: 11.9s\n",
      "984:\tlearn: 0.0121130\ttotal: 12m 10s\tremaining: 11.1s\n",
      "985:\tlearn: 0.0120983\ttotal: 12m 11s\tremaining: 10.4s\n",
      "986:\tlearn: 0.0120891\ttotal: 12m 11s\tremaining: 9.64s\n",
      "987:\tlearn: 0.0120664\ttotal: 12m 12s\tremaining: 8.9s\n",
      "988:\tlearn: 0.0120516\ttotal: 12m 13s\tremaining: 8.16s\n",
      "989:\tlearn: 0.0120289\ttotal: 12m 14s\tremaining: 7.42s\n",
      "990:\tlearn: 0.0119994\ttotal: 12m 15s\tremaining: 6.68s\n",
      "991:\tlearn: 0.0119908\ttotal: 12m 16s\tremaining: 5.94s\n",
      "992:\tlearn: 0.0119784\ttotal: 12m 16s\tremaining: 5.19s\n",
      "993:\tlearn: 0.0119640\ttotal: 12m 17s\tremaining: 4.45s\n",
      "994:\tlearn: 0.0119416\ttotal: 12m 18s\tremaining: 3.71s\n",
      "995:\tlearn: 0.0119290\ttotal: 12m 18s\tremaining: 2.97s\n",
      "996:\tlearn: 0.0119031\ttotal: 12m 19s\tremaining: 2.23s\n",
      "997:\tlearn: 0.0118780\ttotal: 12m 20s\tremaining: 1.48s\n",
      "998:\tlearn: 0.0118634\ttotal: 12m 20s\tremaining: 742ms\n",
      "999:\tlearn: 0.0118511\ttotal: 12m 21s\tremaining: 0us\n"
     ]
    },
    {
     "data": {
      "text/plain": [
       "<catboost.core.CatBoostClassifier at 0x784df9191c60>"
      ]
     },
     "execution_count": 65,
     "metadata": {},
     "output_type": "execute_result"
    }
   ],
   "source": [
    "cbc.fit(X_train,y_train)"
   ]
  },
  {
   "cell_type": "code",
   "execution_count": 66,
   "metadata": {
    "executionInfo": {
     "elapsed": 622,
     "status": "ok",
     "timestamp": 1704713766688,
     "user": {
      "displayName": "IACSD Akurdi",
      "userId": "10433988175144222979"
     },
     "user_tz": -330
    },
    "id": "mqmlLrvx0xgL"
   },
   "outputs": [],
   "source": [
    "y_pred = cbc.predict(X_test)"
   ]
  },
  {
   "cell_type": "code",
   "execution_count": 67,
   "metadata": {
    "colab": {
     "base_uri": "https://localhost:8080/"
    },
    "executionInfo": {
     "elapsed": 6,
     "status": "ok",
     "timestamp": 1704713767346,
     "user": {
      "displayName": "IACSD Akurdi",
      "userId": "10433988175144222979"
     },
     "user_tz": -330
    },
    "id": "LHP7L04_075X",
    "outputId": "e93ca798-24ef-4c19-c262-1778095c6c38"
   },
   "outputs": [
    {
     "data": {
      "text/plain": [
       "0.9722222222222222"
      ]
     },
     "execution_count": 67,
     "metadata": {},
     "output_type": "execute_result"
    }
   ],
   "source": [
    "f1_score(y_test,y_pred, average=\"micro\")"
   ]
  },
  {
   "cell_type": "code",
   "execution_count": 68,
   "metadata": {
    "colab": {
     "base_uri": "https://localhost:8080/"
    },
    "executionInfo": {
     "elapsed": 377,
     "status": "ok",
     "timestamp": 1704713771492,
     "user": {
      "displayName": "IACSD Akurdi",
      "userId": "10433988175144222979"
     },
     "user_tz": -330
    },
    "id": "rb5KBm-P08ce",
    "outputId": "35d6a7eb-0f39-460e-90cd-35abde6e955f"
   },
   "outputs": [
    {
     "name": "stdout",
     "output_type": "stream",
     "text": [
      "              precision    recall  f1-score   support\n",
      "\n",
      "           0       0.97      0.96      0.97       600\n",
      "           1       1.00      0.99      1.00       600\n",
      "           2       0.95      0.99      0.97       600\n",
      "           3       0.98      0.98      0.98       600\n",
      "           4       0.98      0.95      0.96       600\n",
      "           5       0.95      0.96      0.96       600\n",
      "\n",
      "    accuracy                           0.97      3600\n",
      "   macro avg       0.97      0.97      0.97      3600\n",
      "weighted avg       0.97      0.97      0.97      3600\n",
      "\n"
     ]
    }
   ],
   "source": [
    "print(classification_report(y_test,y_pred ))"
   ]
  },
  {
   "cell_type": "code",
   "execution_count": null,
   "metadata": {
    "id": "cgrEdjns29T9"
   },
   "outputs": [],
   "source": []
  }
 ],
 "metadata": {
  "colab": {
   "provenance": []
  },
  "kernelspec": {
   "display_name": "Python 3 (ipykernel)",
   "language": "python",
   "name": "python3"
  },
  "language_info": {
   "codemirror_mode": {
    "name": "ipython",
    "version": 3
   },
   "file_extension": ".py",
   "mimetype": "text/x-python",
   "name": "python",
   "nbconvert_exporter": "python",
   "pygments_lexer": "ipython3",
   "version": "3.11.5"
  }
 },
 "nbformat": 4,
 "nbformat_minor": 1
}
