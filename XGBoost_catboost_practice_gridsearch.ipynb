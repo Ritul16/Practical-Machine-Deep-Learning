{
  "nbformat": 4,
  "nbformat_minor": 0,
  "metadata": {
    "colab": {
      "provenance": []
    },
    "kernelspec": {
      "name": "python3",
      "display_name": "Python 3"
    },
    "language_info": {
      "name": "python"
    }
  },
  "cells": [
    {
      "cell_type": "markdown",
      "source": [
        "# Problem Statement\n",
        "\n",
        "Classify Devnagari letters ka and kha\n",
        "\n",
        "csv file is given\n",
        "\n",
        "Target :: 'character'\n",
        "\n",
        "last columns which is name of the letter\n",
        "\n",
        "Data explaination ::\n",
        "\n",
        "two letters ka and kha\n",
        "\n",
        "1024 columns which are pixels of the image\n",
        "\n",
        "So every image is 32 * 32 size grayscale image\n",
        "\n",
        "So one column is one pixel value\n",
        "\n",
        "Every column has value between 0 - 255 ( grayscale image )\n",
        "\n",
        "0 means black color and 255 means white color\n",
        "\n"
      ],
      "metadata": {
        "id": "5XwugzIeURcm"
      }
    },
    {
      "cell_type": "code",
      "source": [
        "!unzip \"/content/drive/MyDrive/DBDA/PG-DBDA March 22/Study Material/Practical Machine Learning/6 Ensemble Learning/ka_kha_classification.zip\""
      ],
      "metadata": {
        "colab": {
          "base_uri": "https://localhost:8080/"
        },
        "id": "X2k-LeCTUxPG",
        "outputId": "3c229249-aded-4578-ffc4-135def4e340f"
      },
      "execution_count": null,
      "outputs": [
        {
          "output_type": "stream",
          "name": "stdout",
          "text": [
            "Archive:  /content/drive/MyDrive/DBDA/PG-DBDA March 22/Study Material/Practical Machine Learning/6 Ensemble Learning/ka_kha_classification.zip\n",
            "   creating: ka_kha_classification/\n",
            "  inflating: ka_kha_classification/small_image_data2.csv  \n"
          ]
        }
      ]
    },
    {
      "cell_type": "code",
      "execution_count": null,
      "metadata": {
        "id": "n7cM58F4UCKS"
      },
      "outputs": [],
      "source": [
        "import pandas as pd\n",
        "df = pd.read_csv(\"/content/ka_kha_classification/small_image_data2.csv\")"
      ]
    },
    {
      "cell_type": "code",
      "source": [
        "df.info()"
      ],
      "metadata": {
        "colab": {
          "base_uri": "https://localhost:8080/"
        },
        "id": "DYou10UcU8Qk",
        "outputId": "b9c114ed-665f-470e-d69a-3e4f7436fc5c"
      },
      "execution_count": null,
      "outputs": [
        {
          "output_type": "stream",
          "name": "stdout",
          "text": [
            "<class 'pandas.core.frame.DataFrame'>\n",
            "RangeIndex: 4000 entries, 0 to 3999\n",
            "Columns: 1026 entries, Unnamed: 0 to character\n",
            "dtypes: int64(1025), object(1)\n",
            "memory usage: 31.3+ MB\n"
          ]
        }
      ]
    },
    {
      "cell_type": "code",
      "source": [
        "df.columns"
      ],
      "metadata": {
        "colab": {
          "base_uri": "https://localhost:8080/"
        },
        "id": "eMN9qDjtU9Ft",
        "outputId": "79f1ab7f-9d7b-4e3f-8fba-27dcffa46bb9"
      },
      "execution_count": null,
      "outputs": [
        {
          "output_type": "execute_result",
          "data": {
            "text/plain": [
              "Index(['Unnamed: 0', 'pixel_0000', 'pixel_0001', 'pixel_0002', 'pixel_0003',\n",
              "       'pixel_0004', 'pixel_0005', 'pixel_0006', 'pixel_0007', 'pixel_0008',\n",
              "       ...\n",
              "       'pixel_1015', 'pixel_1016', 'pixel_1017', 'pixel_1018', 'pixel_1019',\n",
              "       'pixel_1020', 'pixel_1021', 'pixel_1022', 'pixel_1023', 'character'],\n",
              "      dtype='object', length=1026)"
            ]
          },
          "metadata": {},
          "execution_count": 5
        }
      ]
    },
    {
      "cell_type": "code",
      "source": [
        "df.shape"
      ],
      "metadata": {
        "colab": {
          "base_uri": "https://localhost:8080/"
        },
        "id": "I6jRimHWVJSj",
        "outputId": "bd54433f-4e67-4c4f-e994-145b5bc531b1"
      },
      "execution_count": null,
      "outputs": [
        {
          "output_type": "execute_result",
          "data": {
            "text/plain": [
              "(4000, 1026)"
            ]
          },
          "metadata": {},
          "execution_count": 6
        }
      ]
    },
    {
      "cell_type": "markdown",
      "source": [
        "# Soplit X, Y & train test"
      ],
      "metadata": {
        "id": "zNuLn2b2VQr0"
      }
    },
    {
      "cell_type": "code",
      "source": [
        "X = df.drop('character',axis=1)\n",
        "Y = df['character']\n",
        "X.shape,Y.shape"
      ],
      "metadata": {
        "colab": {
          "base_uri": "https://localhost:8080/"
        },
        "id": "QyjCGKMpVDBs",
        "outputId": "782df5e2-fbd3-4d5b-bfb4-d77f3101361a"
      },
      "execution_count": null,
      "outputs": [
        {
          "output_type": "execute_result",
          "data": {
            "text/plain": [
              "((4000, 1025), (4000,))"
            ]
          },
          "metadata": {},
          "execution_count": 7
        }
      ]
    },
    {
      "cell_type": "code",
      "source": [
        "# Normalization of image data\n",
        "X = X / 255"
      ],
      "metadata": {
        "id": "Z_wxbbeDZCXN"
      },
      "execution_count": null,
      "outputs": []
    },
    {
      "cell_type": "code",
      "source": [
        "from sklearn.model_selection import train_test_split\n",
        "X_train,X_test,Y_train,Y_test = train_test_split(X,Y, train_size=0.7, random_state=21)\n",
        "X_train.shape,X_test.shape,Y_train.shape,Y_test.shape"
      ],
      "metadata": {
        "colab": {
          "base_uri": "https://localhost:8080/"
        },
        "id": "yCvaHtYoY-49",
        "outputId": "a01b9d14-f333-453c-d046-272f408f92d8"
      },
      "execution_count": null,
      "outputs": [
        {
          "output_type": "execute_result",
          "data": {
            "text/plain": [
              "((2800, 1025), (1200, 1025), (2800,), (1200,))"
            ]
          },
          "metadata": {},
          "execution_count": 9
        }
      ]
    },
    {
      "cell_type": "markdown",
      "source": [
        "# Apply XGBoost from sklearn\n",
        "\n",
        "XGBoost outside sklearn --> https://xgboost.readthedocs.io/en/stable/python/python_intro.html"
      ],
      "metadata": {
        "id": "afHUFs3bZp8u"
      }
    },
    {
      "cell_type": "code",
      "source": [
        "from sklearn.ensemble import GradientBoostingClassifier"
      ],
      "metadata": {
        "id": "S1Gh8A3kZr-l"
      },
      "execution_count": null,
      "outputs": []
    },
    {
      "cell_type": "code",
      "source": [
        "xgbc = GradientBoostingClassifier(n_estimators=100, learning_rate=1.0, random_state=7)"
      ],
      "metadata": {
        "id": "gd-2FwcLaG-1"
      },
      "execution_count": null,
      "outputs": []
    },
    {
      "cell_type": "code",
      "source": [
        "xgbc.fit(X_train, Y_train)"
      ],
      "metadata": {
        "colab": {
          "base_uri": "https://localhost:8080/"
        },
        "id": "zzt8fm1jaMiG",
        "outputId": "f54ef18b-f8be-47f0-a958-cb3e4e741282"
      },
      "execution_count": null,
      "outputs": [
        {
          "output_type": "execute_result",
          "data": {
            "text/plain": [
              "GradientBoostingClassifier(learning_rate=1.0, random_state=7)"
            ]
          },
          "metadata": {},
          "execution_count": 12
        }
      ]
    },
    {
      "cell_type": "code",
      "source": [
        "Y_pred = xgbc.predict(X_test)"
      ],
      "metadata": {
        "id": "nd7tWew2aNFe"
      },
      "execution_count": null,
      "outputs": []
    },
    {
      "cell_type": "code",
      "source": [
        "from sklearn.metrics import classification_report, confusion_matrix, accuracy_score\n",
        "print(confusion_matrix(Y_test, Y_pred))\n",
        "print(classification_report(Y_test, Y_pred))\n",
        "print(accuracy_score(Y_test, Y_pred))"
      ],
      "metadata": {
        "colab": {
          "base_uri": "https://localhost:8080/"
        },
        "id": "l9yo2KIoaXHN",
        "outputId": "717f15df-9dfc-4665-c019-e25246f3e200"
      },
      "execution_count": null,
      "outputs": [
        {
          "output_type": "stream",
          "name": "stdout",
          "text": [
            "[[615   0]\n",
            " [  0 585]]\n",
            "                  precision    recall  f1-score   support\n",
            "\n",
            " character_01_ka       1.00      1.00      1.00       615\n",
            "character_02_kha       1.00      1.00      1.00       585\n",
            "\n",
            "        accuracy                           1.00      1200\n",
            "       macro avg       1.00      1.00      1.00      1200\n",
            "    weighted avg       1.00      1.00      1.00      1200\n",
            "\n",
            "1.0\n"
          ]
        }
      ]
    },
    {
      "cell_type": "markdown",
      "source": [
        "# Fine tune the XGBoost using grid search\n",
        "\n",
        "We want t ocheck following options\n",
        "\n",
        "n_estimators = [ 50, 200, 500]\n",
        "\n",
        "subsample = [0.7, 0.8, 0.9]\n",
        "\n",
        "max_depth =[ 3, 5,7]\n",
        "\n",
        "max_features = ['sqrt', 'log2']"
      ],
      "metadata": {
        "id": "ODJ7yaIQboVO"
      }
    },
    {
      "cell_type": "code",
      "source": [
        "from sklearn.model_selection import GridSearchCV\n",
        "# this is grid search CV ( cv means cross validation --> k fold cross validation)"
      ],
      "metadata": {
        "id": "7Vs4TMkvbrVN"
      },
      "execution_count": null,
      "outputs": []
    },
    {
      "cell_type": "code",
      "source": [
        "# param grid is dictionary\n",
        "# key --> name of parameter to be tuned\n",
        "# value --> list of values which you want to check\n",
        "param_grid = {\n",
        "'n_estimators' : [ 50, 200, 500],\n",
        "'subsample' : [0.7, 0.8, 0.9],\n",
        "'max_depth' :[ 3, 5,7],\n",
        "'max_features' : ['sqrt', 'log2']\n",
        "}"
      ],
      "metadata": {
        "id": "7yPDZ9CJdEX2"
      },
      "execution_count": null,
      "outputs": []
    },
    {
      "cell_type": "code",
      "source": [
        "from sklearn.ensemble import GradientBoostingClassifier"
      ],
      "metadata": {
        "id": "AIhIrWXudqB1"
      },
      "execution_count": null,
      "outputs": []
    },
    {
      "cell_type": "code",
      "source": [
        "gscv =GridSearchCV(estimator = GradientBoostingClassifier(), param_grid = param_grid, cv=2, verbose=2)"
      ],
      "metadata": {
        "id": "d4Pz9UG4czV2"
      },
      "execution_count": null,
      "outputs": []
    },
    {
      "cell_type": "code",
      "source": [
        "gscv.fit(X_train,Y_train)"
      ],
      "metadata": {
        "colab": {
          "base_uri": "https://localhost:8080/"
        },
        "id": "wt_ZFjL-e4p9",
        "outputId": "2ead5640-710d-4579-db1c-70b5f48d2842"
      },
      "execution_count": null,
      "outputs": [
        {
          "output_type": "stream",
          "name": "stdout",
          "text": [
            "Fitting 2 folds for each of 54 candidates, totalling 108 fits\n",
            "[CV] END max_depth=3, max_features=sqrt, n_estimators=50, subsample=0.7; total time=   0.4s\n",
            "[CV] END max_depth=3, max_features=sqrt, n_estimators=50, subsample=0.7; total time=   0.6s\n",
            "[CV] END max_depth=3, max_features=sqrt, n_estimators=50, subsample=0.8; total time=   0.5s\n",
            "[CV] END max_depth=3, max_features=sqrt, n_estimators=50, subsample=0.8; total time=   0.4s\n",
            "[CV] END max_depth=3, max_features=sqrt, n_estimators=50, subsample=0.9; total time=   0.3s\n",
            "[CV] END max_depth=3, max_features=sqrt, n_estimators=50, subsample=0.9; total time=   0.3s\n",
            "[CV] END max_depth=3, max_features=sqrt, n_estimators=200, subsample=0.7; total time=   0.9s\n",
            "[CV] END max_depth=3, max_features=sqrt, n_estimators=200, subsample=0.7; total time=   1.1s\n",
            "[CV] END max_depth=3, max_features=sqrt, n_estimators=200, subsample=0.8; total time=   1.4s\n",
            "[CV] END max_depth=3, max_features=sqrt, n_estimators=200, subsample=0.8; total time=   1.4s\n",
            "[CV] END max_depth=3, max_features=sqrt, n_estimators=200, subsample=0.9; total time=   1.2s\n",
            "[CV] END max_depth=3, max_features=sqrt, n_estimators=200, subsample=0.9; total time=   1.0s\n",
            "[CV] END max_depth=3, max_features=sqrt, n_estimators=500, subsample=0.7; total time=   2.2s\n",
            "[CV] END max_depth=3, max_features=sqrt, n_estimators=500, subsample=0.7; total time=   2.2s\n",
            "[CV] END max_depth=3, max_features=sqrt, n_estimators=500, subsample=0.8; total time=   2.7s\n",
            "[CV] END max_depth=3, max_features=sqrt, n_estimators=500, subsample=0.8; total time=   3.3s\n",
            "[CV] END max_depth=3, max_features=sqrt, n_estimators=500, subsample=0.9; total time=   2.6s\n",
            "[CV] END max_depth=3, max_features=sqrt, n_estimators=500, subsample=0.9; total time=   2.6s\n",
            "[CV] END max_depth=3, max_features=log2, n_estimators=50, subsample=0.7; total time=   0.1s\n",
            "[CV] END max_depth=3, max_features=log2, n_estimators=50, subsample=0.7; total time=   0.1s\n",
            "[CV] END max_depth=3, max_features=log2, n_estimators=50, subsample=0.8; total time=   0.1s\n",
            "[CV] END max_depth=3, max_features=log2, n_estimators=50, subsample=0.8; total time=   0.1s\n",
            "[CV] END max_depth=3, max_features=log2, n_estimators=50, subsample=0.9; total time=   0.1s\n",
            "[CV] END max_depth=3, max_features=log2, n_estimators=50, subsample=0.9; total time=   0.2s\n",
            "[CV] END max_depth=3, max_features=log2, n_estimators=200, subsample=0.7; total time=   0.5s\n",
            "[CV] END max_depth=3, max_features=log2, n_estimators=200, subsample=0.7; total time=   0.4s\n",
            "[CV] END max_depth=3, max_features=log2, n_estimators=200, subsample=0.8; total time=   0.5s\n",
            "[CV] END max_depth=3, max_features=log2, n_estimators=200, subsample=0.8; total time=   0.5s\n",
            "[CV] END max_depth=3, max_features=log2, n_estimators=200, subsample=0.9; total time=   0.5s\n",
            "[CV] END max_depth=3, max_features=log2, n_estimators=200, subsample=0.9; total time=   0.5s\n",
            "[CV] END max_depth=3, max_features=log2, n_estimators=500, subsample=0.7; total time=   1.1s\n",
            "[CV] END max_depth=3, max_features=log2, n_estimators=500, subsample=0.7; total time=   1.0s\n",
            "[CV] END max_depth=3, max_features=log2, n_estimators=500, subsample=0.8; total time=   1.1s\n",
            "[CV] END max_depth=3, max_features=log2, n_estimators=500, subsample=0.8; total time=   1.1s\n",
            "[CV] END max_depth=3, max_features=log2, n_estimators=500, subsample=0.9; total time=   1.2s\n",
            "[CV] END max_depth=3, max_features=log2, n_estimators=500, subsample=0.9; total time=   1.2s\n",
            "[CV] END max_depth=5, max_features=sqrt, n_estimators=50, subsample=0.7; total time=   0.4s\n",
            "[CV] END max_depth=5, max_features=sqrt, n_estimators=50, subsample=0.7; total time=   0.4s\n",
            "[CV] END max_depth=5, max_features=sqrt, n_estimators=50, subsample=0.8; total time=   0.4s\n",
            "[CV] END max_depth=5, max_features=sqrt, n_estimators=50, subsample=0.8; total time=   0.4s\n",
            "[CV] END max_depth=5, max_features=sqrt, n_estimators=50, subsample=0.9; total time=   0.5s\n",
            "[CV] END max_depth=5, max_features=sqrt, n_estimators=50, subsample=0.9; total time=   0.5s\n",
            "[CV] END max_depth=5, max_features=sqrt, n_estimators=200, subsample=0.7; total time=   1.5s\n",
            "[CV] END max_depth=5, max_features=sqrt, n_estimators=200, subsample=0.7; total time=   1.4s\n",
            "[CV] END max_depth=5, max_features=sqrt, n_estimators=200, subsample=0.8; total time=   1.6s\n",
            "[CV] END max_depth=5, max_features=sqrt, n_estimators=200, subsample=0.8; total time=   1.6s\n",
            "[CV] END max_depth=5, max_features=sqrt, n_estimators=200, subsample=0.9; total time=   1.7s\n",
            "[CV] END max_depth=5, max_features=sqrt, n_estimators=200, subsample=0.9; total time=   1.7s\n",
            "[CV] END max_depth=5, max_features=sqrt, n_estimators=500, subsample=0.7; total time=   2.4s\n",
            "[CV] END max_depth=5, max_features=sqrt, n_estimators=500, subsample=0.7; total time=   2.3s\n",
            "[CV] END max_depth=5, max_features=sqrt, n_estimators=500, subsample=0.8; total time=   2.6s\n",
            "[CV] END max_depth=5, max_features=sqrt, n_estimators=500, subsample=0.8; total time=   2.5s\n",
            "[CV] END max_depth=5, max_features=sqrt, n_estimators=500, subsample=0.9; total time=   2.7s\n",
            "[CV] END max_depth=5, max_features=sqrt, n_estimators=500, subsample=0.9; total time=   2.6s\n",
            "[CV] END max_depth=5, max_features=log2, n_estimators=50, subsample=0.7; total time=   0.2s\n",
            "[CV] END max_depth=5, max_features=log2, n_estimators=50, subsample=0.7; total time=   0.2s\n",
            "[CV] END max_depth=5, max_features=log2, n_estimators=50, subsample=0.8; total time=   0.2s\n",
            "[CV] END max_depth=5, max_features=log2, n_estimators=50, subsample=0.8; total time=   0.2s\n",
            "[CV] END max_depth=5, max_features=log2, n_estimators=50, subsample=0.9; total time=   0.2s\n",
            "[CV] END max_depth=5, max_features=log2, n_estimators=50, subsample=0.9; total time=   0.2s\n",
            "[CV] END max_depth=5, max_features=log2, n_estimators=200, subsample=0.7; total time=   0.7s\n",
            "[CV] END max_depth=5, max_features=log2, n_estimators=200, subsample=0.7; total time=   0.7s\n",
            "[CV] END max_depth=5, max_features=log2, n_estimators=200, subsample=0.8; total time=   0.8s\n",
            "[CV] END max_depth=5, max_features=log2, n_estimators=200, subsample=0.8; total time=   0.8s\n",
            "[CV] END max_depth=5, max_features=log2, n_estimators=200, subsample=0.9; total time=   0.8s\n",
            "[CV] END max_depth=5, max_features=log2, n_estimators=200, subsample=0.9; total time=   0.8s\n",
            "[CV] END max_depth=5, max_features=log2, n_estimators=500, subsample=0.7; total time=   1.6s\n",
            "[CV] END max_depth=5, max_features=log2, n_estimators=500, subsample=0.7; total time=   1.5s\n",
            "[CV] END max_depth=5, max_features=log2, n_estimators=500, subsample=0.8; total time=   1.6s\n",
            "[CV] END max_depth=5, max_features=log2, n_estimators=500, subsample=0.8; total time=   1.6s\n",
            "[CV] END max_depth=5, max_features=log2, n_estimators=500, subsample=0.9; total time=   1.6s\n",
            "[CV] END max_depth=5, max_features=log2, n_estimators=500, subsample=0.9; total time=   1.6s\n",
            "[CV] END max_depth=7, max_features=sqrt, n_estimators=50, subsample=0.7; total time=   0.6s\n",
            "[CV] END max_depth=7, max_features=sqrt, n_estimators=50, subsample=0.7; total time=   0.6s\n",
            "[CV] END max_depth=7, max_features=sqrt, n_estimators=50, subsample=0.8; total time=   0.6s\n",
            "[CV] END max_depth=7, max_features=sqrt, n_estimators=50, subsample=0.8; total time=   0.6s\n",
            "[CV] END max_depth=7, max_features=sqrt, n_estimators=50, subsample=0.9; total time=   0.7s\n",
            "[CV] END max_depth=7, max_features=sqrt, n_estimators=50, subsample=0.9; total time=   0.7s\n",
            "[CV] END max_depth=7, max_features=sqrt, n_estimators=200, subsample=0.7; total time=   2.2s\n",
            "[CV] END max_depth=7, max_features=sqrt, n_estimators=200, subsample=0.7; total time=   2.3s\n",
            "[CV] END max_depth=7, max_features=sqrt, n_estimators=200, subsample=0.8; total time=   2.5s\n",
            "[CV] END max_depth=7, max_features=sqrt, n_estimators=200, subsample=0.8; total time=   2.5s\n",
            "[CV] END max_depth=7, max_features=sqrt, n_estimators=200, subsample=0.9; total time=   2.8s\n",
            "[CV] END max_depth=7, max_features=sqrt, n_estimators=200, subsample=0.9; total time=   2.7s\n",
            "[CV] END max_depth=7, max_features=sqrt, n_estimators=500, subsample=0.7; total time=   2.9s\n",
            "[CV] END max_depth=7, max_features=sqrt, n_estimators=500, subsample=0.7; total time=   2.8s\n",
            "[CV] END max_depth=7, max_features=sqrt, n_estimators=500, subsample=0.8; total time=   2.9s\n",
            "[CV] END max_depth=7, max_features=sqrt, n_estimators=500, subsample=0.8; total time=   3.2s\n",
            "[CV] END max_depth=7, max_features=sqrt, n_estimators=500, subsample=0.9; total time=   2.9s\n",
            "[CV] END max_depth=7, max_features=sqrt, n_estimators=500, subsample=0.9; total time=   2.9s\n",
            "[CV] END max_depth=7, max_features=log2, n_estimators=50, subsample=0.7; total time=   0.4s\n",
            "[CV] END max_depth=7, max_features=log2, n_estimators=50, subsample=0.7; total time=   0.3s\n",
            "[CV] END max_depth=7, max_features=log2, n_estimators=50, subsample=0.8; total time=   0.4s\n",
            "[CV] END max_depth=7, max_features=log2, n_estimators=50, subsample=0.8; total time=   0.4s\n",
            "[CV] END max_depth=7, max_features=log2, n_estimators=50, subsample=0.9; total time=   0.4s\n",
            "[CV] END max_depth=7, max_features=log2, n_estimators=50, subsample=0.9; total time=   0.4s\n",
            "[CV] END max_depth=7, max_features=log2, n_estimators=200, subsample=0.7; total time=   1.2s\n",
            "[CV] END max_depth=7, max_features=log2, n_estimators=200, subsample=0.7; total time=   1.2s\n",
            "[CV] END max_depth=7, max_features=log2, n_estimators=200, subsample=0.8; total time=   1.3s\n",
            "[CV] END max_depth=7, max_features=log2, n_estimators=200, subsample=0.8; total time=   1.3s\n",
            "[CV] END max_depth=7, max_features=log2, n_estimators=200, subsample=0.9; total time=   1.4s\n",
            "[CV] END max_depth=7, max_features=log2, n_estimators=200, subsample=0.9; total time=   1.5s\n",
            "[CV] END max_depth=7, max_features=log2, n_estimators=500, subsample=0.7; total time=   1.9s\n",
            "[CV] END max_depth=7, max_features=log2, n_estimators=500, subsample=0.7; total time=   1.8s\n",
            "[CV] END max_depth=7, max_features=log2, n_estimators=500, subsample=0.8; total time=   1.8s\n",
            "[CV] END max_depth=7, max_features=log2, n_estimators=500, subsample=0.8; total time=   2.2s\n",
            "[CV] END max_depth=7, max_features=log2, n_estimators=500, subsample=0.9; total time=   2.8s\n",
            "[CV] END max_depth=7, max_features=log2, n_estimators=500, subsample=0.9; total time=   1.8s\n"
          ]
        },
        {
          "output_type": "execute_result",
          "data": {
            "text/plain": [
              "GridSearchCV(cv=2, estimator=GradientBoostingClassifier(),\n",
              "             param_grid={'max_depth': [3, 5, 7],\n",
              "                         'max_features': ['sqrt', 'log2'],\n",
              "                         'n_estimators': [50, 200, 500],\n",
              "                         'subsample': [0.7, 0.8, 0.9]},\n",
              "             verbose=2)"
            ]
          },
          "metadata": {},
          "execution_count": 25
        }
      ]
    },
    {
      "cell_type": "code",
      "source": [
        "gscv.best_params_ # best params may differ --> because random selection of CV rows"
      ],
      "metadata": {
        "colab": {
          "base_uri": "https://localhost:8080/"
        },
        "id": "3pxxl99zfA_G",
        "outputId": "eb594eb6-c28d-4c14-d18c-fcfa7fc65a4b"
      },
      "execution_count": null,
      "outputs": [
        {
          "output_type": "execute_result",
          "data": {
            "text/plain": [
              "{'max_depth': 3, 'max_features': 'sqrt', 'n_estimators': 500, 'subsample': 0.9}"
            ]
          },
          "metadata": {},
          "execution_count": 26
        }
      ]
    },
    {
      "cell_type": "code",
      "source": [
        "gscv.cv_results_['mean_test_score']"
      ],
      "metadata": {
        "colab": {
          "base_uri": "https://localhost:8080/"
        },
        "id": "peObz8cDhmxt",
        "outputId": "4e968fe0-2071-4de3-ed80-8d9638ee2dcb"
      },
      "execution_count": null,
      "outputs": [
        {
          "output_type": "execute_result",
          "data": {
            "text/plain": [
              "array([0.98392857, 0.99071429, 0.9825    , 0.99535714, 0.9975    ,\n",
              "       0.99535714, 0.99678571, 0.99785714, 0.99821429, 0.97      ,\n",
              "       0.97714286, 0.9775    , 0.98428571, 0.98928571, 0.98964286,\n",
              "       0.99285714, 0.99357143, 0.995     , 0.99285714, 0.99357143,\n",
              "       0.99428571, 0.99642857, 0.99714286, 0.99678571, 0.9975    ,\n",
              "       0.99821429, 0.99678571, 0.98857143, 0.98642857, 0.98785714,\n",
              "       0.99321429, 0.99214286, 0.99142857, 0.99535714, 0.9925    ,\n",
              "       0.99428571, 0.99      , 0.99392857, 0.9925    , 0.99714286,\n",
              "       0.99678571, 0.99607143, 0.99678571, 0.99642857, 0.99678571,\n",
              "       0.98821429, 0.99035714, 0.98571429, 0.99285714, 0.9925    ,\n",
              "       0.99142857, 0.99321429, 0.99392857, 0.99357143])"
            ]
          },
          "metadata": {},
          "execution_count": 27
        }
      ]
    },
    {
      "cell_type": "code",
      "source": [
        "gscv.cv_results_['mean_test_score'].max()"
      ],
      "metadata": {
        "colab": {
          "base_uri": "https://localhost:8080/"
        },
        "id": "l0w9oux7hoh9",
        "outputId": "cfd86674-bd6b-4b89-8526-89b8ff927d87"
      },
      "execution_count": null,
      "outputs": [
        {
          "output_type": "execute_result",
          "data": {
            "text/plain": [
              "0.9982142857142857"
            ]
          },
          "metadata": {},
          "execution_count": 28
        }
      ]
    },
    {
      "cell_type": "code",
      "source": [],
      "metadata": {
        "id": "er_ueaj8hz19"
      },
      "execution_count": null,
      "outputs": []
    }
  ]
}